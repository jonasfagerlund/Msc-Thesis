{
 "cells": [
  {
   "cell_type": "code",
   "execution_count": 1,
   "metadata": {},
   "outputs": [],
   "source": [
    "import pandas as pd\n",
    "import numpy as np\n",
    "\n",
    "df = pd.read_stata(\"./serrano/serrano_2024_Stata/serrano.dta\")"
   ]
  },
  {
   "cell_type": "code",
   "execution_count": 162,
   "metadata": {},
   "outputs": [
    {
     "data": {
      "text/plain": [
       "15327519"
      ]
     },
     "metadata": {},
     "output_type": "display_data"
    },
    {
     "data": {
      "text/plain": [
       "1550192"
      ]
     },
     "metadata": {},
     "output_type": "display_data"
    }
   ],
   "source": [
    "display(len(df))\n",
    "display(df[\"ORGNR\"].nunique())"
   ]
  },
  {
   "cell_type": "markdown",
   "metadata": {},
   "source": [
    "# General Filters"
   ]
  },
  {
   "cell_type": "code",
   "execution_count": 163,
   "metadata": {},
   "outputs": [],
   "source": [
    "\"\"\"\n",
    "These filter should be thought through and written about in the methodology section.\n",
    "We want to avoid cherry-picking the data, but we also want to avoid including data that is not relevant to the study.\n",
    "\n",
    "We also want to avoid survuvalrship bias, i.e., we want to avoid including only the companies that have survived.\n",
    "\"\"\"\n",
    "# Maybe add something about negative equity, i.e., companies that are bankrupt or close to bankruptcy.\n",
    "filtered_df = df[(df['ser_year'] >= 2011) & # 2012-2019 for final dataset, stable period with no major economic crises, here 2011 so we can get growth measures for 2012\n",
    "                 (df['ser_year'] <= 2019) & # and stable interest rates, bnp growth, inflation\n",
    "                 (df['ser_jurform'] == 49) & # aktiebolag\n",
    "                 (df['ser_aktiv'] == 1) & # active companies\n",
    "                 (df['ser_ftgkategori'] == 30) & # private companies, i.e., not state-owned etc.\n",
    "                 (df['ser_stklf'] >= 2) & # companies with at least 10 employee for final dataset. Include smaller here to then drop\n",
    "                 (df['knc_kncfall'] == 1) & # only include independet companies, i.e., not subsidiaries or parent companies THIS IS UP FOR DEBATE\n",
    "                 (df['rr01_ntoms'] > 0) & # remove companies with no turnover\n",
    "                 (df['ser_inregyr'] == 1)] # only include companies that are registered at SCB (just three observations are not)\n",
    "# unsure about the last one, might remove to make the dataset larger."
   ]
  },
  {
   "cell_type": "code",
   "execution_count": 164,
   "metadata": {},
   "outputs": [
    {
     "data": {
      "text/plain": [
       "310859"
      ]
     },
     "metadata": {},
     "output_type": "display_data"
    },
    {
     "data": {
      "text/plain": [
       "72117"
      ]
     },
     "metadata": {},
     "output_type": "display_data"
    }
   ],
   "source": [
    "display(len(filtered_df))\n",
    "display(filtered_df[\"ORGNR\"].nunique())"
   ]
  },
  {
   "cell_type": "code",
   "execution_count": 165,
   "metadata": {},
   "outputs": [],
   "source": [
    "# Sort the dataframe so ORGNR are together and sorted by year after that.\n",
    "filtered_df = filtered_df.sort_values(by=[\"ORGNR\", \"ser_year\"])"
   ]
  },
  {
   "cell_type": "code",
   "execution_count": 166,
   "metadata": {},
   "outputs": [
    {
     "data": {
      "text/plain": [
       "ser_year\n",
       "2011.0    35012\n",
       "2018.0    34734\n",
       "2016.0    34699\n",
       "2012.0    34672\n",
       "2017.0    34580\n",
       "2019.0    34415\n",
       "2013.0    34368\n",
       "2015.0    34352\n",
       "2014.0    34027\n",
       "Name: count, dtype: int64"
      ]
     },
     "execution_count": 166,
     "metadata": {},
     "output_type": "execute_result"
    }
   ],
   "source": [
    "filtered_df[\"ser_year\"].value_counts()"
   ]
  },
  {
   "cell_type": "code",
   "execution_count": 68,
   "metadata": {},
   "outputs": [
    {
     "data": {
      "text/plain": [
       "'\\nOnly include companies that fit all criteria in order, no year should be missing from the series.\\n\\nMaybe do this.\\n'"
      ]
     },
     "execution_count": 68,
     "metadata": {},
     "output_type": "execute_result"
    }
   ],
   "source": [
    "\"\"\"\n",
    "Only include companies that fit all criteria in order, no year should be missing from the series.\n",
    "\n",
    "Maybe do this.\n",
    "\"\"\""
   ]
  },
  {
   "cell_type": "markdown",
   "metadata": {},
   "source": [
    "# Growth Variable"
   ]
  },
  {
   "cell_type": "code",
   "execution_count": 167,
   "metadata": {},
   "outputs": [
    {
     "name": "stderr",
     "output_type": "stream",
     "text": [
      "/var/folders/pd/d0m27jy17d36rd2w_8y762cr0000gn/T/ipykernel_41522/3022460389.py:13: DeprecationWarning: DataFrameGroupBy.apply operated on the grouping columns. This behavior is deprecated, and in a future version of pandas the grouping columns will be excluded from the operation. Either pass `include_groups=False` to exclude the groupings or explicitly select the grouping columns after groupby to silence this warning.\n",
      "  filtered_df['HIGH_GROWTH'] = filtered_df.groupby('ORGNR').apply(\n"
     ]
    }
   ],
   "source": [
    "\"\"\"\n",
    "Adding a variable for growth.\n",
    "\n",
    "This is according to OECD's definition of high-growth firms,\n",
    "which is defined as firms with an average annualized growth greater than 20%\n",
    "per annum over a three-year period, and with ten or more employees at the beginning of the period.\n",
    "\"\"\"\n",
    "\n",
    "# Calculate the annual growth rate for each company and add it as a new column\n",
    "filtered_df['TURNOVER_GROWTH'] = filtered_df.groupby('ORGNR')['rr01_ntoms'].pct_change()\n",
    "\n",
    "# Identify high-growth periods and create a new binary column\n",
    "filtered_df['HIGH_GROWTH'] = filtered_df.groupby('ORGNR').apply(\n",
    "    lambda x: ((x['TURNOVER_GROWTH'] > 0.20).rolling(window=3).sum() == 3)\n",
    ").reset_index(level=0, drop=True).astype(int)\n",
    "\n"
   ]
  },
  {
   "cell_type": "code",
   "execution_count": 168,
   "metadata": {},
   "outputs": [
    {
     "name": "stderr",
     "output_type": "stream",
     "text": [
      "/var/folders/pd/d0m27jy17d36rd2w_8y762cr0000gn/T/ipykernel_41522/185192981.py:7: FutureWarning: The default fill_method='ffill' in SeriesGroupBy.pct_change is deprecated and will be removed in a future version. Either fill in any non-leading NA values prior to calling pct_change or specify 'fill_method=None' to not fill NA values.\n",
      "  filtered_df['GROWTH_OPPORTUNITIES_ASSETS'] = filtered_df.groupby('ORGNR')['br09_tillgsu'].pct_change()\n"
     ]
    }
   ],
   "source": [
    "\"\"\"\n",
    "Asset growth here. It is a dependet variable in the model but needs to be defined\n",
    "here before we delete the observations below to reduce the amount of NaNs\n",
    "\"\"\"\n",
    "\n",
    "# % change in total assets\n",
    "filtered_df['GROWTH_OPPORTUNITIES_ASSETS'] = filtered_df.groupby('ORGNR')['br09_tillgsu'].pct_change()"
   ]
  },
  {
   "cell_type": "code",
   "execution_count": 169,
   "metadata": {},
   "outputs": [],
   "source": [
    "\"\"\"\n",
    "Drop 2011 observaitons. It was only included to calculate the growth rate for 2012.\n",
    "\n",
    "Drop companies w/ fewer than 10 employees. They were included to calculate the growth for companies that are included in the final dataset.\n",
    "\"\"\"\n",
    "filtered_df = filtered_df[filtered_df[\"ser_year\"] != 2011]\n",
    "filtered_df = filtered_df[filtered_df[\"ser_stklf\"] != 2]"
   ]
  },
  {
   "cell_type": "code",
   "execution_count": 175,
   "metadata": {},
   "outputs": [],
   "source": [
    "# drop companies w/ growth rates that are NaN\n",
    "filtered_df = filtered_df.dropna(subset=[\"TURNOVER_GROWTH\"])\n",
    "\n",
    "# drop companies w/ growth rates that are exactly 0. For now I don't know how to handle these or where they stem from.\n",
    "# Since we only include compaines with positive turnover, this should not be a problem.\n",
    "filtered_df = filtered_df[filtered_df[\"TURNOVER_GROWTH\"] != 0]\n",
    "\n",
    "# Drop companies with NaN in the growth rate for assets\n",
    "filtered_df = filtered_df.dropna(subset=[\"GROWTH_OPPORTUNITIES_ASSETS\"])"
   ]
  },
  {
   "cell_type": "code",
   "execution_count": 177,
   "metadata": {},
   "outputs": [
    {
     "data": {
      "text/plain": [
       "HIGH_GROWTH\n",
       "0    87113\n",
       "1     2738\n",
       "Name: count, dtype: int64"
      ]
     },
     "execution_count": 177,
     "metadata": {},
     "output_type": "execute_result"
    }
   ],
   "source": [
    "filtered_df[\"HIGH_GROWTH\"].value_counts()"
   ]
  },
  {
   "cell_type": "markdown",
   "metadata": {},
   "source": [
    "# Industry Variable"
   ]
  },
  {
   "cell_type": "code",
   "execution_count": 178,
   "metadata": {},
   "outputs": [],
   "source": [
    "\"\"\"\n",
    "There are a lot of columns in the dataset that is about the comapnies industry, a lot of different SNI codes.\n",
    "But we've decided to use the 'bransch_borsbransch_konv' column as the industry variable. Which is a conversion of the SNI codes\n",
    "to fewer branches.\n",
    "\n",
    "Some companies have changed industry over time, so we determine the most frequent industry for each company and add it as a new column\n",
    "to each row assicated with that company.\n",
    "\"\"\"\n",
    "\n",
    "# add one industry to all companies.\n",
    "dict_of_industries = {\n",
    "    10: 'Energy & Environment',\n",
    "    15: 'Materials',\n",
    "    20: 'Industrial goods',\n",
    "    22: 'Construction industry',\n",
    "    25: 'Shopping goods',\n",
    "    30: 'Convenience goods',\n",
    "    35: 'Health & Education',\n",
    "    40: 'Finance & Real estate',\n",
    "    45: 'IT & Electronics',\n",
    "    50: 'Telecom & Media',\n",
    "    60: 'Corporate services',\n",
    "    98: 'Other',\n",
    "    99: 'SNI07 missing'\n",
    "}\n",
    "\n",
    "# Determine the most frequent 'bransch_borsbransch_konv' value for each company\n",
    "most_frequent_industry = filtered_df.groupby('ORGNR')['bransch_borsbransch_konv'].agg(lambda x: x.mode()[0])\n",
    "\n",
    "# Map the most frequent 'bransch_borsbransch_konv' value to the corresponding industry name\n",
    "most_frequent_industry = most_frequent_industry.map(dict_of_industries)\n",
    "\n",
    "# Add the new 'INDUSTRY' column to the DataFrame\n",
    "filtered_df = filtered_df.merge(most_frequent_industry.rename('INDUSTRY'), on='ORGNR')\n",
    "\n",
    "# Filter out rows where the 'INDUSTRY' column is 'SNI07 missing' or 'Other'\n",
    "filtered_df = filtered_df[~filtered_df['INDUSTRY'].isin(['SNI07 missing', 'Other'])]"
   ]
  },
  {
   "cell_type": "markdown",
   "metadata": {},
   "source": [
    "# Variables"
   ]
  },
  {
   "cell_type": "code",
   "execution_count": 182,
   "metadata": {},
   "outputs": [
    {
     "data": {
      "text/plain": [
       "88322"
      ]
     },
     "metadata": {},
     "output_type": "display_data"
    },
    {
     "data": {
      "text/plain": [
       "23593"
      ]
     },
     "metadata": {},
     "output_type": "display_data"
    }
   ],
   "source": [
    "display(len(filtered_df))\n",
    "display(filtered_df[\"ORGNR\"].nunique())"
   ]
  },
  {
   "cell_type": "code",
   "execution_count": 183,
   "metadata": {},
   "outputs": [],
   "source": [
    "\"\"\"\n",
    "Some more filtering to remove weird values.\n",
    "\n",
    "Negative assets, negative debt etc.\n",
    "\n",
    "It removes about 150 observations.\n",
    "\"\"\"\n",
    "\n",
    "# drop observations with no assets\n",
    "filtered_df = filtered_df[filtered_df[\"br09_tillgsu\"] > 0]\n",
    "\n",
    "# drop observations with negative tangible assets\n",
    "filtered_df = filtered_df[filtered_df[\"br02_matanlsu\"] >= 0]\n",
    "\n",
    "# drop observations with negative current assets\n",
    "filtered_df = filtered_df[filtered_df[\"br08_omstgsu\"] > 0]\n",
    "\n",
    "# drop observations with negative inventories\n",
    "filtered_df = filtered_df[filtered_df[\"br06c_lagersu\"] >= 0]\n",
    "\n",
    "# drop observations with positive depreciation\n",
    "filtered_df = filtered_df[filtered_df[\"rr05_avskriv\"] <= 0]\n",
    "\n",
    "# drop one weird outlier when it comes to interest expenses\n",
    "filtered_df = filtered_df[filtered_df[\"rr09_finkostn\"] > -200000]\n",
    "\n",
    "# drop observations with negative long-term debt\n",
    "filtered_df = filtered_df[filtered_df[\"br15_lsksu\"] >= 0]\n",
    "\n",
    "# drop observations with negative short-term debt\n",
    "filtered_df = filtered_df[filtered_df[\"br13_ksksu\"] > 0]"
   ]
  },
  {
   "cell_type": "code",
   "execution_count": 184,
   "metadata": {},
   "outputs": [
    {
     "data": {
      "text/plain": [
       "88322"
      ]
     },
     "metadata": {},
     "output_type": "display_data"
    },
    {
     "data": {
      "text/plain": [
       "23593"
      ]
     },
     "metadata": {},
     "output_type": "display_data"
    }
   ],
   "source": [
    "display(len(filtered_df))\n",
    "display(filtered_df[\"ORGNR\"].nunique())"
   ]
  },
  {
   "cell_type": "markdown",
   "metadata": {},
   "source": [
    "## Independent"
   ]
  },
  {
   "cell_type": "code",
   "execution_count": 185,
   "metadata": {},
   "outputs": [],
   "source": [
    "\"\"\"\n",
    "Firm size\n",
    "\n",
    "Some articles use the log of sales, others the log of assets. We'll add both to the dataset and see which one works best.\n",
    "\"\"\"\n",
    "\n",
    "filtered_df[\"SIZE_LOG_ASSETS\"] = np.log(filtered_df[\"br09_tillgsu\"])\n",
    "filtered_df[\"SIZE_LOG_SALES\"] = np.log(filtered_df[\"rr01_ntoms\"])"
   ]
  },
  {
   "cell_type": "code",
   "execution_count": 186,
   "metadata": {},
   "outputs": [],
   "source": [
    "\"\"\"\n",
    "Asset tangibility\n",
    "\n",
    "Most common thing to add as a proxy is the ratio of tangible fixed assets to total assets.\n",
    "Maybe include intangible assets as well, are such assets (patents, brands etc) used as collateral?\n",
    "\n",
    "There are quite a lot of companies with 0 tangible assets (8000 observations), which is a bit strange. Maybe we should remove those.\n",
    "\"\"\"\n",
    "\n",
    "# tangible assets / total assets\n",
    "filtered_df[\"ASSET_TANGIBILITY\"] = filtered_df[\"br02_matanlsu\"] / filtered_df[\"br09_tillgsu\"]"
   ]
  },
  {
   "cell_type": "code",
   "execution_count": 187,
   "metadata": {},
   "outputs": [],
   "source": [
    "\"\"\"\n",
    "liquidity on debt\n",
    "\n",
    "Cole use cash and cash equivalents to total assets, but we could also use current ratio or quick ratio.\n",
    "\"\"\"\n",
    "\n",
    "# Liquid assets (cash and market securities) to total assets\n",
    "filtered_df[\"LIQUIDITY\"] = filtered_df[\"br07_kplackaba\"] / filtered_df[\"br09_tillgsu\"]\n",
    "\n",
    "# Current ratio: current assets divided by current liabilities\n",
    "filtered_df[\"CURRENT_RATIO\"] = filtered_df[\"br08_omstgsu\"] / filtered_df[\"br13_ksksu\"]\n",
    "\n",
    "# Quick ratio: (current assets - inventory) divided by current liabilities\n",
    "filtered_df[\"QUICK_RATIO\"] = (filtered_df[\"br08_omstgsu\"] - filtered_df[\"br06c_lagersu\"]) / filtered_df[\"br13_ksksu\"]\n"
   ]
  },
  {
   "cell_type": "code",
   "execution_count": 188,
   "metadata": {},
   "outputs": [
    {
     "data": {
      "text/plain": [
       "ny_vinstprc\n",
       "0.000000    63\n",
       "0.062500     6\n",
       "0.052632     4\n",
       "0.061224     4\n",
       "0.064516     4\n",
       "            ..\n",
       "0.046418     1\n",
       "0.023444     1\n",
       "0.049516     1\n",
       "0.009657     1\n",
       "0.022095     1\n",
       "Name: count, Length: 87966, dtype: int64"
      ]
     },
     "execution_count": 188,
     "metadata": {},
     "output_type": "execute_result"
    }
   ],
   "source": [
    "\"\"\"\n",
    "Profitability\n",
    "\n",
    "There are many measures for this, RoA, RoE, operating margin, net margin etc.\n",
    "\"\"\"\n",
    "\n",
    "# Profit margin according to serrano is already defined as 'ny_vinstprc'\n",
    "\n",
    "filtered_df['ny_vinstprc'].value_counts(dropna=False)"
   ]
  },
  {
   "cell_type": "code",
   "execution_count": 189,
   "metadata": {},
   "outputs": [],
   "source": [
    "\"\"\"\n",
    "Tax shields\n",
    "\n",
    "For now I only find definition in Vanacker & Manigart (2010).\n",
    "\"\"\"\n",
    "\n",
    "# Debt tax shields: Interest expenses / Total Assets\n",
    "filtered_df['DEBT_TAX_SHIELDS'] = filtered_df['rr09_finkostn'] / filtered_df['br09_tillgsu']\n",
    "\n",
    "# Non-debt tax shields: Depreciation and amortization / Total Assets\n",
    "filtered_df['NON_DEBT_TAX_SHIELDS'] = filtered_df['rr05_avskriv'] / filtered_df['br09_tillgsu']"
   ]
  },
  {
   "cell_type": "code",
   "execution_count": 125,
   "metadata": {},
   "outputs": [
    {
     "data": {
      "text/plain": [
       "'\\nTax\\n\\nDo we mean the corporate tax in Sweden or the % tax the companies actually pay?\\n'"
      ]
     },
     "execution_count": 125,
     "metadata": {},
     "output_type": "execute_result"
    }
   ],
   "source": [
    "\"\"\"\n",
    "Tax\n",
    "\n",
    "Do we mean the corporate tax in Sweden or the % tax the companies actually pay?\n",
    "\"\"\""
   ]
  },
  {
   "cell_type": "code",
   "execution_count": null,
   "metadata": {},
   "outputs": [
    {
     "data": {
      "text/plain": [
       "'\\nGrowth opportunities\\n\\nSome have change in sales too. But that gets weird for us since that is what we use to determine HGFs.\\n'"
      ]
     },
     "execution_count": 127,
     "metadata": {},
     "output_type": "execute_result"
    }
   ],
   "source": [
    "\"\"\"\n",
    "Growth opportunities\n",
    "\n",
    "Some have change in sales too. But that gets weird for us since that is what we use to determine HGFs.\n",
    "\n",
    "This is defined further up in the code. Before filtering stuff needed to calculate it.\n",
    "\"\"\"\n"
   ]
  },
  {
   "cell_type": "code",
   "execution_count": 192,
   "metadata": {},
   "outputs": [],
   "source": [
    "\"\"\"\n",
    "Age\n",
    "\n",
    "Need to discuss this since age could be year incorporated vs todays date, or 2019, or for every year of observation\n",
    "for one company.\n",
    "\"\"\"\n",
    "\n",
    "# Change reg date to only year\n",
    "filtered_df[\"ser_regdat\"] = pd.to_datetime(filtered_df[\"ser_regdat\"])\n",
    "filtered_df[\"ser_regdat\"] = filtered_df[\"ser_regdat\"].dt.year\n",
    "\n",
    "# Age of the company (year of observation - year of registration)\n",
    "filtered_df[\"AGE\"] = filtered_df[\"ser_year\"] - filtered_df[\"ser_regdat\"]"
   ]
  },
  {
   "cell_type": "markdown",
   "metadata": {},
   "source": [
    "## Dependent"
   ]
  },
  {
   "cell_type": "code",
   "execution_count": 193,
   "metadata": {},
   "outputs": [],
   "source": [
    "\"\"\"\n",
    "Leverage\n",
    "\"\"\"\n",
    "\n",
    "# Total debt to total assets\n",
    "filtered_df['LEVERAGE_TOTAL'] = (filtered_df['br15_lsksu'] + filtered_df['br13_ksksu']) / filtered_df['br09_tillgsu']\n",
    "\n",
    "# Long-term debt to total assets (all non-current liabilities, could be other things)\n",
    "filtered_df['LEVERAGE_LONG'] = filtered_df['br15_lsksu'] / filtered_df['br09_tillgsu']\n",
    "\n",
    "# Short-term debt to total assets (all current liabilities, could be other things)\n",
    "filtered_df['LEVERAGE_SHORT'] = filtered_df['br13_ksksu'] / filtered_df['br09_tillgsu']"
   ]
  },
  {
   "cell_type": "markdown",
   "metadata": {},
   "source": [
    "# More filters"
   ]
  },
  {
   "cell_type": "code",
   "execution_count": 196,
   "metadata": {},
   "outputs": [
    {
     "data": {
      "text/plain": [
       "88322"
      ]
     },
     "metadata": {},
     "output_type": "display_data"
    },
    {
     "data": {
      "text/plain": [
       "23593"
      ]
     },
     "metadata": {},
     "output_type": "display_data"
    }
   ],
   "source": [
    "display(len(filtered_df))\n",
    "display(len(filtered_df[\"ORGNR\"].unique()))"
   ]
  },
  {
   "cell_type": "code",
   "execution_count": 197,
   "metadata": {},
   "outputs": [],
   "source": [
    "# only keep companies that have at least 3 years of data\n",
    "filtered_df = filtered_df.groupby(\"ORGNR\").filter(lambda x: len(x) >= 3)"
   ]
  },
  {
   "cell_type": "code",
   "execution_count": 198,
   "metadata": {},
   "outputs": [
    {
     "data": {
      "text/plain": [
       "73977"
      ]
     },
     "metadata": {},
     "output_type": "display_data"
    },
    {
     "data": {
      "text/plain": [
       "13535"
      ]
     },
     "metadata": {},
     "output_type": "display_data"
    }
   ],
   "source": [
    "display(len(filtered_df))\n",
    "display(len(filtered_df[\"ORGNR\"].unique()))"
   ]
  },
  {
   "cell_type": "markdown",
   "metadata": {},
   "source": [
    "# Misc."
   ]
  },
  {
   "cell_type": "code",
   "execution_count": 97,
   "metadata": {},
   "outputs": [],
   "source": [
    "# save to a excel file\n",
    "filtered_df.head(10000).to_excel(\"filtered_df.xlsx\", index=False)\n",
    "\n",
    "# cheking stuff\n",
    "#filtered_df[\"br15_lsksu\"].value_counts(dropna=False)\n",
    "# see if any company have negative br09_tillgsu\n",
    "#filtered_df[filtered_df[\"br15_lsksu\"] < 0]\n",
    "#filtered_df[\"rr09_finkostn\"].describe()"
   ]
  },
  {
   "cell_type": "markdown",
   "metadata": {},
   "source": [
    "# Hausmann test"
   ]
  },
  {
   "cell_type": "code",
   "execution_count": 199,
   "metadata": {},
   "outputs": [
    {
     "data": {
      "text/plain": [
       "73977"
      ]
     },
     "metadata": {},
     "output_type": "display_data"
    },
    {
     "data": {
      "text/plain": [
       "13535"
      ]
     },
     "metadata": {},
     "output_type": "display_data"
    },
    {
     "data": {
      "text/html": [
       "<div>\n",
       "<style scoped>\n",
       "    .dataframe tbody tr th:only-of-type {\n",
       "        vertical-align: middle;\n",
       "    }\n",
       "\n",
       "    .dataframe tbody tr th {\n",
       "        vertical-align: top;\n",
       "    }\n",
       "\n",
       "    .dataframe thead th {\n",
       "        text-align: right;\n",
       "    }\n",
       "</style>\n",
       "<table border=\"1\" class=\"dataframe\">\n",
       "  <thead>\n",
       "    <tr style=\"text-align: right;\">\n",
       "      <th></th>\n",
       "      <th>ORGNR</th>\n",
       "      <th>ser_jurform</th>\n",
       "      <th>ser_year</th>\n",
       "      <th>ser_pnr</th>\n",
       "      <th>bransch_sni1</th>\n",
       "      <th>ser_aas</th>\n",
       "      <th>ser_inregyr</th>\n",
       "      <th>bransch_sni2</th>\n",
       "      <th>bransch_sni3</th>\n",
       "      <th>bransch_sni4</th>\n",
       "      <th>...</th>\n",
       "      <th>ASSET_TANGIBILITY</th>\n",
       "      <th>LIQUIDITY</th>\n",
       "      <th>CURRENT_RATIO</th>\n",
       "      <th>QUICK_RATIO</th>\n",
       "      <th>DEBT_TAX_SHIELDS</th>\n",
       "      <th>NON_DEBT_TAX_SHIELDS</th>\n",
       "      <th>AGE</th>\n",
       "      <th>LEVERAGE_TOTAL</th>\n",
       "      <th>LEVERAGE_LONG</th>\n",
       "      <th>LEVERAGE_SHORT</th>\n",
       "    </tr>\n",
       "  </thead>\n",
       "  <tbody>\n",
       "    <tr>\n",
       "      <th>0</th>\n",
       "      <td>5.560012e+09</td>\n",
       "      <td>49.0</td>\n",
       "      <td>2012.0</td>\n",
       "      <td>81622.0</td>\n",
       "      <td>52112.0</td>\n",
       "      <td>1.0</td>\n",
       "      <td>1.0</td>\n",
       "      <td>52421.0</td>\n",
       "      <td>NaN</td>\n",
       "      <td>NaN</td>\n",
       "      <td>...</td>\n",
       "      <td>0.567698</td>\n",
       "      <td>0.263150</td>\n",
       "      <td>1.888650</td>\n",
       "      <td>1.508854</td>\n",
       "      <td>-0.000053</td>\n",
       "      <td>-0.033968</td>\n",
       "      <td>145.0</td>\n",
       "      <td>0.197813</td>\n",
       "      <td>0.000000</td>\n",
       "      <td>0.197813</td>\n",
       "    </tr>\n",
       "    <tr>\n",
       "      <th>1</th>\n",
       "      <td>5.560012e+09</td>\n",
       "      <td>49.0</td>\n",
       "      <td>2013.0</td>\n",
       "      <td>81622.0</td>\n",
       "      <td>52112.0</td>\n",
       "      <td>1.0</td>\n",
       "      <td>1.0</td>\n",
       "      <td>52421.0</td>\n",
       "      <td>NaN</td>\n",
       "      <td>NaN</td>\n",
       "      <td>...</td>\n",
       "      <td>0.554335</td>\n",
       "      <td>0.269109</td>\n",
       "      <td>2.054694</td>\n",
       "      <td>1.592003</td>\n",
       "      <td>-0.000025</td>\n",
       "      <td>-0.035600</td>\n",
       "      <td>146.0</td>\n",
       "      <td>0.189206</td>\n",
       "      <td>0.000000</td>\n",
       "      <td>0.189206</td>\n",
       "    </tr>\n",
       "    <tr>\n",
       "      <th>2</th>\n",
       "      <td>5.560012e+09</td>\n",
       "      <td>49.0</td>\n",
       "      <td>2014.0</td>\n",
       "      <td>81622.0</td>\n",
       "      <td>52112.0</td>\n",
       "      <td>1.0</td>\n",
       "      <td>1.0</td>\n",
       "      <td>52421.0</td>\n",
       "      <td>NaN</td>\n",
       "      <td>NaN</td>\n",
       "      <td>...</td>\n",
       "      <td>0.535492</td>\n",
       "      <td>0.352897</td>\n",
       "      <td>2.421039</td>\n",
       "      <td>2.003559</td>\n",
       "      <td>-0.000600</td>\n",
       "      <td>-0.036429</td>\n",
       "      <td>147.0</td>\n",
       "      <td>0.189541</td>\n",
       "      <td>0.000000</td>\n",
       "      <td>0.189541</td>\n",
       "    </tr>\n",
       "    <tr>\n",
       "      <th>3</th>\n",
       "      <td>5.560012e+09</td>\n",
       "      <td>49.0</td>\n",
       "      <td>2015.0</td>\n",
       "      <td>81622.0</td>\n",
       "      <td>52112.0</td>\n",
       "      <td>1.0</td>\n",
       "      <td>1.0</td>\n",
       "      <td>52421.0</td>\n",
       "      <td>NaN</td>\n",
       "      <td>NaN</td>\n",
       "      <td>...</td>\n",
       "      <td>0.686091</td>\n",
       "      <td>0.199553</td>\n",
       "      <td>1.476867</td>\n",
       "      <td>1.154143</td>\n",
       "      <td>-0.000048</td>\n",
       "      <td>-0.035296</td>\n",
       "      <td>148.0</td>\n",
       "      <td>0.209233</td>\n",
       "      <td>0.000000</td>\n",
       "      <td>0.209233</td>\n",
       "    </tr>\n",
       "    <tr>\n",
       "      <th>4</th>\n",
       "      <td>5.560012e+09</td>\n",
       "      <td>49.0</td>\n",
       "      <td>2016.0</td>\n",
       "      <td>81622.0</td>\n",
       "      <td>52112.0</td>\n",
       "      <td>1.0</td>\n",
       "      <td>1.0</td>\n",
       "      <td>52421.0</td>\n",
       "      <td>NaN</td>\n",
       "      <td>NaN</td>\n",
       "      <td>...</td>\n",
       "      <td>0.668372</td>\n",
       "      <td>0.227705</td>\n",
       "      <td>1.706054</td>\n",
       "      <td>1.357396</td>\n",
       "      <td>-0.000121</td>\n",
       "      <td>-0.047258</td>\n",
       "      <td>149.0</td>\n",
       "      <td>0.191455</td>\n",
       "      <td>0.000000</td>\n",
       "      <td>0.191455</td>\n",
       "    </tr>\n",
       "    <tr>\n",
       "      <th>5</th>\n",
       "      <td>5.560012e+09</td>\n",
       "      <td>49.0</td>\n",
       "      <td>2017.0</td>\n",
       "      <td>81622.0</td>\n",
       "      <td>52112.0</td>\n",
       "      <td>1.0</td>\n",
       "      <td>1.0</td>\n",
       "      <td>52421.0</td>\n",
       "      <td>NaN</td>\n",
       "      <td>NaN</td>\n",
       "      <td>...</td>\n",
       "      <td>0.638896</td>\n",
       "      <td>0.232426</td>\n",
       "      <td>1.583497</td>\n",
       "      <td>1.250087</td>\n",
       "      <td>-0.000049</td>\n",
       "      <td>-0.048297</td>\n",
       "      <td>150.0</td>\n",
       "      <td>0.210988</td>\n",
       "      <td>0.000000</td>\n",
       "      <td>0.210988</td>\n",
       "    </tr>\n",
       "    <tr>\n",
       "      <th>6</th>\n",
       "      <td>5.560012e+09</td>\n",
       "      <td>49.0</td>\n",
       "      <td>2018.0</td>\n",
       "      <td>81622.0</td>\n",
       "      <td>52112.0</td>\n",
       "      <td>1.0</td>\n",
       "      <td>1.0</td>\n",
       "      <td>52421.0</td>\n",
       "      <td>NaN</td>\n",
       "      <td>NaN</td>\n",
       "      <td>...</td>\n",
       "      <td>0.605343</td>\n",
       "      <td>0.262756</td>\n",
       "      <td>1.667672</td>\n",
       "      <td>1.351653</td>\n",
       "      <td>-0.000049</td>\n",
       "      <td>-0.048278</td>\n",
       "      <td>151.0</td>\n",
       "      <td>0.217614</td>\n",
       "      <td>0.000000</td>\n",
       "      <td>0.217614</td>\n",
       "    </tr>\n",
       "    <tr>\n",
       "      <th>7</th>\n",
       "      <td>5.560012e+09</td>\n",
       "      <td>49.0</td>\n",
       "      <td>2019.0</td>\n",
       "      <td>81622.0</td>\n",
       "      <td>52112.0</td>\n",
       "      <td>1.0</td>\n",
       "      <td>1.0</td>\n",
       "      <td>52421.0</td>\n",
       "      <td>NaN</td>\n",
       "      <td>NaN</td>\n",
       "      <td>...</td>\n",
       "      <td>0.556849</td>\n",
       "      <td>0.281147</td>\n",
       "      <td>1.754805</td>\n",
       "      <td>1.403247</td>\n",
       "      <td>-0.000072</td>\n",
       "      <td>-0.047247</td>\n",
       "      <td>152.0</td>\n",
       "      <td>0.218142</td>\n",
       "      <td>0.000000</td>\n",
       "      <td>0.218142</td>\n",
       "    </tr>\n",
       "    <tr>\n",
       "      <th>8</th>\n",
       "      <td>5.560012e+09</td>\n",
       "      <td>49.0</td>\n",
       "      <td>2012.0</td>\n",
       "      <td>73480.0</td>\n",
       "      <td>63220.0</td>\n",
       "      <td>1.0</td>\n",
       "      <td>1.0</td>\n",
       "      <td>NaN</td>\n",
       "      <td>NaN</td>\n",
       "      <td>NaN</td>\n",
       "      <td>...</td>\n",
       "      <td>0.878116</td>\n",
       "      <td>0.004208</td>\n",
       "      <td>0.295818</td>\n",
       "      <td>0.178967</td>\n",
       "      <td>-0.030916</td>\n",
       "      <td>-0.034801</td>\n",
       "      <td>119.0</td>\n",
       "      <td>0.949498</td>\n",
       "      <td>0.686306</td>\n",
       "      <td>0.263192</td>\n",
       "    </tr>\n",
       "    <tr>\n",
       "      <th>9</th>\n",
       "      <td>5.560012e+09</td>\n",
       "      <td>49.0</td>\n",
       "      <td>2013.0</td>\n",
       "      <td>73421.0</td>\n",
       "      <td>63220.0</td>\n",
       "      <td>1.0</td>\n",
       "      <td>1.0</td>\n",
       "      <td>NaN</td>\n",
       "      <td>NaN</td>\n",
       "      <td>NaN</td>\n",
       "      <td>...</td>\n",
       "      <td>0.889958</td>\n",
       "      <td>0.001924</td>\n",
       "      <td>0.277304</td>\n",
       "      <td>0.192099</td>\n",
       "      <td>-0.017670</td>\n",
       "      <td>-0.036914</td>\n",
       "      <td>120.0</td>\n",
       "      <td>0.937894</td>\n",
       "      <td>0.712036</td>\n",
       "      <td>0.225857</td>\n",
       "    </tr>\n",
       "  </tbody>\n",
       "</table>\n",
       "<p>10 rows × 192 columns</p>\n",
       "</div>"
      ],
      "text/plain": [
       "          ORGNR  ser_jurform  ser_year  ser_pnr  bransch_sni1  ser_aas  \\\n",
       "0  5.560012e+09         49.0    2012.0  81622.0       52112.0      1.0   \n",
       "1  5.560012e+09         49.0    2013.0  81622.0       52112.0      1.0   \n",
       "2  5.560012e+09         49.0    2014.0  81622.0       52112.0      1.0   \n",
       "3  5.560012e+09         49.0    2015.0  81622.0       52112.0      1.0   \n",
       "4  5.560012e+09         49.0    2016.0  81622.0       52112.0      1.0   \n",
       "5  5.560012e+09         49.0    2017.0  81622.0       52112.0      1.0   \n",
       "6  5.560012e+09         49.0    2018.0  81622.0       52112.0      1.0   \n",
       "7  5.560012e+09         49.0    2019.0  81622.0       52112.0      1.0   \n",
       "8  5.560012e+09         49.0    2012.0  73480.0       63220.0      1.0   \n",
       "9  5.560012e+09         49.0    2013.0  73421.0       63220.0      1.0   \n",
       "\n",
       "   ser_inregyr  bransch_sni2  bransch_sni3  bransch_sni4  ...  \\\n",
       "0          1.0       52421.0           NaN           NaN  ...   \n",
       "1          1.0       52421.0           NaN           NaN  ...   \n",
       "2          1.0       52421.0           NaN           NaN  ...   \n",
       "3          1.0       52421.0           NaN           NaN  ...   \n",
       "4          1.0       52421.0           NaN           NaN  ...   \n",
       "5          1.0       52421.0           NaN           NaN  ...   \n",
       "6          1.0       52421.0           NaN           NaN  ...   \n",
       "7          1.0       52421.0           NaN           NaN  ...   \n",
       "8          1.0           NaN           NaN           NaN  ...   \n",
       "9          1.0           NaN           NaN           NaN  ...   \n",
       "\n",
       "   ASSET_TANGIBILITY  LIQUIDITY  CURRENT_RATIO  QUICK_RATIO  DEBT_TAX_SHIELDS  \\\n",
       "0           0.567698   0.263150       1.888650     1.508854         -0.000053   \n",
       "1           0.554335   0.269109       2.054694     1.592003         -0.000025   \n",
       "2           0.535492   0.352897       2.421039     2.003559         -0.000600   \n",
       "3           0.686091   0.199553       1.476867     1.154143         -0.000048   \n",
       "4           0.668372   0.227705       1.706054     1.357396         -0.000121   \n",
       "5           0.638896   0.232426       1.583497     1.250087         -0.000049   \n",
       "6           0.605343   0.262756       1.667672     1.351653         -0.000049   \n",
       "7           0.556849   0.281147       1.754805     1.403247         -0.000072   \n",
       "8           0.878116   0.004208       0.295818     0.178967         -0.030916   \n",
       "9           0.889958   0.001924       0.277304     0.192099         -0.017670   \n",
       "\n",
       "   NON_DEBT_TAX_SHIELDS    AGE LEVERAGE_TOTAL LEVERAGE_LONG LEVERAGE_SHORT  \n",
       "0             -0.033968  145.0       0.197813      0.000000       0.197813  \n",
       "1             -0.035600  146.0       0.189206      0.000000       0.189206  \n",
       "2             -0.036429  147.0       0.189541      0.000000       0.189541  \n",
       "3             -0.035296  148.0       0.209233      0.000000       0.209233  \n",
       "4             -0.047258  149.0       0.191455      0.000000       0.191455  \n",
       "5             -0.048297  150.0       0.210988      0.000000       0.210988  \n",
       "6             -0.048278  151.0       0.217614      0.000000       0.217614  \n",
       "7             -0.047247  152.0       0.218142      0.000000       0.218142  \n",
       "8             -0.034801  119.0       0.949498      0.686306       0.263192  \n",
       "9             -0.036914  120.0       0.937894      0.712036       0.225857  \n",
       "\n",
       "[10 rows x 192 columns]"
      ]
     },
     "metadata": {},
     "output_type": "display_data"
    }
   ],
   "source": [
    "display(len(filtered_df))\n",
    "display(filtered_df[\"ORGNR\"].nunique())\n",
    "display(filtered_df.head(10))"
   ]
  },
  {
   "cell_type": "code",
   "execution_count": 244,
   "metadata": {},
   "outputs": [],
   "source": [
    "hausmann_df = filtered_df.set_index([\"ORGNR\", \"ser_year\"])"
   ]
  },
  {
   "cell_type": "code",
   "execution_count": 245,
   "metadata": {},
   "outputs": [],
   "source": [
    "hausmann_df = filtered_df.set_index([\"ORGNR\", \"ser_year\"])\n",
    "\n",
    "y = hausmann_df[\"LEVERAGE_TOTAL\"]\n",
    "X = hausmann_df[[\"SIZE_LOG_ASSETS\", \"ASSET_TANGIBILITY\", \"LIQUIDITY\", \"ny_vinstprc\", \"DEBT_TAX_SHIELDS\", \"NON_DEBT_TAX_SHIELDS\", \"GROWTH_OPPORTUNITIES_ASSETS\", \"AGE\"]]"
   ]
  },
  {
   "cell_type": "code",
   "execution_count": 246,
   "metadata": {},
   "outputs": [
    {
     "data": {
      "text/plain": [
       "SIZE_LOG_ASSETS                0\n",
       "ASSET_TANGIBILITY              0\n",
       "LIQUIDITY                      0\n",
       "ny_vinstprc                    0\n",
       "DEBT_TAX_SHIELDS               0\n",
       "NON_DEBT_TAX_SHIELDS           0\n",
       "GROWTH_OPPORTUNITIES_ASSETS    0\n",
       "AGE                            0\n",
       "dtype: int64"
      ]
     },
     "execution_count": 246,
     "metadata": {},
     "output_type": "execute_result"
    }
   ],
   "source": [
    "y.isna().sum()\n",
    "X.isna().sum()"
   ]
  },
  {
   "cell_type": "code",
   "execution_count": 217,
   "metadata": {},
   "outputs": [],
   "source": [
    "import statsmodels.api as sm\n",
    "from linearmodels import PanelOLS, RandomEffects\n",
    "from linearmodels.panel.results import compare\n",
    "from scipy import stats"
   ]
  },
  {
   "cell_type": "code",
   "execution_count": 228,
   "metadata": {},
   "outputs": [
    {
     "name": "stdout",
     "output_type": "stream",
     "text": [
      "                           Model Comparison                          \n",
      "=====================================================================\n",
      "                                            random              fixed\n",
      "---------------------------------------------------------------------\n",
      "Dep. Variable                       LEVERAGE_TOTAL     LEVERAGE_TOTAL\n",
      "Estimator                            RandomEffects           PanelOLS\n",
      "No. Observations                             73977              73977\n",
      "Cov. Est.                               Unadjusted         Unadjusted\n",
      "R-squared                                   0.9986             0.9986\n",
      "R-Squared (Within)                          0.9986             0.9986\n",
      "R-Squared (Between)                         0.9984             0.9980\n",
      "R-Squared (Overall)                         0.9982             0.9979\n",
      "F-statistic                              6.403e+06          5.494e+06\n",
      "P-value (F-stat)                            0.0000             0.0000\n",
      "=============================     ================   ================\n",
      "const                                       1.0012             0.9227\n",
      "                                          (37.628)           (16.757)\n",
      "SIZE_LOG_ASSETS                            -0.0542            -0.0805\n",
      "                                         (-17.565)          (-11.954)\n",
      "ASSET_TANGIBILITY                          -0.3932            -0.1076\n",
      "                                         (-27.941)          (-4.2255)\n",
      "LIQUIDITY                                  -0.2389            -0.1441\n",
      "                                         (-19.295)          (-8.3592)\n",
      "ny_vinstprc                             -2.678e-05         -3.918e-05\n",
      "                                         (-0.1871)          (-0.2582)\n",
      "DEBT_TAX_SHIELDS                           -11.396            -11.118\n",
      "                                         (-421.85)          (-351.18)\n",
      "NON_DEBT_TAX_SHIELDS                       -2.7516            -3.1550\n",
      "                                         (-69.996)          (-68.444)\n",
      "GROWTH_OPPORTUNITIES_ASSETS                 0.0712             0.0820\n",
      "                                          (17.345)           (18.495)\n",
      "AGE                                        -0.0007             0.0111\n",
      "                                         (-2.9321)           (12.042)\n",
      "=============================== ================== ==================\n",
      "Effects                                                        Entity\n",
      "---------------------------------------------------------------------\n",
      "\n",
      "T-stats reported in parentheses\n"
     ]
    }
   ],
   "source": [
    "\"\"\"\n",
    "Model Comparison\n",
    "\"\"\"\n",
    "\n",
    "# Add a constant term\n",
    "X = sm.add_constant(X)\n",
    "\n",
    "# Run fixed effects model\n",
    "fe_model = PanelOLS(y, X, entity_effects=True)\n",
    "fe_results = fe_model.fit()\n",
    "\n",
    "# Run random effects model\n",
    "re_model = RandomEffects(y, X)\n",
    "re_results = re_model.fit()\n",
    "\n",
    "# Compare the models\n",
    "comparison = compare({'random': re_results, 'fixed': fe_results})\n",
    "print(comparison)"
   ]
  },
  {
   "cell_type": "code",
   "execution_count": 229,
   "metadata": {},
   "outputs": [],
   "source": [
    "def hausman_test(fe_results, re_results):\n",
    "    \"\"\"\n",
    "    Manual implementation of Hausman test for panel data\n",
    "    \"\"\"\n",
    "    # Get coefficients (excluding constant)\n",
    "    b_fe = fe_results.params[1:]\n",
    "    b_re = re_results.params[1:]\n",
    "    \n",
    "    # Get covariance matrices (excluding constant)\n",
    "    var_fe = fe_results.cov.iloc[1:, 1:]\n",
    "    var_re = re_results.cov.iloc[1:, 1:]\n",
    "    \n",
    "    # Calculate difference\n",
    "    diff = b_fe - b_re\n",
    "    \n",
    "    # Calculate variance of difference\n",
    "    var_diff = var_fe - var_re\n",
    "    \n",
    "    # Calculate test statistic\n",
    "    stat = diff.T @ np.linalg.inv(var_diff) @ diff\n",
    "    \n",
    "    # Degrees of freedom = number of parameters being tested\n",
    "    df = len(b_fe)\n",
    "    \n",
    "    # Calculate p-value\n",
    "    p_value = 1 - stats.chi2.cdf(stat, df)\n",
    "    \n",
    "    return {\n",
    "        'stat': stat,\n",
    "        'df': df,\n",
    "        'p-value': p_value\n",
    "    }"
   ]
  },
  {
   "cell_type": "code",
   "execution_count": null,
   "metadata": {},
   "outputs": [
    {
     "name": "stdout",
     "output_type": "stream",
     "text": [
      "Hausman test statistic: 560.8820\n",
      "Degrees of freedom: 8\n",
      "P-value: 0.0000\n"
     ]
    }
   ],
   "source": [
    "\"\"\"\n",
    "Hausman Test w/o industry dummies TOTAL LEVERAGE\n",
    "\"\"\"\n",
    "\n",
    "fe_model = PanelOLS(y, X, entity_effects=True)\n",
    "fe_results = fe_model.fit()\n",
    "\n",
    "re_model = RandomEffects(y, X)\n",
    "re_results = re_model.fit()\n",
    "\n",
    "# Perform the Hausman test\n",
    "result = hausman_test(fe_results, re_results)\n",
    "print(f\"Hausman test statistic: {result['stat']:.4f}\")\n",
    "print(f\"Degrees of freedom: {result['df']}\")\n",
    "print(f\"P-value: {result['p-value']:.4f}\")"
   ]
  },
  {
   "cell_type": "code",
   "execution_count": 247,
   "metadata": {},
   "outputs": [
    {
     "name": "stdout",
     "output_type": "stream",
     "text": [
      "Hausman test statistic: 236.8650\n",
      "Degrees of freedom: 7\n",
      "P-value: 0.0000\n"
     ]
    }
   ],
   "source": [
    "\"\"\"\n",
    "Hausman Test w/o industry dummies LONG TERM LEVERAGE\n",
    "\"\"\"\n",
    "\n",
    "y = hausmann_df[\"LEVERAGE_LONG\"]\n",
    "\n",
    "# After running your models:\n",
    "fe_model = PanelOLS(y, X, entity_effects=True)\n",
    "fe_results = fe_model.fit()\n",
    "\n",
    "re_model = RandomEffects(y, X)\n",
    "re_results = re_model.fit()\n",
    "\n",
    "# Perform the Hausman test\n",
    "result = hausman_test(fe_results, re_results)\n",
    "print(f\"Hausman test statistic: {result['stat']:.4f}\")\n",
    "print(f\"Degrees of freedom: {result['df']}\")\n",
    "print(f\"P-value: {result['p-value']:.4f}\")"
   ]
  },
  {
   "cell_type": "code",
   "execution_count": 248,
   "metadata": {},
   "outputs": [
    {
     "name": "stdout",
     "output_type": "stream",
     "text": [
      "Hausman test statistic: 699.5164\n",
      "Degrees of freedom: 7\n",
      "P-value: 0.0000\n"
     ]
    }
   ],
   "source": [
    "\"\"\"\n",
    "Hausman Test w/o industry dummies SHORT TERM LEVERAGE\n",
    "\"\"\"\n",
    "\n",
    "y = hausmann_df[\"LEVERAGE_SHORT\"]\n",
    "\n",
    "# After running your models:\n",
    "fe_model = PanelOLS(y, X, entity_effects=True)\n",
    "fe_results = fe_model.fit()\n",
    "\n",
    "re_model = RandomEffects(y, X)\n",
    "re_results = re_model.fit()\n",
    "\n",
    "# Perform the Hausman test\n",
    "result = hausman_test(fe_results, re_results)\n",
    "print(f\"Hausman test statistic: {result['stat']:.4f}\")\n",
    "print(f\"Degrees of freedom: {result['df']}\")\n",
    "print(f\"P-value: {result['p-value']:.4f}\")"
   ]
  },
  {
   "cell_type": "markdown",
   "metadata": {},
   "source": [
    "# Split the dataset in HGF vs non-HGF"
   ]
  },
  {
   "cell_type": "code",
   "execution_count": 232,
   "metadata": {},
   "outputs": [],
   "source": [
    "# Identify HGF ORGNR\n",
    "high_growth_ids = filtered_df[filtered_df[\"HIGH_GROWTH\"] == 1][\"ORGNR\"].unique()\n",
    "\n",
    "# Create a new DataFrame with only high-growth firms\n",
    "HGF_df = filtered_df[filtered_df[\"ORGNR\"].isin(high_growth_ids)]\n",
    "\n",
    "# Create a new DataFrame with only non-high-growth firms\n",
    "non_HGF_df = filtered_df[~filtered_df[\"ORGNR\"].isin(high_growth_ids)]"
   ]
  },
  {
   "cell_type": "code",
   "execution_count": 233,
   "metadata": {},
   "outputs": [
    {
     "data": {
      "text/plain": [
       "7573"
      ]
     },
     "metadata": {},
     "output_type": "display_data"
    },
    {
     "data": {
      "text/plain": [
       "66404"
      ]
     },
     "metadata": {},
     "output_type": "display_data"
    },
    {
     "data": {
      "text/plain": [
       "1543"
      ]
     },
     "metadata": {},
     "output_type": "display_data"
    },
    {
     "data": {
      "text/plain": [
       "11992"
      ]
     },
     "metadata": {},
     "output_type": "display_data"
    }
   ],
   "source": [
    "display(len(HGF_df), len(non_HGF_df))\n",
    "display(HGF_df[\"ORGNR\"].nunique(), non_HGF_df[\"ORGNR\"].nunique())"
   ]
  },
  {
   "cell_type": "markdown",
   "metadata": {},
   "source": [
    "# Descriptive Data"
   ]
  },
  {
   "cell_type": "code",
   "execution_count": 249,
   "metadata": {},
   "outputs": [
    {
     "data": {
      "text/plain": [
       "INDUSTRY\n",
       "Corporate services       28.645496\n",
       "Construction industry    25.858717\n",
       "Shopping goods           13.998704\n",
       "Health & Education       12.248866\n",
       "IT & Electronics          7.453014\n",
       "Industrial goods          4.601426\n",
       "Convenience goods         2.851588\n",
       "Finance & Real estate     2.203500\n",
       "Materials                 1.101750\n",
       "Telecom & Media           0.648088\n",
       "Energy & Environment      0.388853\n",
       "Name: proportion, dtype: float64"
      ]
     },
     "metadata": {},
     "output_type": "display_data"
    },
    {
     "data": {
      "text/plain": [
       "INDUSTRY\n",
       "Corporate services       23.073716\n",
       "Shopping goods           21.856237\n",
       "Construction industry    20.630420\n",
       "Industrial goods          9.614743\n",
       "Convenience goods         9.281187\n",
       "Health & Education        8.255504\n",
       "IT & Electronics          2.468312\n",
       "Materials                 1.967979\n",
       "Finance & Real estate     1.576051\n",
       "Telecom & Media           0.675450\n",
       "Energy & Environment      0.600400\n",
       "Name: proportion, dtype: float64"
      ]
     },
     "metadata": {},
     "output_type": "display_data"
    }
   ],
   "source": [
    "\"\"\"\n",
    "Industry\n",
    "\"\"\"\n",
    "# Get one row per company (HGF)\n",
    "unique_HGFs = HGF_df.drop_duplicates(subset=[\"ORGNR\"])\n",
    "\n",
    "# Get one row per company (non_HGF)\n",
    "unique_non_HGFs = non_HGF_df.drop_duplicates(subset=[\"ORGNR\"])\n",
    "\n",
    "display(unique_HGFs[\"INDUSTRY\"].value_counts(normalize=True) * 100)\n",
    "display(unique_non_HGFs[\"INDUSTRY\"].value_counts(normalize=True) * 100)"
   ]
  },
  {
   "cell_type": "code",
   "execution_count": 250,
   "metadata": {},
   "outputs": [
    {
     "data": {
      "text/plain": [
       "count    7573.000000\n",
       "mean        0.562987\n",
       "std         0.429717\n",
       "min         0.023494\n",
       "25%         0.390278\n",
       "50%         0.541679\n",
       "75%         0.701504\n",
       "max        31.113208\n",
       "Name: LEVERAGE_SHORT, dtype: float64"
      ]
     },
     "metadata": {},
     "output_type": "display_data"
    },
    {
     "data": {
      "text/plain": [
       "count    66404.000000\n",
       "mean         0.540321\n",
       "std         13.158724\n",
       "min          0.006915\n",
       "25%          0.310723\n",
       "50%          0.454412\n",
       "75%          0.624196\n",
       "max       3390.000000\n",
       "Name: LEVERAGE_SHORT, dtype: float64"
      ]
     },
     "metadata": {},
     "output_type": "display_data"
    },
    {
     "data": {
      "text/plain": [
       "count    7573.000000\n",
       "mean        0.111263\n",
       "std         0.171996\n",
       "min         0.000000\n",
       "25%         0.000000\n",
       "50%         0.015308\n",
       "75%         0.173780\n",
       "max         2.289017\n",
       "Name: LEVERAGE_LONG, dtype: float64"
      ]
     },
     "metadata": {},
     "output_type": "display_data"
    },
    {
     "data": {
      "text/plain": [
       "count    66404.000000\n",
       "mean         0.127206\n",
       "std          0.273006\n",
       "min          0.000000\n",
       "25%          0.000000\n",
       "50%          0.027056\n",
       "75%          0.212255\n",
       "max         24.758333\n",
       "Name: LEVERAGE_LONG, dtype: float64"
      ]
     },
     "metadata": {},
     "output_type": "display_data"
    },
    {
     "data": {
      "text/plain": [
       "count    7573.000000\n",
       "mean        0.674250\n",
       "std         0.434519\n",
       "min         0.046232\n",
       "25%         0.504898\n",
       "50%         0.674433\n",
       "75%         0.822850\n",
       "max        31.113208\n",
       "Name: LEVERAGE_TOTAL, dtype: float64"
      ]
     },
     "metadata": {},
     "output_type": "display_data"
    },
    {
     "data": {
      "text/plain": [
       "count    66404.000000\n",
       "mean         0.667527\n",
       "std         13.163028\n",
       "min          0.009867\n",
       "25%          0.432203\n",
       "50%          0.601027\n",
       "75%          0.768646\n",
       "max       3390.000000\n",
       "Name: LEVERAGE_TOTAL, dtype: float64"
      ]
     },
     "metadata": {},
     "output_type": "display_data"
    }
   ],
   "source": [
    "\"\"\"\n",
    "Leverage\n",
    "\"\"\"\n",
    "display(HGF_df[\"LEVERAGE_SHORT\"].describe())\n",
    "display(non_HGF_df[\"LEVERAGE_SHORT\"].describe())\n",
    "display(HGF_df[\"LEVERAGE_LONG\"].describe())\n",
    "display(non_HGF_df[\"LEVERAGE_LONG\"].describe())\n",
    "display(HGF_df[\"LEVERAGE_TOTAL\"].describe())\n",
    "display(non_HGF_df[\"LEVERAGE_TOTAL\"].describe())"
   ]
  },
  {
   "cell_type": "code",
   "execution_count": 236,
   "metadata": {},
   "outputs": [
    {
     "data": {
      "text/plain": [
       "count    7573.000000\n",
       "mean        8.926602\n",
       "std         1.043498\n",
       "min         3.970292\n",
       "25%         8.212026\n",
       "50%         8.876824\n",
       "75%         9.573524\n",
       "max        14.915306\n",
       "Name: SIZE_LOG_ASSETS, dtype: float64"
      ]
     },
     "metadata": {},
     "output_type": "display_data"
    },
    {
     "data": {
      "text/plain": [
       "count    66404.000000\n",
       "mean         9.023488\n",
       "std          1.056268\n",
       "min          0.000000\n",
       "25%          8.322880\n",
       "50%          9.009814\n",
       "75%          9.675520\n",
       "max         16.914990\n",
       "Name: SIZE_LOG_ASSETS, dtype: float64"
      ]
     },
     "metadata": {},
     "output_type": "display_data"
    },
    {
     "data": {
      "text/plain": [
       "count    7573.000000\n",
       "mean        9.891820\n",
       "std         0.876005\n",
       "min         3.401197\n",
       "25%         9.340579\n",
       "50%         9.828872\n",
       "75%        10.397848\n",
       "max        14.877591\n",
       "Name: SIZE_LOG_SALES, dtype: float64"
      ]
     },
     "metadata": {},
     "output_type": "display_data"
    },
    {
     "data": {
      "text/plain": [
       "count    66404.000000\n",
       "mean         9.936591\n",
       "std          0.857748\n",
       "min          0.000000\n",
       "25%          9.372034\n",
       "50%          9.828791\n",
       "75%         10.414581\n",
       "max         15.618990\n",
       "Name: SIZE_LOG_SALES, dtype: float64"
      ]
     },
     "metadata": {},
     "output_type": "display_data"
    }
   ],
   "source": [
    "\"\"\"\n",
    "Firm size\n",
    "\"\"\"\n",
    "display(HGF_df[\"SIZE_LOG_ASSETS\"].describe())\n",
    "display(non_HGF_df[\"SIZE_LOG_ASSETS\"].describe())\n",
    "display(HGF_df[\"SIZE_LOG_SALES\"].describe())\n",
    "display(non_HGF_df[\"SIZE_LOG_SALES\"].describe())"
   ]
  },
  {
   "cell_type": "code",
   "execution_count": 237,
   "metadata": {},
   "outputs": [
    {
     "data": {
      "text/plain": [
       "count    7573.000000\n",
       "mean        0.177103\n",
       "std         0.229440\n",
       "min         0.000000\n",
       "25%         0.011557\n",
       "50%         0.062571\n",
       "75%         0.271989\n",
       "max         0.965418\n",
       "Name: ASSET_TANGIBILITY, dtype: float64"
      ]
     },
     "metadata": {},
     "output_type": "display_data"
    },
    {
     "data": {
      "text/plain": [
       "count    66404.000000\n",
       "mean         0.233076\n",
       "std          0.250085\n",
       "min          0.000000\n",
       "25%          0.024988\n",
       "50%          0.125544\n",
       "75%          0.398043\n",
       "max          0.996224\n",
       "Name: ASSET_TANGIBILITY, dtype: float64"
      ]
     },
     "metadata": {},
     "output_type": "display_data"
    }
   ],
   "source": [
    "\"\"\"\n",
    "Asset tangibility\n",
    "\"\"\"\n",
    "display(HGF_df[\"ASSET_TANGIBILITY\"].describe())\n",
    "display(non_HGF_df[\"ASSET_TANGIBILITY\"].describe())"
   ]
  },
  {
   "cell_type": "code",
   "execution_count": 238,
   "metadata": {},
   "outputs": [
    {
     "data": {
      "text/plain": [
       "count    7573.000000\n",
       "mean        0.258323\n",
       "std         0.225511\n",
       "min        -0.069223\n",
       "25%         0.060870\n",
       "50%         0.209459\n",
       "75%         0.411429\n",
       "max         1.128364\n",
       "Name: LIQUIDITY, dtype: float64"
      ]
     },
     "metadata": {},
     "output_type": "display_data"
    },
    {
     "data": {
      "text/plain": [
       "count    66404.000000\n",
       "mean         0.250880\n",
       "std          0.224304\n",
       "min         -0.408312\n",
       "25%          0.055579\n",
       "50%          0.200361\n",
       "75%          0.394517\n",
       "max          1.003517\n",
       "Name: LIQUIDITY, dtype: float64"
      ]
     },
     "metadata": {},
     "output_type": "display_data"
    },
    {
     "data": {
      "text/plain": [
       "count    7573.000000\n",
       "mean        1.614017\n",
       "std         1.043885\n",
       "min         0.032141\n",
       "25%         1.068923\n",
       "50%         1.391516\n",
       "75%         1.874849\n",
       "max        19.233420\n",
       "Name: CURRENT_RATIO, dtype: float64"
      ]
     },
     "metadata": {},
     "output_type": "display_data"
    },
    {
     "data": {
      "text/plain": [
       "count    66404.000000\n",
       "mean         1.816853\n",
       "std          1.779467\n",
       "min          0.000295\n",
       "25%          1.089659\n",
       "50%          1.493739\n",
       "75%          2.087352\n",
       "max        142.170569\n",
       "Name: CURRENT_RATIO, dtype: float64"
      ]
     },
     "metadata": {},
     "output_type": "display_data"
    },
    {
     "data": {
      "text/plain": [
       "count    7573.000000\n",
       "mean        1.493734\n",
       "std         1.038730\n",
       "min         0.031549\n",
       "25%         0.943405\n",
       "50%         1.295042\n",
       "75%         1.765012\n",
       "max        19.233420\n",
       "Name: QUICK_RATIO, dtype: float64"
      ]
     },
     "metadata": {},
     "output_type": "display_data"
    },
    {
     "data": {
      "text/plain": [
       "count    66404.000000\n",
       "mean         1.528183\n",
       "std          1.418701\n",
       "min         -2.636364\n",
       "25%          0.842592\n",
       "50%          1.263855\n",
       "75%          1.818007\n",
       "max         75.191919\n",
       "Name: QUICK_RATIO, dtype: float64"
      ]
     },
     "metadata": {},
     "output_type": "display_data"
    }
   ],
   "source": [
    "\"\"\"\n",
    "liquidity\n",
    "\"\"\"\n",
    "display(HGF_df[\"LIQUIDITY\"].describe())\n",
    "display(non_HGF_df[\"LIQUIDITY\"].describe())\n",
    "display(HGF_df[\"CURRENT_RATIO\"].describe())\n",
    "display(non_HGF_df[\"CURRENT_RATIO\"].describe())\n",
    "display(HGF_df[\"QUICK_RATIO\"].describe())\n",
    "display(non_HGF_df[\"QUICK_RATIO\"].describe())"
   ]
  },
  {
   "cell_type": "code",
   "execution_count": 239,
   "metadata": {},
   "outputs": [
    {
     "data": {
      "text/plain": [
       "count    7573.000000\n",
       "mean       -0.107102\n",
       "std         6.597640\n",
       "min      -509.500000\n",
       "25%         0.015355\n",
       "50%         0.049389\n",
       "75%         0.103736\n",
       "max        12.133333\n",
       "Name: ny_vinstprc, dtype: float64"
      ]
     },
     "metadata": {},
     "output_type": "display_data"
    },
    {
     "data": {
      "text/plain": [
       "count    66404.000000\n",
       "mean         0.062392\n",
       "std         12.603442\n",
       "min      -1284.750000\n",
       "25%          0.011747\n",
       "50%          0.039991\n",
       "75%          0.084316\n",
       "max       2959.000000\n",
       "Name: ny_vinstprc, dtype: float64"
      ]
     },
     "metadata": {},
     "output_type": "display_data"
    }
   ],
   "source": [
    "\"\"\"\n",
    "Profitability\n",
    "\"\"\"\n",
    "display(HGF_df[\"ny_vinstprc\"].describe())\n",
    "display(non_HGF_df[\"ny_vinstprc\"].describe())"
   ]
  },
  {
   "cell_type": "code",
   "execution_count": 240,
   "metadata": {},
   "outputs": [
    {
     "data": {
      "text/plain": [
       "count    7573.000000\n",
       "mean       -0.010304\n",
       "std         0.029739\n",
       "min        -0.932665\n",
       "25%        -0.011986\n",
       "50%        -0.004143\n",
       "75%        -0.000752\n",
       "max         0.000000\n",
       "Name: DEBT_TAX_SHIELDS, dtype: float64"
      ]
     },
     "metadata": {},
     "output_type": "display_data"
    },
    {
     "data": {
      "text/plain": [
       "count    66404.000000\n",
       "mean        -0.014617\n",
       "std          0.990007\n",
       "min       -255.000000\n",
       "25%         -0.013329\n",
       "50%         -0.004789\n",
       "75%         -0.000817\n",
       "max          0.000000\n",
       "Name: DEBT_TAX_SHIELDS, dtype: float64"
      ]
     },
     "metadata": {},
     "output_type": "display_data"
    },
    {
     "data": {
      "text/plain": [
       "count    7573.000000\n",
       "mean       -0.042112\n",
       "std         0.060978\n",
       "min        -2.184781\n",
       "25%        -0.060248\n",
       "50%        -0.020652\n",
       "75%        -0.005390\n",
       "max         0.000000\n",
       "Name: NON_DEBT_TAX_SHIELDS, dtype: float64"
      ]
     },
     "metadata": {},
     "output_type": "display_data"
    },
    {
     "data": {
      "text/plain": [
       "count    66404.000000\n",
       "mean        -0.054373\n",
       "std          0.681823\n",
       "min       -175.000000\n",
       "25%         -0.074169\n",
       "50%         -0.030294\n",
       "75%         -0.009915\n",
       "max          0.000000\n",
       "Name: NON_DEBT_TAX_SHIELDS, dtype: float64"
      ]
     },
     "metadata": {},
     "output_type": "display_data"
    }
   ],
   "source": [
    "\"\"\"\n",
    "Tax shields\n",
    "\"\"\"\n",
    "display(HGF_df[\"DEBT_TAX_SHIELDS\"].describe())\n",
    "display(non_HGF_df[\"DEBT_TAX_SHIELDS\"].describe())\n",
    "display(HGF_df[\"NON_DEBT_TAX_SHIELDS\"].describe())\n",
    "display(non_HGF_df[\"NON_DEBT_TAX_SHIELDS\"].describe())"
   ]
  },
  {
   "cell_type": "code",
   "execution_count": 241,
   "metadata": {},
   "outputs": [
    {
     "data": {
      "text/plain": [
       "count    7573.000000\n",
       "mean        0.343416\n",
       "std         0.663544\n",
       "min        -0.941886\n",
       "25%         0.033670\n",
       "50%         0.219330\n",
       "75%         0.467949\n",
       "max        16.844920\n",
       "Name: GROWTH_OPPORTUNITIES_ASSETS, dtype: float64"
      ]
     },
     "metadata": {},
     "output_type": "display_data"
    },
    {
     "data": {
      "text/plain": [
       "count    66404.000000\n",
       "mean         0.087891\n",
       "std          0.383707\n",
       "min         -0.999795\n",
       "25%         -0.052287\n",
       "50%          0.040334\n",
       "75%          0.159217\n",
       "max         43.918590\n",
       "Name: GROWTH_OPPORTUNITIES_ASSETS, dtype: float64"
      ]
     },
     "metadata": {},
     "output_type": "display_data"
    }
   ],
   "source": [
    "\"\"\"\n",
    "Growth opportunities\n",
    "\"\"\"\n",
    "display(HGF_df[\"GROWTH_OPPORTUNITIES_ASSETS\"].describe())\n",
    "display(non_HGF_df[\"GROWTH_OPPORTUNITIES_ASSETS\"].describe())"
   ]
  },
  {
   "cell_type": "code",
   "execution_count": 242,
   "metadata": {},
   "outputs": [
    {
     "data": {
      "text/plain": [
       "count    7573.000000\n",
       "mean        9.406576\n",
       "std         8.258079\n",
       "min         1.000000\n",
       "25%         4.000000\n",
       "50%         7.000000\n",
       "75%        11.000000\n",
       "max        59.000000\n",
       "Name: AGE, dtype: float64"
      ]
     },
     "metadata": {},
     "output_type": "display_data"
    },
    {
     "data": {
      "text/plain": [
       "count    66404.000000\n",
       "mean        18.835959\n",
       "std         14.217480\n",
       "min          1.000000\n",
       "25%          8.000000\n",
       "50%         15.000000\n",
       "75%         26.000000\n",
       "max        152.000000\n",
       "Name: AGE, dtype: float64"
      ]
     },
     "metadata": {},
     "output_type": "display_data"
    }
   ],
   "source": [
    "\"\"\"\n",
    "Age\n",
    "\"\"\"\n",
    "display(HGF_df[\"AGE\"].describe())\n",
    "display(non_HGF_df[\"AGE\"].describe())"
   ]
  },
  {
   "cell_type": "markdown",
   "metadata": {},
   "source": [
    "# Tests"
   ]
  },
  {
   "cell_type": "code",
   "execution_count": 254,
   "metadata": {},
   "outputs": [
    {
     "name": "stdout",
     "output_type": "stream",
     "text": [
      "\n",
      "=== High Growth Companies Results ===\n",
      "\n",
      "\n",
      "Results for LEVERAGE_TOTAL:\n",
      "                                      Parameter Estimates                                      \n",
      "===============================================================================================\n",
      "                             Parameter  Std. Err.     T-stat    P-value    Lower CI    Upper CI\n",
      "-----------------------------------------------------------------------------------------------\n",
      "const                           1.6423     0.1272     12.914     0.0000      1.3930      1.8916\n",
      "SIZE_LOG_ASSETS                -0.3257     0.0201    -16.210     0.0000     -0.3651     -0.2863\n",
      "SIZE_LOG_SALES                  0.1797     0.0203     8.8678     0.0000      0.1400      0.2194\n",
      "ASSET_TANGIBILITY               0.2112     0.0641     3.2961     0.0010      0.0856      0.3368\n",
      "GROWTH_OPPORTUNITIES_ASSETS     0.0337     0.0077     4.3758     0.0000      0.0186      0.0488\n",
      "LIQUIDITY                      -0.2058     0.0415    -4.9557     0.0000     -0.2872     -0.1244\n",
      "QUICK_RATIO                    -0.0034     0.0422    -0.0815     0.9350     -0.0862      0.0793\n",
      "CURRENT_RATIO                  -0.0694     0.0411    -1.6910     0.0909     -0.1499      0.0111\n",
      "ny_vinstprc                    -0.0023     0.0008    -2.9886     0.0028     -0.0038     -0.0008\n",
      "DEBT_TAX_SHIELDS               -2.6457     0.1846    -14.334     0.0000     -3.0075     -2.2839\n",
      "NON_DEBT_TAX_SHIELDS           -0.0108     0.1179    -0.0914     0.9272     -0.2420      0.2204\n",
      "AGE                             0.0271     0.0039     6.8884     0.0000      0.0194      0.0349\n",
      "===============================================================================================\n",
      "R-squared: 0.1264\n",
      "Within R-squared: 0.1264\n",
      "\n",
      "Results for LEVERAGE_LONG:\n",
      "                                      Parameter Estimates                                      \n",
      "===============================================================================================\n",
      "                             Parameter  Std. Err.     T-stat    P-value    Lower CI    Upper CI\n",
      "-----------------------------------------------------------------------------------------------\n",
      "const                           0.1883     0.0265     7.1040     0.0000      0.1364      0.2403\n",
      "SIZE_LOG_ASSETS                 0.0339     0.0042     8.0872     0.0000      0.0257      0.0421\n",
      "SIZE_LOG_SALES                 -0.0479     0.0042    -11.337     0.0000     -0.0562     -0.0396\n",
      "ASSET_TANGIBILITY               0.4556     0.0134     34.104     0.0000      0.4294      0.4818\n",
      "GROWTH_OPPORTUNITIES_ASSETS    -0.0029     0.0016    -1.8234     0.0683     -0.0061      0.0002\n",
      "LIQUIDITY                      -0.0552     0.0087    -6.3721     0.0000     -0.0721     -0.0382\n",
      "QUICK_RATIO                    -0.0874     0.0088    -9.9331     0.0000     -0.1047     -0.0702\n",
      "CURRENT_RATIO                   0.0912     0.0086     10.657     0.0000      0.0744      0.1080\n",
      "ny_vinstprc                     0.0007     0.0002     4.2524     0.0000      0.0004      0.0010\n",
      "DEBT_TAX_SHIELDS               -0.4346     0.0385    -11.293     0.0000     -0.5100     -0.3591\n",
      "NON_DEBT_TAX_SHIELDS           -0.0520     0.0246    -2.1171     0.0343     -0.1002     -0.0039\n",
      "AGE                             0.0006     0.0008     0.7293     0.4659     -0.0010      0.0022\n",
      "===============================================================================================\n",
      "R-squared: 0.2528\n",
      "Within R-squared: 0.2528\n",
      "\n",
      "Results for LEVERAGE_SHORT:\n",
      "                                      Parameter Estimates                                      \n",
      "===============================================================================================\n",
      "                             Parameter  Std. Err.     T-stat    P-value    Lower CI    Upper CI\n",
      "-----------------------------------------------------------------------------------------------\n",
      "const                           1.4540     0.1256     11.579     0.0000      1.2078      1.7001\n",
      "SIZE_LOG_ASSETS                -0.3596     0.0198    -18.125     0.0000     -0.3985     -0.3207\n",
      "SIZE_LOG_SALES                  0.2276     0.0200     11.375     0.0000      0.1884      0.2668\n",
      "ASSET_TANGIBILITY              -0.2444     0.0633    -3.8626     0.0001     -0.3684     -0.1204\n",
      "GROWTH_OPPORTUNITIES_ASSETS     0.0366     0.0076     4.8166     0.0000      0.0217      0.0515\n",
      "LIQUIDITY                      -0.1506     0.0410    -3.6736     0.0002     -0.2310     -0.0702\n",
      "QUICK_RATIO                     0.0840     0.0417     2.0147     0.0440      0.0023      0.1657\n",
      "CURRENT_RATIO                  -0.1607     0.0405    -3.9627     0.0001     -0.2401     -0.0812\n",
      "ny_vinstprc                    -0.0029     0.0008    -3.9246     0.0001     -0.0044     -0.0015\n",
      "DEBT_TAX_SHIELDS               -2.2111     0.1822    -12.133     0.0000     -2.5684     -1.8539\n",
      "NON_DEBT_TAX_SHIELDS            0.0413     0.1164     0.3544     0.7230     -0.1870      0.2695\n",
      "AGE                             0.0265     0.0039     6.8224     0.0000      0.0189      0.0342\n",
      "===============================================================================================\n",
      "R-squared: 0.1294\n",
      "Within R-squared: 0.1294\n",
      "\n",
      "=== Non-High Growth Companies Results ===\n",
      "\n",
      "\n",
      "Results for LEVERAGE_TOTAL:\n",
      "                                      Parameter Estimates                                      \n",
      "===============================================================================================\n",
      "                             Parameter  Std. Err.     T-stat    P-value    Lower CI    Upper CI\n",
      "-----------------------------------------------------------------------------------------------\n",
      "const                           0.5894     0.0866     6.8031     0.0000      0.4196      0.7592\n",
      "SIZE_LOG_ASSETS                -0.1188     0.0098    -12.177     0.0000     -0.1380     -0.0997\n",
      "SIZE_LOG_SALES                  0.0721     0.0113     6.3600     0.0000      0.0499      0.0943\n",
      "ASSET_TANGIBILITY              -0.1423     0.0274    -5.1931     0.0000     -0.1960     -0.0886\n",
      "GROWTH_OPPORTUNITIES_ASSETS     0.0976     0.0052     18.672     0.0000      0.0874      0.1079\n",
      "LIQUIDITY                      -0.0502     0.0190    -2.6509     0.0080     -0.0874     -0.0131\n",
      "QUICK_RATIO                    -0.0322     0.0042    -7.6970     0.0000     -0.0404     -0.0240\n",
      "CURRENT_RATIO                  -0.0027     0.0035    -0.7641     0.4448     -0.0096      0.0042\n",
      "ny_vinstprc                  6.992e-05     0.0002     0.4548     0.6493     -0.0002      0.0004\n",
      "DEBT_TAX_SHIELDS               -11.066     0.0338    -327.13     0.0000     -11.133     -11.000\n",
      "NON_DEBT_TAX_SHIELDS           -3.2284     0.0493    -65.494     0.0000     -3.3251     -3.1318\n",
      "AGE                             0.0100     0.0010     10.415     0.0000      0.0081      0.0119\n",
      "===============================================================================================\n",
      "R-squared: 0.9988\n",
      "Within R-squared: 0.9988\n",
      "\n",
      "Results for LEVERAGE_LONG:\n",
      "                                      Parameter Estimates                                      \n",
      "===============================================================================================\n",
      "                             Parameter  Std. Err.     T-stat    P-value    Lower CI    Upper CI\n",
      "-----------------------------------------------------------------------------------------------\n",
      "const                           0.3331     0.0365     9.1290     0.0000      0.2616      0.4046\n",
      "SIZE_LOG_ASSETS                -0.0159     0.0041    -3.8764     0.0001     -0.0240     -0.0079\n",
      "SIZE_LOG_SALES                 -0.0161     0.0048    -3.3815     0.0007     -0.0255     -0.0068\n",
      "ASSET_TANGIBILITY               0.4180     0.0115     36.214     0.0000      0.3953      0.4406\n",
      "GROWTH_OPPORTUNITIES_ASSETS    -0.0014     0.0022    -0.6515     0.5147     -0.0058      0.0029\n",
      "LIQUIDITY                      -0.0643     0.0080    -8.0533     0.0000     -0.0799     -0.0486\n",
      "QUICK_RATIO                 -8.198e-05     0.0018    -0.0465     0.9629     -0.0035      0.0034\n",
      "CURRENT_RATIO                   0.0041     0.0015     2.7730     0.0056      0.0012      0.0070\n",
      "ny_vinstprc                 -2.283e-05  6.475e-05    -0.3526     0.7244     -0.0001      0.0001\n",
      "DEBT_TAX_SHIELDS               -0.0277     0.0142    -1.9436     0.0519     -0.0556      0.0002\n",
      "NON_DEBT_TAX_SHIELDS            0.0416     0.0208     2.0024     0.0452      0.0009      0.0823\n",
      "AGE                             0.0006     0.0004     1.5223     0.1279     -0.0002      0.0014\n",
      "===============================================================================================\n",
      "R-squared: 0.0345\n",
      "Within R-squared: 0.0345\n",
      "\n",
      "Results for LEVERAGE_SHORT:\n",
      "                                      Parameter Estimates                                      \n",
      "===============================================================================================\n",
      "                             Parameter  Std. Err.     T-stat    P-value    Lower CI    Upper CI\n",
      "-----------------------------------------------------------------------------------------------\n",
      "const                           0.2563     0.0732     3.4993     0.0005      0.1127      0.3998\n",
      "SIZE_LOG_ASSETS                -0.1029     0.0082    -12.474     0.0000     -0.1191     -0.0867\n",
      "SIZE_LOG_SALES                  0.0882     0.0096     9.2084     0.0000      0.0695      0.1070\n",
      "ASSET_TANGIBILITY              -0.5603     0.0232    -24.187     0.0000     -0.6057     -0.5149\n",
      "GROWTH_OPPORTUNITIES_ASSETS     0.0991     0.0044     22.412     0.0000      0.0904      0.1077\n",
      "LIQUIDITY                       0.0140     0.0160     0.8765     0.3807     -0.0174      0.0455\n",
      "QUICK_RATIO                    -0.0321     0.0035    -9.0820     0.0000     -0.0390     -0.0252\n",
      "CURRENT_RATIO                  -0.0068     0.0030    -2.2855     0.0223     -0.0127     -0.0010\n",
      "ny_vinstprc                  9.275e-05     0.0001     0.7137     0.4754     -0.0002      0.0003\n",
      "DEBT_TAX_SHIELDS               -11.039     0.0286    -386.01     0.0000     -11.095     -10.983\n",
      "NON_DEBT_TAX_SHIELDS           -3.2700     0.0417    -78.474     0.0000     -3.3517     -3.1883\n",
      "AGE                             0.0094     0.0008     11.562     0.0000      0.0078      0.0110\n",
      "===============================================================================================\n",
      "R-squared: 0.9991\n",
      "Within R-squared: 0.9991\n",
      "\n",
      "Coefficient Difference Test for LEVERAGE_TOTAL:\n",
      "F-statistic: 224.7627\n",
      "P-value: 0.0000\n",
      "Coefficients differ significantly between groups\n",
      "\n",
      "Coefficient Difference Test for LEVERAGE_LONG:\n",
      "F-statistic: 7.6789\n",
      "P-value: 0.0000\n",
      "Coefficients differ significantly between groups\n",
      "\n",
      "Coefficient Difference Test for LEVERAGE_SHORT:\n",
      "F-statistic: 335.0014\n",
      "P-value: 0.0000\n",
      "Coefficients differ significantly between groups\n"
     ]
    }
   ],
   "source": [
    "# Define your dependent variables and controls\n",
    "dependent_vars = ['LEVERAGE_TOTAL', 'LEVERAGE_LONG', 'LEVERAGE_SHORT']\n",
    "control_vars = [\"SIZE_LOG_ASSETS\", \"SIZE_LOG_SALES\", \"ASSET_TANGIBILITY\", \"GROWTH_OPPORTUNITIES_ASSETS\", \"LIQUIDITY\", \"QUICK_RATIO\", \"CURRENT_RATIO\", \n",
    "               \"ny_vinstprc\", \"DEBT_TAX_SHIELDS\", \"NON_DEBT_TAX_SHIELDS\", \"AGE\"]\n",
    "\n",
    "# Set up for panel data analysis (repeat for both samples)\n",
    "def run_panel_regressions(data, sample_name):\n",
    "    \"\"\"Run fixed effects regressions for all dependent variables on a given sample\"\"\"\n",
    "    \n",
    "    print(f\"\\n=== {sample_name} Companies Results ===\\n\")\n",
    "    \n",
    "    # Set panel data index\n",
    "    panel_data = data.set_index([\"ORGNR\", \"ser_year\"])\n",
    "    \n",
    "    # Add constant\n",
    "    X = panel_data[control_vars]\n",
    "    X = sm.add_constant(X)\n",
    "    \n",
    "    # Run regressions for each dependent variable\n",
    "    for dep_var in dependent_vars:\n",
    "        y = panel_data[dep_var]\n",
    "        \n",
    "        # Run fixed effects model (entity effects only, no time effects)\n",
    "        fe_model = PanelOLS(y, X, entity_effects=True)\n",
    "        fe_results = fe_model.fit()\n",
    "        \n",
    "        print(f\"\\nResults for {dep_var}:\")\n",
    "        print(fe_results.summary.tables[1])  # Print coefficients table\n",
    "        print(f\"R-squared: {fe_results.rsquared:.4f}\")\n",
    "        print(f\"Within R-squared: {fe_results.rsquared_within:.4f}\")\n",
    "\n",
    "# Run for both samples\n",
    "run_panel_regressions(HGF_df, \"High Growth\")\n",
    "run_panel_regressions(non_HGF_df, \"Non-High Growth\")\n",
    "\n",
    "# For formal statistical comparison between groups, you can use a Chow test approach\n",
    "# This tests if coefficients differ between sub-samples\n",
    "def chow_test_approach(full_df, high_growth_df, low_growth_df, dep_var):\n",
    "    \"\"\"Implement a version of Chow test logic for panel data\"\"\"\n",
    "    \n",
    "    # Set panel data indices\n",
    "    full_panel = full_df.set_index([\"ORGNR\", \"ser_year\"])\n",
    "    high_panel = high_growth_df.set_index([\"ORGNR\", \"ser_year\"])\n",
    "    low_panel = low_growth_df.set_index([\"ORGNR\", \"ser_year\"])\n",
    "    \n",
    "    # Add constant\n",
    "    X_full = sm.add_constant(full_panel[control_vars])\n",
    "    X_high = sm.add_constant(high_panel[control_vars])\n",
    "    X_low = sm.add_constant(low_panel[control_vars])\n",
    "    \n",
    "    # Run models\n",
    "    y_full = full_panel[dep_var]\n",
    "    y_high = high_panel[dep_var]\n",
    "    y_low = low_panel[dep_var]\n",
    "    \n",
    "    full_model = PanelOLS(y_full, X_full, entity_effects=True)\n",
    "    high_model = PanelOLS(y_high, X_high, entity_effects=True)\n",
    "    low_model = PanelOLS(y_low, X_low, entity_effects=True)\n",
    "    \n",
    "    full_results = full_model.fit()\n",
    "    high_results = high_model.fit()\n",
    "    low_results = low_model.fit()\n",
    "    \n",
    "    # Calculate sum of squared residuals\n",
    "    rss_full = full_results.resids.values.T @ full_results.resids.values\n",
    "    rss_high = high_results.resids.values.T @ high_results.resids.values\n",
    "    rss_low = low_results.resids.values.T @ low_results.resids.values\n",
    "    \n",
    "    # Calculate F-statistic\n",
    "    n_full = len(y_full)\n",
    "    n_params = len(control_vars) + 1  # +1 for constant\n",
    "    f_stat = ((rss_full - (rss_high + rss_low)) / n_params) / ((rss_high + rss_low) / (n_full - 2 * n_params))\n",
    "    \n",
    "    # Print results\n",
    "    print(f\"\\nCoefficient Difference Test for {dep_var}:\")\n",
    "    print(f\"F-statistic: {f_stat:.4f}\")\n",
    "    # Calculate p-value using F distribution with (k, n-2k) degrees of freedom\n",
    "    from scipy import stats\n",
    "    p_value = 1 - stats.f.cdf(f_stat, n_params, n_full - 2 * n_params)\n",
    "    print(f\"P-value: {p_value:.4f}\")\n",
    "    print(f\"{'Coefficients differ significantly between groups' if p_value < 0.05 else 'No significant difference in coefficients'}\")\n",
    "\n",
    "# Run comparison test for each dependent variable\n",
    "for dep_var in dependent_vars:\n",
    "    chow_test_approach(filtered_df, HGF_df, non_HGF_df, dep_var)\n"
   ]
  }
 ],
 "metadata": {
  "kernelspec": {
   "display_name": "venv-thesis",
   "language": "python",
   "name": "python3"
  },
  "language_info": {
   "codemirror_mode": {
    "name": "ipython",
    "version": 3
   },
   "file_extension": ".py",
   "mimetype": "text/x-python",
   "name": "python",
   "nbconvert_exporter": "python",
   "pygments_lexer": "ipython3",
   "version": "3.12.8"
  }
 },
 "nbformat": 4,
 "nbformat_minor": 2
}
