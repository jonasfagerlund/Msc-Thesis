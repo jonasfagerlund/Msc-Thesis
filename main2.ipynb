{
 "cells": [
  {
   "cell_type": "code",
   "execution_count": 168,
   "metadata": {},
   "outputs": [],
   "source": [
    "import pandas as pd\n",
    "import numpy as np\n",
    "\n",
    "df = pd.read_stata(\"./serrano/serrano_2024_Stata/serrano.dta\")"
   ]
  },
  {
   "cell_type": "code",
   "execution_count": 169,
   "metadata": {},
   "outputs": [
    {
     "data": {
      "text/plain": [
       "15327519"
      ]
     },
     "metadata": {},
     "output_type": "display_data"
    },
    {
     "data": {
      "text/plain": [
       "1550192"
      ]
     },
     "metadata": {},
     "output_type": "display_data"
    }
   ],
   "source": [
    "display(len(df))\n",
    "display(df[\"ORGNR\"].nunique())"
   ]
  },
  {
   "cell_type": "markdown",
   "metadata": {},
   "source": [
    "# General Filters"
   ]
  },
  {
   "cell_type": "code",
   "execution_count": 304,
   "metadata": {},
   "outputs": [],
   "source": [
    "\"\"\"\n",
    "These filter should be thought through and written about in the methodology section.\n",
    "We want to avoid cherry-picking the data, but we also want to avoid including data that is not relevant to the study.\n",
    "\n",
    "We also want to avoid survuvalrship bias, i.e., we want to avoid including only the companies that have survived.\n",
    "\"\"\"\n",
    "# Maybe add something about negative equity, i.e., companies that are bankrupt or close to bankruptcy.\n",
    "filtered_df = df[(df['ser_year'] >= 2011) & # 2012-2019 for final dataset, stable period with no major economic crises, here 2011 so we can get growth measures for 2012\n",
    "                 (df['ser_year'] <= 2019) & # and stable interest rates, bnp growth, inflation\n",
    "                 (df['ser_jurform'] == 49) & # aktiebolag\n",
    "                 (df['ser_aktiv'] == 1) & # active companies\n",
    "                 (df['ser_ftgkategori'] == 30) & # private companies, i.e., not state-owned etc.\n",
    "                 (df['ser_stklf'] >= 2) & # companies with at least 10 employee for final dataset. Include smaller here to then drop\n",
    "                 (df['knc_kncfall'] == 1) & # only include independet companies, i.e., not subsidiaries or parent companies THIS IS UP FOR DEBATE\n",
    "                 (df['rr01_ntoms'] > 0) & # remove companies with no turnover\n",
    "                 (df['ser_inregyr'] == 1)] # only include companies that are registered at SCB (just three observations are not)\n",
    "# unsure about the last one, might remove to make the dataset larger."
   ]
  },
  {
   "cell_type": "code",
   "execution_count": 305,
   "metadata": {},
   "outputs": [
    {
     "data": {
      "text/plain": [
       "310859"
      ]
     },
     "metadata": {},
     "output_type": "display_data"
    },
    {
     "data": {
      "text/plain": [
       "72117"
      ]
     },
     "metadata": {},
     "output_type": "display_data"
    }
   ],
   "source": [
    "display(len(filtered_df))\n",
    "display(filtered_df[\"ORGNR\"].nunique())"
   ]
  },
  {
   "cell_type": "code",
   "execution_count": 306,
   "metadata": {},
   "outputs": [],
   "source": [
    "# Sort the dataframe so ORGNR are together and sorted by year after that.\n",
    "filtered_df = filtered_df.sort_values(by=[\"ORGNR\", \"ser_year\"])"
   ]
  },
  {
   "cell_type": "code",
   "execution_count": 307,
   "metadata": {},
   "outputs": [
    {
     "data": {
      "text/plain": [
       "ser_year\n",
       "2011.0    35012\n",
       "2018.0    34734\n",
       "2016.0    34699\n",
       "2012.0    34672\n",
       "2017.0    34580\n",
       "2019.0    34415\n",
       "2013.0    34368\n",
       "2015.0    34352\n",
       "2014.0    34027\n",
       "Name: count, dtype: int64"
      ]
     },
     "execution_count": 307,
     "metadata": {},
     "output_type": "execute_result"
    }
   ],
   "source": [
    "filtered_df[\"ser_year\"].value_counts()"
   ]
  },
  {
   "cell_type": "code",
   "execution_count": 308,
   "metadata": {},
   "outputs": [
    {
     "data": {
      "text/plain": [
       "'\\nOnly include companies that fit all criteria in order, no year should be missing from the series.\\n\\nMaybe do this.\\n'"
      ]
     },
     "execution_count": 308,
     "metadata": {},
     "output_type": "execute_result"
    }
   ],
   "source": [
    "\"\"\"\n",
    "Only include companies that fit all criteria in order, no year should be missing from the series.\n",
    "\n",
    "Maybe do this.\n",
    "\"\"\""
   ]
  },
  {
   "cell_type": "markdown",
   "metadata": {},
   "source": [
    "# Growth Variable"
   ]
  },
  {
   "cell_type": "code",
   "execution_count": 309,
   "metadata": {},
   "outputs": [
    {
     "name": "stderr",
     "output_type": "stream",
     "text": [
      "/var/folders/pd/d0m27jy17d36rd2w_8y762cr0000gn/T/ipykernel_30763/3022460389.py:13: DeprecationWarning: DataFrameGroupBy.apply operated on the grouping columns. This behavior is deprecated, and in a future version of pandas the grouping columns will be excluded from the operation. Either pass `include_groups=False` to exclude the groupings or explicitly select the grouping columns after groupby to silence this warning.\n",
      "  filtered_df['HIGH_GROWTH'] = filtered_df.groupby('ORGNR').apply(\n"
     ]
    }
   ],
   "source": [
    "\"\"\"\n",
    "Adding a variable for growth.\n",
    "\n",
    "This is according to OECD's definition of high-growth firms,\n",
    "which is defined as firms with an average annualized growth greater than 20%\n",
    "per annum over a three-year period, and with ten or more employees at the beginning of the period.\n",
    "\"\"\"\n",
    "\n",
    "# Calculate the annual growth rate for each company and add it as a new column\n",
    "filtered_df['TURNOVER_GROWTH'] = filtered_df.groupby('ORGNR')['rr01_ntoms'].pct_change()\n",
    "\n",
    "# Identify high-growth periods and create a new binary column\n",
    "filtered_df['HIGH_GROWTH'] = filtered_df.groupby('ORGNR').apply(\n",
    "    lambda x: ((x['TURNOVER_GROWTH'] > 0.20).rolling(window=3).sum() == 3)\n",
    ").reset_index(level=0, drop=True).astype(int)\n",
    "\n"
   ]
  },
  {
   "cell_type": "code",
   "execution_count": 310,
   "metadata": {},
   "outputs": [],
   "source": [
    "\"\"\"\n",
    "Drop 2011 observaitons. It was only included to calculate the growth rate for 2012.\n",
    "\n",
    "Drop companies w/ fewer than 10 employees. They were included to calculate the growth for companies that are included in the final dataset.\n",
    "\"\"\"\n",
    "filtered_df = filtered_df[filtered_df[\"ser_year\"] != 2011]\n",
    "filtered_df = filtered_df[filtered_df[\"ser_stklf\"] != 2]"
   ]
  },
  {
   "cell_type": "code",
   "execution_count": 316,
   "metadata": {},
   "outputs": [],
   "source": [
    "# drop companies w/ growth rates that are NaN\n",
    "filtered_df = filtered_df.dropna(subset=[\"TURNOVER_GROWTH\"])\n",
    "\n",
    "# drop companies w/ growth rates that are exactly 0. For now I don't know how to handle these or where they stem from.\n",
    "filtered_df = filtered_df[filtered_df[\"TURNOVER_GROWTH\"] != 0]"
   ]
  },
  {
   "cell_type": "code",
   "execution_count": 318,
   "metadata": {},
   "outputs": [
    {
     "data": {
      "text/plain": [
       "HIGH_GROWTH\n",
       "0    87117\n",
       "1     2738\n",
       "Name: count, dtype: int64"
      ]
     },
     "execution_count": 318,
     "metadata": {},
     "output_type": "execute_result"
    }
   ],
   "source": [
    "filtered_df[\"HIGH_GROWTH\"].value_counts()"
   ]
  },
  {
   "cell_type": "markdown",
   "metadata": {},
   "source": [
    "# Industry Variable"
   ]
  },
  {
   "cell_type": "code",
   "execution_count": 319,
   "metadata": {},
   "outputs": [],
   "source": [
    "\"\"\"\n",
    "There are a lot of columns in the dataset that is about the comapnies industry, a lot of different SNI codes.\n",
    "But we've decided to use the 'bransch_borsbransch_konv' column as the industry variable. Which is a conversion of the SNI codes\n",
    "to fewer branches.\n",
    "\n",
    "Some companies have changed industry over time, so we determine the most frequent industry for each company and add it as a new column\n",
    "to each row assicated with that company.\n",
    "\"\"\"\n",
    "\n",
    "# add one industry to all companies.\n",
    "dict_of_industries = {\n",
    "    10: 'Energy & Environment',\n",
    "    15: 'Materials',\n",
    "    20: 'Industrial goods',\n",
    "    22: 'Construction industry',\n",
    "    25: 'Shopping goods',\n",
    "    30: 'Convenience goods',\n",
    "    35: 'Health & Education',\n",
    "    40: 'Finance & Real estate',\n",
    "    45: 'IT & Electronics',\n",
    "    50: 'Telecom & Media',\n",
    "    60: 'Corporate services',\n",
    "    98: 'Other',\n",
    "    99: 'SNI07 missing'\n",
    "}\n",
    "\n",
    "# Determine the most frequent 'bransch_borsbransch_konv' value for each company\n",
    "most_frequent_industry = filtered_df.groupby('ORGNR')['bransch_borsbransch_konv'].agg(lambda x: x.mode()[0])\n",
    "\n",
    "# Map the most frequent 'bransch_borsbransch_konv' value to the corresponding industry name\n",
    "most_frequent_industry = most_frequent_industry.map(dict_of_industries)\n",
    "\n",
    "# Add the new 'INDUSTRY' column to the DataFrame\n",
    "filtered_df = filtered_df.merge(most_frequent_industry.rename('INDUSTRY'), on='ORGNR')\n",
    "\n",
    "# Filter out rows where the 'INDUSTRY' column is 'SNI07 missing' or 'Other'\n",
    "filtered_df = filtered_df[~filtered_df['INDUSTRY'].isin(['SNI07 missing', 'Other'])]"
   ]
  },
  {
   "cell_type": "markdown",
   "metadata": {},
   "source": [
    "# Variables"
   ]
  },
  {
   "cell_type": "code",
   "execution_count": 320,
   "metadata": {},
   "outputs": [
    {
     "data": {
      "text/plain": [
       "88456"
      ]
     },
     "execution_count": 320,
     "metadata": {},
     "output_type": "execute_result"
    }
   ],
   "source": [
    "len(filtered_df)"
   ]
  },
  {
   "cell_type": "code",
   "execution_count": 321,
   "metadata": {},
   "outputs": [],
   "source": [
    "\"\"\"\n",
    "Some more filtering to remove weird values.\n",
    "\n",
    "Negative assets, negative debt etc.\n",
    "\n",
    "It removes about 150 observations.\n",
    "\"\"\"\n",
    "\n",
    "# drop observations with no assets\n",
    "filtered_df = filtered_df[filtered_df[\"br09_tillgsu\"] > 0]\n",
    "\n",
    "# drop observations with negative tangible assets\n",
    "filtered_df = filtered_df[filtered_df[\"br02_matanlsu\"] >= 0]\n",
    "\n",
    "# drop observations with negative current assets\n",
    "filtered_df = filtered_df[filtered_df[\"br08_omstgsu\"] > 0]\n",
    "\n",
    "# drop observations with negative inventories\n",
    "filtered_df = filtered_df[filtered_df[\"br06c_lagersu\"] >= 0]\n",
    "\n",
    "# drop observations with positive depreciation\n",
    "filtered_df = filtered_df[filtered_df[\"rr05_avskriv\"] <= 0]\n",
    "\n",
    "# drop one weird outlier when it comes to interest expenses\n",
    "filtered_df = filtered_df[filtered_df[\"rr09_finkostn\"] > -200000]\n",
    "\n",
    "# drop observations with negative long-term debt\n",
    "filtered_df = filtered_df[filtered_df[\"br15_lsksu\"] >= 0]\n",
    "\n",
    "# drop observations with negative short-term debt\n",
    "filtered_df = filtered_df[filtered_df[\"br13_ksksu\"] > 0]"
   ]
  },
  {
   "cell_type": "code",
   "execution_count": 322,
   "metadata": {},
   "outputs": [
    {
     "data": {
      "text/plain": [
       "88325"
      ]
     },
     "execution_count": 322,
     "metadata": {},
     "output_type": "execute_result"
    }
   ],
   "source": [
    "len(filtered_df)"
   ]
  },
  {
   "cell_type": "markdown",
   "metadata": {},
   "source": [
    "## Independent"
   ]
  },
  {
   "cell_type": "code",
   "execution_count": 323,
   "metadata": {},
   "outputs": [],
   "source": [
    "\"\"\"\n",
    "Firm size\n",
    "\n",
    "Some articles use the log of sales, others the log of assets. We'll add both to the dataset and see which one works best.\n",
    "\"\"\"\n",
    "\n",
    "filtered_df[\"SIZE_LOG_ASSETS\"] = np.log(filtered_df[\"br09_tillgsu\"])\n",
    "filtered_df[\"SIZE_LOG_SALES\"] = np.log(filtered_df[\"rr01_ntoms\"])"
   ]
  },
  {
   "cell_type": "code",
   "execution_count": 327,
   "metadata": {},
   "outputs": [],
   "source": [
    "\"\"\"\n",
    "Asset tangibility\n",
    "\n",
    "Most common thing to add as a proxy is the ratio of tangible fixed assets to total assets.\n",
    "Maybe include intangible assets as well, are such assets (patents, brands etc) used as collateral?\n",
    "\n",
    "There are quite a lot of companies with 0 tangible assets (8000 observations), which is a bit strange. Maybe we should remove those.\n",
    "\"\"\"\n",
    "\n",
    "# tangible assets / total assets\n",
    "filtered_df[\"ASSET_TANGIBILITY\"] = filtered_df[\"br02_matanlsu\"] / filtered_df[\"br09_tillgsu\"]"
   ]
  },
  {
   "cell_type": "code",
   "execution_count": 330,
   "metadata": {},
   "outputs": [],
   "source": [
    "\"\"\"\n",
    "liquidity on debt\n",
    "\n",
    "Cole use cash and cash equivalents to total assets, but we could also use current ratio or quick ratio.\n",
    "\"\"\"\n",
    "\n",
    "# Liquid assets (cash and market securities) to total assets\n",
    "filtered_df[\"LIQUIDITY\"] = filtered_df[\"br07_kplackaba\"] / filtered_df[\"br09_tillgsu\"]\n",
    "\n",
    "# Current ratio: current assets divided by current liabilities\n",
    "filtered_df[\"CURRENT_RATIO\"] = filtered_df[\"br08_omstgsu\"] / filtered_df[\"br13_ksksu\"]\n",
    "\n",
    "# Quick ratio: (current assets - inventory) divided by current liabilities\n",
    "filtered_df[\"QUICK_RATIO\"] = (filtered_df[\"br08_omstgsu\"] - filtered_df[\"br06c_lagersu\"]) / filtered_df[\"br13_ksksu\"]\n"
   ]
  },
  {
   "cell_type": "code",
   "execution_count": 361,
   "metadata": {},
   "outputs": [
    {
     "data": {
      "text/plain": [
       "ny_vinstprc\n",
       "0.000000    63\n",
       "0.062500     6\n",
       "0.038462     4\n",
       "0.052632     4\n",
       "0.064516     4\n",
       "            ..\n",
       "0.046418     1\n",
       "0.023444     1\n",
       "0.049516     1\n",
       "0.009657     1\n",
       "0.022095     1\n",
       "Name: count, Length: 87969, dtype: int64"
      ]
     },
     "execution_count": 361,
     "metadata": {},
     "output_type": "execute_result"
    }
   ],
   "source": [
    "\"\"\"\n",
    "Profitability\n",
    "\n",
    "There are many measures for this, RoA, RoE, operating margin, net margin etc.\n",
    "\"\"\"\n",
    "\n",
    "# Profit margin according to serrano is already defined as 'ny_vinstprc'\n",
    "\n",
    "filtered_df['ny_vinstprc'].value_counts(dropna=False)"
   ]
  },
  {
   "cell_type": "code",
   "execution_count": 335,
   "metadata": {},
   "outputs": [],
   "source": [
    "\"\"\"\n",
    "Tax shields\n",
    "\n",
    "For now I only find definition in Vanacker & Manigart (2010).\n",
    "\"\"\"\n",
    "\n",
    "# Debt tax shields: Interest expenses / Total Assets\n",
    "filtered_df['DEBT_TAX_SHIELDS'] = filtered_df['rr09_finkostn'] / filtered_df['br09_tillgsu']\n",
    "\n",
    "# Non-debt tax shields: Depreciation and amortization / Total Assets\n",
    "filtered_df['NON_DEBT_TAX_SHIELDS'] = filtered_df['rr05_avskriv'] / filtered_df['br09_tillgsu']"
   ]
  },
  {
   "cell_type": "code",
   "execution_count": 252,
   "metadata": {},
   "outputs": [
    {
     "data": {
      "text/plain": [
       "'\\nTax\\n\\nDo we mean the corporate tax in Sweden or the % tax the companies actually pay?\\n'"
      ]
     },
     "execution_count": 252,
     "metadata": {},
     "output_type": "execute_result"
    }
   ],
   "source": [
    "\"\"\"\n",
    "Tax\n",
    "\n",
    "Do we mean the corporate tax in Sweden or the % tax the companies actually pay?\n",
    "\"\"\""
   ]
  },
  {
   "cell_type": "code",
   "execution_count": null,
   "metadata": {},
   "outputs": [],
   "source": [
    "\"\"\"\n",
    "Growth opportunities\n",
    "\n",
    "Some have change in sales too. But that gets weird for us since that is what we use to determine HGFs.\n",
    "\"\"\"\n",
    "\n",
    "# % change in total assets\n",
    "filtered_df['GROWTH_OPPORTUNITIES_ASSETS'] = filtered_df.groupby('ORGNR')['br09_tillgsu'].pct_change()\n"
   ]
  },
  {
   "cell_type": "code",
   "execution_count": null,
   "metadata": {},
   "outputs": [
    {
     "data": {
      "text/plain": [
       "GROWTH_OPPORTUNITIES_ASSETS\n",
       " NaN         23593\n",
       " 0.000000      225\n",
       " 0.200000        7\n",
       " 0.142857        5\n",
       " 0.166667        5\n",
       "             ...  \n",
       "-0.075483        1\n",
       " 0.041977        1\n",
       "-0.140195        1\n",
       "-0.007380        1\n",
       "-0.278154        1\n",
       "Name: count, Length: 64131, dtype: int64"
      ]
     },
     "execution_count": 339,
     "metadata": {},
     "output_type": "execute_result"
    }
   ],
   "source": [
    "filtered_df[\"GROWTH_OPPORTUNITIES_ASSETS\"].value_counts(dropna=False)\n",
    "# I don't know how there can be NaNs."
   ]
  },
  {
   "cell_type": "code",
   "execution_count": 342,
   "metadata": {},
   "outputs": [],
   "source": [
    "\"\"\"\n",
    "Age\n",
    "\n",
    "Need to discuss this since age could be year incorporated vs todays date, or 2019, or for every year of observation\n",
    "for one company.\n",
    "\"\"\"\n",
    "\n",
    "# Change reg date to only year\n",
    "filtered_df[\"ser_regdat\"] = pd.to_datetime(filtered_df[\"ser_regdat\"])\n",
    "filtered_df[\"ser_regdat\"] = filtered_df[\"ser_regdat\"].dt.year\n",
    "\n",
    "# Age of the company (year of observation - year of registration)\n",
    "filtered_df[\"AGE\"] = filtered_df[\"ser_year\"] - filtered_df[\"ser_regdat\"]"
   ]
  },
  {
   "cell_type": "markdown",
   "metadata": {},
   "source": [
    "## Dependent"
   ]
  },
  {
   "cell_type": "code",
   "execution_count": 345,
   "metadata": {},
   "outputs": [],
   "source": [
    "\"\"\"\n",
    "Leverage\n",
    "\"\"\"\n",
    "\n",
    "# Total debt to total assets\n",
    "filtered_df['LEVERAGE_TOTAL'] = (filtered_df['br15_lsksu'] + filtered_df['br13_ksksu']) / filtered_df['br09_tillgsu']\n",
    "\n",
    "# Long-term debt to total assets (all non-current liabilities, could be other things)\n",
    "filtered_df['LEVERAGE_LONG'] = filtered_df['br15_lsksu'] / filtered_df['br09_tillgsu']\n",
    "\n",
    "# Short-term debt to total assets (all current liabilities, could be other things)\n",
    "filtered_df['LEVERAGE_SHORT'] = filtered_df['br13_ksksu'] / filtered_df['br09_tillgsu']"
   ]
  },
  {
   "cell_type": "markdown",
   "metadata": {},
   "source": [
    "# Misc."
   ]
  },
  {
   "cell_type": "code",
   "execution_count": null,
   "metadata": {},
   "outputs": [],
   "source": [
    "# save to a excel file\n",
    "filtered_df.head(10000).to_excel(\"filtered_df.xlsx\", index=False)\n",
    "\n",
    "# cheking stuff\n",
    "filtered_df[\"br15_lsksu\"].value_counts(dropna=False)\n",
    "# see if any company have negative br09_tillgsu\n",
    "filtered_df[filtered_df[\"br15_lsksu\"] < 0]\n",
    "#filtered_df[\"rr09_finkostn\"].describe()"
   ]
  },
  {
   "cell_type": "markdown",
   "metadata": {},
   "source": [
    "# Split the dataset in HGF vs non-HGF"
   ]
  },
  {
   "cell_type": "code",
   "execution_count": 349,
   "metadata": {},
   "outputs": [],
   "source": [
    "# Identify HGF ORGNR\n",
    "high_growth_ids = filtered_df[filtered_df[\"HIGH_GROWTH\"] == 1][\"ORGNR\"].unique()\n",
    "\n",
    "# Create a new DataFrame with only high-growth firms\n",
    "HGF_df = filtered_df[filtered_df[\"ORGNR\"].isin(high_growth_ids)]\n",
    "\n",
    "# Create a new DataFrame with only non-high-growth firms\n",
    "non_HGF_df = filtered_df[~filtered_df[\"ORGNR\"].isin(high_growth_ids)]"
   ]
  },
  {
   "cell_type": "code",
   "execution_count": 350,
   "metadata": {},
   "outputs": [
    {
     "data": {
      "text/plain": [
       "8222"
      ]
     },
     "metadata": {},
     "output_type": "display_data"
    },
    {
     "data": {
      "text/plain": [
       "80103"
      ]
     },
     "metadata": {},
     "output_type": "display_data"
    },
    {
     "data": {
      "text/plain": [
       "1937"
      ]
     },
     "metadata": {},
     "output_type": "display_data"
    },
    {
     "data": {
      "text/plain": [
       "21656"
      ]
     },
     "metadata": {},
     "output_type": "display_data"
    }
   ],
   "source": [
    "display(len(HGF_df), len(non_HGF_df))\n",
    "display(HGF_df[\"ORGNR\"].nunique(), non_HGF_df[\"ORGNR\"].nunique())"
   ]
  },
  {
   "cell_type": "markdown",
   "metadata": {},
   "source": [
    "# Descriptive Data"
   ]
  },
  {
   "cell_type": "code",
   "execution_count": 351,
   "metadata": {},
   "outputs": [
    {
     "data": {
      "text/plain": [
       "INDUSTRY\n",
       "Corporate services       27.465152\n",
       "Construction industry    27.258647\n",
       "Shopping goods           14.455343\n",
       "Health & Education       11.099639\n",
       "IT & Electronics          7.434177\n",
       "Industrial goods          4.594734\n",
       "Convenience goods         2.891069\n",
       "Finance & Real estate     2.271554\n",
       "Materials                 1.135777\n",
       "Telecom & Media           0.929272\n",
       "Energy & Environment      0.464636\n",
       "Name: proportion, dtype: float64"
      ]
     },
     "metadata": {},
     "output_type": "display_data"
    },
    {
     "data": {
      "text/plain": [
       "INDUSTRY\n",
       "Corporate services       23.623938\n",
       "Shopping goods           22.109346\n",
       "Construction industry    21.596786\n",
       "Industrial goods          8.417990\n",
       "Health & Education        8.256372\n",
       "Convenience goods         7.586812\n",
       "IT & Electronics          3.338567\n",
       "Finance & Real estate     1.823975\n",
       "Materials                 1.703916\n",
       "Telecom & Media           0.992796\n",
       "Energy & Environment      0.549501\n",
       "Name: proportion, dtype: float64"
      ]
     },
     "metadata": {},
     "output_type": "display_data"
    }
   ],
   "source": [
    "\"\"\"\n",
    "Industry\n",
    "\"\"\"\n",
    "# Get one row per company (HGF)\n",
    "unique_HGFs = HGF_df.drop_duplicates(subset=[\"ORGNR\"])\n",
    "\n",
    "# Get one row per company (non_HGF)\n",
    "unique_non_HGFs = non_HGF_df.drop_duplicates(subset=[\"ORGNR\"])\n",
    "\n",
    "display(unique_HGFs[\"INDUSTRY\"].value_counts(normalize=True) * 100)\n",
    "display(unique_non_HGFs[\"INDUSTRY\"].value_counts(normalize=True) * 100)"
   ]
  },
  {
   "cell_type": "code",
   "execution_count": 352,
   "metadata": {},
   "outputs": [
    {
     "data": {
      "text/plain": [
       "count    8222.000000\n",
       "mean        0.562633\n",
       "std         0.419246\n",
       "min         0.023494\n",
       "25%         0.390730\n",
       "50%         0.541047\n",
       "75%         0.699702\n",
       "max        31.113208\n",
       "Name: LEVERAGE_SHORT, dtype: float64"
      ]
     },
     "metadata": {},
     "output_type": "display_data"
    },
    {
     "data": {
      "text/plain": [
       "count    80103.000000\n",
       "mean         0.546419\n",
       "std         11.983994\n",
       "min          0.000767\n",
       "25%          0.316832\n",
       "50%          0.464484\n",
       "75%          0.639714\n",
       "max       3390.000000\n",
       "Name: LEVERAGE_SHORT, dtype: float64"
      ]
     },
     "metadata": {},
     "output_type": "display_data"
    },
    {
     "data": {
      "text/plain": [
       "count    8222.000000\n",
       "mean        0.111813\n",
       "std         0.171862\n",
       "min         0.000000\n",
       "25%         0.000000\n",
       "50%         0.016527\n",
       "75%         0.175766\n",
       "max         2.289017\n",
       "Name: LEVERAGE_LONG, dtype: float64"
      ]
     },
     "metadata": {},
     "output_type": "display_data"
    },
    {
     "data": {
      "text/plain": [
       "count    80103.000000\n",
       "mean         0.129868\n",
       "std          0.374154\n",
       "min          0.000000\n",
       "25%          0.000000\n",
       "50%          0.025869\n",
       "75%          0.211284\n",
       "max         47.798479\n",
       "Name: LEVERAGE_LONG, dtype: float64"
      ]
     },
     "metadata": {},
     "output_type": "display_data"
    },
    {
     "data": {
      "text/plain": [
       "count    8222.000000\n",
       "mean        0.674446\n",
       "std         0.424567\n",
       "min         0.046232\n",
       "25%         0.504874\n",
       "50%         0.674295\n",
       "75%         0.822678\n",
       "max        31.113208\n",
       "Name: LEVERAGE_TOTAL, dtype: float64"
      ]
     },
     "metadata": {},
     "output_type": "display_data"
    },
    {
     "data": {
      "text/plain": [
       "count    80103.000000\n",
       "mean         0.676287\n",
       "std         11.994153\n",
       "min          0.002862\n",
       "25%          0.439318\n",
       "50%          0.613147\n",
       "75%          0.784030\n",
       "max       3390.000000\n",
       "Name: LEVERAGE_TOTAL, dtype: float64"
      ]
     },
     "metadata": {},
     "output_type": "display_data"
    }
   ],
   "source": [
    "\"\"\"\n",
    "Leverage\n",
    "\"\"\"\n",
    "display(HGF_df[\"LEVERAGE_SHORT\"].describe())\n",
    "display(non_HGF_df[\"LEVERAGE_SHORT\"].describe())\n",
    "display(HGF_df[\"LEVERAGE_LONG\"].describe())\n",
    "display(non_HGF_df[\"LEVERAGE_LONG\"].describe())\n",
    "display(HGF_df[\"LEVERAGE_TOTAL\"].describe())\n",
    "display(non_HGF_df[\"LEVERAGE_TOTAL\"].describe())"
   ]
  },
  {
   "cell_type": "code",
   "execution_count": 353,
   "metadata": {},
   "outputs": [
    {
     "data": {
      "text/plain": [
       "count    8222.000000\n",
       "mean        8.904761\n",
       "std         1.040719\n",
       "min         3.970292\n",
       "25%         8.196161\n",
       "50%         8.851449\n",
       "75%         9.557558\n",
       "max        14.915306\n",
       "Name: SIZE_LOG_ASSETS, dtype: float64"
      ]
     },
     "metadata": {},
     "output_type": "display_data"
    },
    {
     "data": {
      "text/plain": [
       "count    80103.000000\n",
       "mean         8.949728\n",
       "std          1.082898\n",
       "min          0.000000\n",
       "25%          8.236685\n",
       "50%          8.937744\n",
       "75%          9.623641\n",
       "max         16.914990\n",
       "Name: SIZE_LOG_ASSETS, dtype: float64"
      ]
     },
     "metadata": {},
     "output_type": "display_data"
    },
    {
     "data": {
      "text/plain": [
       "count    8222.000000\n",
       "mean        9.867311\n",
       "std         0.869937\n",
       "min         3.401197\n",
       "25%         9.320651\n",
       "50%         9.808022\n",
       "75%        10.366537\n",
       "max        14.877591\n",
       "Name: SIZE_LOG_SALES, dtype: float64"
      ]
     },
     "metadata": {},
     "output_type": "display_data"
    },
    {
     "data": {
      "text/plain": [
       "count    80103.000000\n",
       "mean         9.867097\n",
       "std          0.890971\n",
       "min          0.000000\n",
       "25%          9.304377\n",
       "50%          9.773265\n",
       "75%         10.361766\n",
       "max         15.618990\n",
       "Name: SIZE_LOG_SALES, dtype: float64"
      ]
     },
     "metadata": {},
     "output_type": "display_data"
    }
   ],
   "source": [
    "\"\"\"\n",
    "Firm size\n",
    "\"\"\"\n",
    "display(HGF_df[\"SIZE_LOG_ASSETS\"].describe())\n",
    "display(non_HGF_df[\"SIZE_LOG_ASSETS\"].describe())\n",
    "display(HGF_df[\"SIZE_LOG_SALES\"].describe())\n",
    "display(non_HGF_df[\"SIZE_LOG_SALES\"].describe())"
   ]
  },
  {
   "cell_type": "code",
   "execution_count": 354,
   "metadata": {},
   "outputs": [
    {
     "data": {
      "text/plain": [
       "count    8222.000000\n",
       "mean        0.178163\n",
       "std         0.230602\n",
       "min         0.000000\n",
       "25%         0.011363\n",
       "50%         0.062971\n",
       "75%         0.275648\n",
       "max         0.965418\n",
       "Name: ASSET_TANGIBILITY, dtype: float64"
      ]
     },
     "metadata": {},
     "output_type": "display_data"
    },
    {
     "data": {
      "text/plain": [
       "count    80103.000000\n",
       "mean         0.226686\n",
       "std          0.248352\n",
       "min          0.000000\n",
       "25%          0.022975\n",
       "50%          0.117036\n",
       "75%          0.385131\n",
       "max          0.996224\n",
       "Name: ASSET_TANGIBILITY, dtype: float64"
      ]
     },
     "metadata": {},
     "output_type": "display_data"
    }
   ],
   "source": [
    "\"\"\"\n",
    "Asset tangibility\n",
    "\"\"\"\n",
    "display(HGF_df[\"ASSET_TANGIBILITY\"].describe())\n",
    "display(non_HGF_df[\"ASSET_TANGIBILITY\"].describe())"
   ]
  },
  {
   "cell_type": "code",
   "execution_count": 355,
   "metadata": {},
   "outputs": [
    {
     "data": {
      "text/plain": [
       "count    8222.000000\n",
       "mean        0.258230\n",
       "std         0.226480\n",
       "min        -0.166153\n",
       "25%         0.059602\n",
       "50%         0.208982\n",
       "75%         0.409515\n",
       "max         1.128364\n",
       "Name: LIQUIDITY, dtype: float64"
      ]
     },
     "metadata": {},
     "output_type": "display_data"
    },
    {
     "data": {
      "text/plain": [
       "count    80103.000000\n",
       "mean         0.250082\n",
       "std          0.225441\n",
       "min         -0.464189\n",
       "25%          0.053498\n",
       "50%          0.198467\n",
       "75%          0.394084\n",
       "max          1.760000\n",
       "Name: LIQUIDITY, dtype: float64"
      ]
     },
     "metadata": {},
     "output_type": "display_data"
    },
    {
     "data": {
      "text/plain": [
       "count    8222.000000\n",
       "mean        1.612631\n",
       "std         1.050302\n",
       "min         0.032141\n",
       "25%         1.064974\n",
       "50%         1.390331\n",
       "75%         1.874925\n",
       "max        19.233420\n",
       "Name: CURRENT_RATIO, dtype: float64"
      ]
     },
     "metadata": {},
     "output_type": "display_data"
    },
    {
     "data": {
      "text/plain": [
       "count    80103.000000\n",
       "mean         1.842341\n",
       "std          6.429229\n",
       "min          0.000295\n",
       "25%          1.075794\n",
       "50%          1.474479\n",
       "75%          2.068219\n",
       "max       1303.666667\n",
       "Name: CURRENT_RATIO, dtype: float64"
      ]
     },
     "metadata": {},
     "output_type": "display_data"
    },
    {
     "data": {
      "text/plain": [
       "count    8222.000000\n",
       "mean        1.492987\n",
       "std         1.042963\n",
       "min         0.031549\n",
       "25%         0.938966\n",
       "50%         1.293448\n",
       "75%         1.765038\n",
       "max        19.233420\n",
       "Name: QUICK_RATIO, dtype: float64"
      ]
     },
     "metadata": {},
     "output_type": "display_data"
    },
    {
     "data": {
      "text/plain": [
       "count    80103.000000\n",
       "mean         1.567765\n",
       "std          6.350414\n",
       "min         -2.636364\n",
       "25%          0.840593\n",
       "50%          1.255836\n",
       "75%          1.810539\n",
       "max       1303.666667\n",
       "Name: QUICK_RATIO, dtype: float64"
      ]
     },
     "metadata": {},
     "output_type": "display_data"
    }
   ],
   "source": [
    "\"\"\"\n",
    "liquidity\n",
    "\"\"\"\n",
    "display(HGF_df[\"LIQUIDITY\"].describe())\n",
    "display(non_HGF_df[\"LIQUIDITY\"].describe())\n",
    "display(HGF_df[\"CURRENT_RATIO\"].describe())\n",
    "display(non_HGF_df[\"CURRENT_RATIO\"].describe())\n",
    "display(HGF_df[\"QUICK_RATIO\"].describe())\n",
    "display(non_HGF_df[\"QUICK_RATIO\"].describe())"
   ]
  },
  {
   "cell_type": "code",
   "execution_count": 356,
   "metadata": {},
   "outputs": [
    {
     "data": {
      "text/plain": [
       "count    8222.000000\n",
       "mean       -0.098134\n",
       "std         6.337403\n",
       "min      -509.500000\n",
       "25%         0.015382\n",
       "50%         0.049869\n",
       "75%         0.104954\n",
       "max        12.133333\n",
       "Name: ny_vinstprc, dtype: float64"
      ]
     },
     "metadata": {},
     "output_type": "display_data"
    },
    {
     "data": {
      "text/plain": [
       "count    80103.000000\n",
       "mean        -0.508930\n",
       "std         73.215937\n",
       "min     -12026.000000\n",
       "25%          0.010176\n",
       "50%          0.039234\n",
       "75%          0.084947\n",
       "max       2959.000000\n",
       "Name: ny_vinstprc, dtype: float64"
      ]
     },
     "metadata": {},
     "output_type": "display_data"
    }
   ],
   "source": [
    "\"\"\"\n",
    "Profitability\n",
    "\"\"\"\n",
    "display(HGF_df[\"ny_vinstprc\"].describe())\n",
    "display(non_HGF_df[\"ny_vinstprc\"].describe())"
   ]
  },
  {
   "cell_type": "code",
   "execution_count": 357,
   "metadata": {},
   "outputs": [
    {
     "data": {
      "text/plain": [
       "count    8222.000000\n",
       "mean       -0.010378\n",
       "std         0.029588\n",
       "min        -0.932665\n",
       "25%        -0.012181\n",
       "50%        -0.004237\n",
       "75%        -0.000779\n",
       "max         0.000000\n",
       "Name: DEBT_TAX_SHIELDS, dtype: float64"
      ]
     },
     "metadata": {},
     "output_type": "display_data"
    },
    {
     "data": {
      "text/plain": [
       "count    80103.000000\n",
       "mean        -0.014487\n",
       "std          0.901509\n",
       "min       -255.000000\n",
       "25%         -0.013719\n",
       "50%         -0.004895\n",
       "75%         -0.000840\n",
       "max          0.000000\n",
       "Name: DEBT_TAX_SHIELDS, dtype: float64"
      ]
     },
     "metadata": {},
     "output_type": "display_data"
    },
    {
     "data": {
      "text/plain": [
       "count    8222.000000\n",
       "mean       -0.042445\n",
       "std         0.060741\n",
       "min        -2.184781\n",
       "25%        -0.060804\n",
       "50%        -0.020802\n",
       "75%        -0.005337\n",
       "max         0.000000\n",
       "Name: NON_DEBT_TAX_SHIELDS, dtype: float64"
      ]
     },
     "metadata": {},
     "output_type": "display_data"
    },
    {
     "data": {
      "text/plain": [
       "count    80103.000000\n",
       "mean        -0.053929\n",
       "std          0.646231\n",
       "min       -175.000000\n",
       "25%         -0.072632\n",
       "50%         -0.029436\n",
       "75%         -0.009339\n",
       "max          0.000000\n",
       "Name: NON_DEBT_TAX_SHIELDS, dtype: float64"
      ]
     },
     "metadata": {},
     "output_type": "display_data"
    }
   ],
   "source": [
    "\"\"\"\n",
    "Tax shields\n",
    "\"\"\"\n",
    "display(HGF_df[\"DEBT_TAX_SHIELDS\"].describe())\n",
    "display(non_HGF_df[\"DEBT_TAX_SHIELDS\"].describe())\n",
    "display(HGF_df[\"NON_DEBT_TAX_SHIELDS\"].describe())\n",
    "display(non_HGF_df[\"NON_DEBT_TAX_SHIELDS\"].describe())"
   ]
  },
  {
   "cell_type": "code",
   "execution_count": 358,
   "metadata": {},
   "outputs": [
    {
     "data": {
      "text/plain": [
       "count    6285.000000\n",
       "mean        0.293369\n",
       "std         0.577566\n",
       "min        -0.941886\n",
       "25%         0.025044\n",
       "50%         0.198993\n",
       "75%         0.423978\n",
       "max        14.164602\n",
       "Name: GROWTH_OPPORTUNITIES_ASSETS, dtype: float64"
      ]
     },
     "metadata": {},
     "output_type": "display_data"
    },
    {
     "data": {
      "text/plain": [
       "count    58447.000000\n",
       "mean         0.075705\n",
       "std          0.363814\n",
       "min         -0.999795\n",
       "25%         -0.058877\n",
       "50%          0.036513\n",
       "75%          0.153152\n",
       "max         43.918590\n",
       "Name: GROWTH_OPPORTUNITIES_ASSETS, dtype: float64"
      ]
     },
     "metadata": {},
     "output_type": "display_data"
    }
   ],
   "source": [
    "\"\"\"\n",
    "Growth opportunities\n",
    "\"\"\"\n",
    "display(HGF_df[\"GROWTH_OPPORTUNITIES_ASSETS\"].describe())\n",
    "display(non_HGF_df[\"GROWTH_OPPORTUNITIES_ASSETS\"].describe())"
   ]
  },
  {
   "cell_type": "code",
   "execution_count": 359,
   "metadata": {},
   "outputs": [
    {
     "data": {
      "text/plain": [
       "count    8222.000000\n",
       "mean        9.313063\n",
       "std         8.203412\n",
       "min         1.000000\n",
       "25%         4.000000\n",
       "50%         7.000000\n",
       "75%        11.000000\n",
       "max        60.000000\n",
       "Name: AGE, dtype: float64"
      ]
     },
     "metadata": {},
     "output_type": "display_data"
    },
    {
     "data": {
      "text/plain": [
       "count    80103.000000\n",
       "mean        17.544886\n",
       "std         14.058056\n",
       "min          1.000000\n",
       "25%          7.000000\n",
       "50%         14.000000\n",
       "75%         25.000000\n",
       "max        152.000000\n",
       "Name: AGE, dtype: float64"
      ]
     },
     "metadata": {},
     "output_type": "display_data"
    }
   ],
   "source": [
    "\"\"\"\n",
    "Age\n",
    "\"\"\"\n",
    "display(HGF_df[\"AGE\"].describe())\n",
    "display(non_HGF_df[\"AGE\"].describe())"
   ]
  },
  {
   "cell_type": "markdown",
   "metadata": {},
   "source": [
    "# Tests"
   ]
  },
  {
   "cell_type": "code",
   "execution_count": null,
   "metadata": {},
   "outputs": [],
   "source": []
  }
 ],
 "metadata": {
  "kernelspec": {
   "display_name": "venv-thesis",
   "language": "python",
   "name": "python3"
  },
  "language_info": {
   "codemirror_mode": {
    "name": "ipython",
    "version": 3
   },
   "file_extension": ".py",
   "mimetype": "text/x-python",
   "name": "python",
   "nbconvert_exporter": "python",
   "pygments_lexer": "ipython3",
   "version": "3.12.8"
  }
 },
 "nbformat": 4,
 "nbformat_minor": 2
}
