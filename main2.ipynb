{
 "cells": [
  {
   "cell_type": "code",
   "execution_count": 2,
   "metadata": {},
   "outputs": [],
   "source": [
    "import pandas as pd\n",
    "import numpy as np\n",
    "\n",
    "df = pd.read_stata(\"./serrano/serrano_2024_Stata/serrano.dta\")"
   ]
  },
  {
   "cell_type": "code",
   "execution_count": 11,
   "metadata": {},
   "outputs": [
    {
     "data": {
      "text/plain": [
       "15327519"
      ]
     },
     "metadata": {},
     "output_type": "display_data"
    },
    {
     "data": {
      "text/plain": [
       "1550192"
      ]
     },
     "metadata": {},
     "output_type": "display_data"
    }
   ],
   "source": [
    "display(len(df))\n",
    "display(df[\"ORGNR\"].nunique())"
   ]
  },
  {
   "cell_type": "code",
   "execution_count": 15,
   "metadata": {},
   "outputs": [
    {
     "data": {
      "text/html": [
       "<div>\n",
       "<style scoped>\n",
       "    .dataframe tbody tr th:only-of-type {\n",
       "        vertical-align: middle;\n",
       "    }\n",
       "\n",
       "    .dataframe tbody tr th {\n",
       "        vertical-align: top;\n",
       "    }\n",
       "\n",
       "    .dataframe thead th {\n",
       "        text-align: right;\n",
       "    }\n",
       "</style>\n",
       "<table border=\"1\" class=\"dataframe\">\n",
       "  <thead>\n",
       "    <tr style=\"text-align: right;\">\n",
       "      <th></th>\n",
       "      <th>ORGNR</th>\n",
       "      <th>ser_jurform</th>\n",
       "      <th>ser_year</th>\n",
       "      <th>ser_pnr</th>\n",
       "      <th>bransch_sni1</th>\n",
       "      <th>ser_aas</th>\n",
       "      <th>ser_inregyr</th>\n",
       "      <th>bransch_sni2</th>\n",
       "      <th>bransch_sni3</th>\n",
       "      <th>bransch_sni4</th>\n",
       "      <th>...</th>\n",
       "      <th>br10g_agtskel</th>\n",
       "      <th>br10h_resarb</th>\n",
       "      <th>br13a_ksklev</th>\n",
       "      <th>br13b_kskknc</th>\n",
       "      <th>br13c_kskov</th>\n",
       "      <th>br15a_lskknc</th>\n",
       "      <th>br15b_lskov</th>\n",
       "      <th>br15c_obllan</th>\n",
       "      <th>ser_regdat</th>\n",
       "      <th>regfall</th>\n",
       "    </tr>\n",
       "  </thead>\n",
       "  <tbody>\n",
       "    <tr>\n",
       "      <th>0</th>\n",
       "      <td>1.324107e+09</td>\n",
       "      <td>31.0</td>\n",
       "      <td>2000.0</td>\n",
       "      <td>38237.0</td>\n",
       "      <td>NaN</td>\n",
       "      <td>0.0</td>\n",
       "      <td>1.0</td>\n",
       "      <td>NaN</td>\n",
       "      <td>NaN</td>\n",
       "      <td>NaN</td>\n",
       "      <td>...</td>\n",
       "      <td>NaN</td>\n",
       "      <td>NaN</td>\n",
       "      <td>NaN</td>\n",
       "      <td>NaN</td>\n",
       "      <td>NaN</td>\n",
       "      <td>NaN</td>\n",
       "      <td>NaN</td>\n",
       "      <td>NaN</td>\n",
       "      <td>2000-02-13</td>\n",
       "      <td>SCB</td>\n",
       "    </tr>\n",
       "    <tr>\n",
       "      <th>1</th>\n",
       "      <td>2.021000e+09</td>\n",
       "      <td>81.0</td>\n",
       "      <td>1998.0</td>\n",
       "      <td>10333.0</td>\n",
       "      <td>75111.0</td>\n",
       "      <td>0.0</td>\n",
       "      <td>1.0</td>\n",
       "      <td>NaN</td>\n",
       "      <td>NaN</td>\n",
       "      <td>NaN</td>\n",
       "      <td>...</td>\n",
       "      <td>NaN</td>\n",
       "      <td>NaN</td>\n",
       "      <td>NaN</td>\n",
       "      <td>NaN</td>\n",
       "      <td>NaN</td>\n",
       "      <td>NaN</td>\n",
       "      <td>NaN</td>\n",
       "      <td>NaN</td>\n",
       "      <td>1975-01-01</td>\n",
       "      <td>SCB</td>\n",
       "    </tr>\n",
       "    <tr>\n",
       "      <th>2</th>\n",
       "      <td>2.021000e+09</td>\n",
       "      <td>81.0</td>\n",
       "      <td>1998.0</td>\n",
       "      <td>10317.0</td>\n",
       "      <td>75232.0</td>\n",
       "      <td>1.0</td>\n",
       "      <td>1.0</td>\n",
       "      <td>NaN</td>\n",
       "      <td>NaN</td>\n",
       "      <td>NaN</td>\n",
       "      <td>...</td>\n",
       "      <td>NaN</td>\n",
       "      <td>NaN</td>\n",
       "      <td>NaN</td>\n",
       "      <td>NaN</td>\n",
       "      <td>NaN</td>\n",
       "      <td>NaN</td>\n",
       "      <td>NaN</td>\n",
       "      <td>NaN</td>\n",
       "      <td>1975-01-05</td>\n",
       "      <td>SCB</td>\n",
       "    </tr>\n",
       "    <tr>\n",
       "      <th>3</th>\n",
       "      <td>2.021000e+09</td>\n",
       "      <td>81.0</td>\n",
       "      <td>1999.0</td>\n",
       "      <td>10317.0</td>\n",
       "      <td>75232.0</td>\n",
       "      <td>1.0</td>\n",
       "      <td>1.0</td>\n",
       "      <td>NaN</td>\n",
       "      <td>NaN</td>\n",
       "      <td>NaN</td>\n",
       "      <td>...</td>\n",
       "      <td>NaN</td>\n",
       "      <td>NaN</td>\n",
       "      <td>NaN</td>\n",
       "      <td>NaN</td>\n",
       "      <td>NaN</td>\n",
       "      <td>NaN</td>\n",
       "      <td>NaN</td>\n",
       "      <td>NaN</td>\n",
       "      <td>1975-01-05</td>\n",
       "      <td>SCB</td>\n",
       "    </tr>\n",
       "    <tr>\n",
       "      <th>4</th>\n",
       "      <td>2.021000e+09</td>\n",
       "      <td>81.0</td>\n",
       "      <td>2000.0</td>\n",
       "      <td>10317.0</td>\n",
       "      <td>75232.0</td>\n",
       "      <td>1.0</td>\n",
       "      <td>1.0</td>\n",
       "      <td>NaN</td>\n",
       "      <td>NaN</td>\n",
       "      <td>NaN</td>\n",
       "      <td>...</td>\n",
       "      <td>NaN</td>\n",
       "      <td>NaN</td>\n",
       "      <td>NaN</td>\n",
       "      <td>NaN</td>\n",
       "      <td>NaN</td>\n",
       "      <td>NaN</td>\n",
       "      <td>NaN</td>\n",
       "      <td>NaN</td>\n",
       "      <td>1975-01-05</td>\n",
       "      <td>SCB</td>\n",
       "    </tr>\n",
       "  </tbody>\n",
       "</table>\n",
       "<p>5 rows × 176 columns</p>\n",
       "</div>"
      ],
      "text/plain": [
       "          ORGNR  ser_jurform  ser_year  ser_pnr  bransch_sni1  ser_aas  \\\n",
       "0  1.324107e+09         31.0    2000.0  38237.0           NaN      0.0   \n",
       "1  2.021000e+09         81.0    1998.0  10333.0       75111.0      0.0   \n",
       "2  2.021000e+09         81.0    1998.0  10317.0       75232.0      1.0   \n",
       "3  2.021000e+09         81.0    1999.0  10317.0       75232.0      1.0   \n",
       "4  2.021000e+09         81.0    2000.0  10317.0       75232.0      1.0   \n",
       "\n",
       "   ser_inregyr  bransch_sni2  bransch_sni3  bransch_sni4  ...  br10g_agtskel  \\\n",
       "0          1.0           NaN           NaN           NaN  ...            NaN   \n",
       "1          1.0           NaN           NaN           NaN  ...            NaN   \n",
       "2          1.0           NaN           NaN           NaN  ...            NaN   \n",
       "3          1.0           NaN           NaN           NaN  ...            NaN   \n",
       "4          1.0           NaN           NaN           NaN  ...            NaN   \n",
       "\n",
       "   br10h_resarb  br13a_ksklev  br13b_kskknc  br13c_kskov  br15a_lskknc  \\\n",
       "0           NaN           NaN           NaN          NaN           NaN   \n",
       "1           NaN           NaN           NaN          NaN           NaN   \n",
       "2           NaN           NaN           NaN          NaN           NaN   \n",
       "3           NaN           NaN           NaN          NaN           NaN   \n",
       "4           NaN           NaN           NaN          NaN           NaN   \n",
       "\n",
       "   br15b_lskov br15c_obllan ser_regdat regfall  \n",
       "0          NaN          NaN 2000-02-13     SCB  \n",
       "1          NaN          NaN 1975-01-01     SCB  \n",
       "2          NaN          NaN 1975-01-05     SCB  \n",
       "3          NaN          NaN 1975-01-05     SCB  \n",
       "4          NaN          NaN 1975-01-05     SCB  \n",
       "\n",
       "[5 rows x 176 columns]"
      ]
     },
     "execution_count": 15,
     "metadata": {},
     "output_type": "execute_result"
    }
   ],
   "source": [
    "df.head()"
   ]
  },
  {
   "cell_type": "markdown",
   "metadata": {},
   "source": [
    "# General Filters"
   ]
  },
  {
   "cell_type": "code",
   "execution_count": null,
   "metadata": {},
   "outputs": [],
   "source": [
    "\"\"\"\n",
    "These filter should be thought through and written about in the methodology section.\n",
    "We want to avoid cherry-picking the data, but we also want to avoid including data that is not relevant to the study.\n",
    "\n",
    "We also want to avoid survuvalrship bias, i.e., we want to avoid including only the companies that have survived.\n",
    "\"\"\"\n",
    "# Maybe add something about negative equity, i.e., companies that are bankrupt or close to bankruptcy.\n",
    "filtered_df = df[(df['ser_year'] >= 2012) & # just keep 2012-2019, stable period with no major economic crises\n",
    "                 (df['ser_year'] <= 2019) & # and stable interest rates, bnp growth, inflation\n",
    "                 (df['ser_jurform'] == 49) & # aktiebolag\n",
    "                 (df['ser_aktiv'] == 1) & # active companies\n",
    "                 (df['ser_ftgkategori'] == 30) & # private companies, i.e., not state-owned etc.\n",
    "                 (df['ser_stklf'] >= 3) & # companies with at least 10 employee.\n",
    "                 (df['br09_tillgsu'] > 0) & # remove companies with no assets (there aren't many of those)\n",
    "                 (df['knc_kncfall'] == 1)] # only include independet companies, i.e., not subsidiaries or parent companies\n",
    "# unsure about the last one, might remove to make the dataset larger."
   ]
  },
  {
   "cell_type": "code",
   "execution_count": 27,
   "metadata": {},
   "outputs": [
    {
     "data": {
      "text/plain": [
       "96627"
      ]
     },
     "metadata": {},
     "output_type": "display_data"
    },
    {
     "data": {
      "text/plain": [
       "26033"
      ]
     },
     "metadata": {},
     "output_type": "display_data"
    }
   ],
   "source": [
    "display(len(filtered_df))\n",
    "display(filtered_df[\"ORGNR\"].nunique())"
   ]
  },
  {
   "cell_type": "code",
   "execution_count": 29,
   "metadata": {},
   "outputs": [],
   "source": [
    "# Sort the dataframe so ORGNR are together and sorted by year after that.\n",
    "filtered_df = filtered_df.sort_values(by=[\"ORGNR\", \"ser_year\"])"
   ]
  },
  {
   "cell_type": "code",
   "execution_count": 31,
   "metadata": {},
   "outputs": [
    {
     "data": {
      "text/html": [
       "<div>\n",
       "<style scoped>\n",
       "    .dataframe tbody tr th:only-of-type {\n",
       "        vertical-align: middle;\n",
       "    }\n",
       "\n",
       "    .dataframe tbody tr th {\n",
       "        vertical-align: top;\n",
       "    }\n",
       "\n",
       "    .dataframe thead th {\n",
       "        text-align: right;\n",
       "    }\n",
       "</style>\n",
       "<table border=\"1\" class=\"dataframe\">\n",
       "  <thead>\n",
       "    <tr style=\"text-align: right;\">\n",
       "      <th></th>\n",
       "      <th>ORGNR</th>\n",
       "      <th>ser_jurform</th>\n",
       "      <th>ser_year</th>\n",
       "      <th>ser_pnr</th>\n",
       "      <th>bransch_sni1</th>\n",
       "      <th>ser_aas</th>\n",
       "      <th>ser_inregyr</th>\n",
       "      <th>bransch_sni2</th>\n",
       "      <th>bransch_sni3</th>\n",
       "      <th>bransch_sni4</th>\n",
       "      <th>...</th>\n",
       "      <th>br10g_agtskel</th>\n",
       "      <th>br10h_resarb</th>\n",
       "      <th>br13a_ksklev</th>\n",
       "      <th>br13b_kskknc</th>\n",
       "      <th>br13c_kskov</th>\n",
       "      <th>br15a_lskknc</th>\n",
       "      <th>br15b_lskov</th>\n",
       "      <th>br15c_obllan</th>\n",
       "      <th>ser_regdat</th>\n",
       "      <th>regfall</th>\n",
       "    </tr>\n",
       "  </thead>\n",
       "  <tbody>\n",
       "    <tr>\n",
       "      <th>417293</th>\n",
       "      <td>5.560012e+09</td>\n",
       "      <td>49.0</td>\n",
       "      <td>2012.0</td>\n",
       "      <td>81622.0</td>\n",
       "      <td>52112.0</td>\n",
       "      <td>1.0</td>\n",
       "      <td>1.0</td>\n",
       "      <td>52421.0</td>\n",
       "      <td>NaN</td>\n",
       "      <td>NaN</td>\n",
       "      <td>...</td>\n",
       "      <td>0.0</td>\n",
       "      <td>1114.0</td>\n",
       "      <td>4102.0</td>\n",
       "      <td>0.0</td>\n",
       "      <td>3352.0</td>\n",
       "      <td>0.0</td>\n",
       "      <td>0.0</td>\n",
       "      <td>0.0</td>\n",
       "      <td>1867-10-13</td>\n",
       "      <td>BOL</td>\n",
       "    </tr>\n",
       "    <tr>\n",
       "      <th>417294</th>\n",
       "      <td>5.560012e+09</td>\n",
       "      <td>49.0</td>\n",
       "      <td>2013.0</td>\n",
       "      <td>81622.0</td>\n",
       "      <td>52112.0</td>\n",
       "      <td>1.0</td>\n",
       "      <td>1.0</td>\n",
       "      <td>52421.0</td>\n",
       "      <td>NaN</td>\n",
       "      <td>NaN</td>\n",
       "      <td>...</td>\n",
       "      <td>0.0</td>\n",
       "      <td>1397.0</td>\n",
       "      <td>4198.0</td>\n",
       "      <td>0.0</td>\n",
       "      <td>3280.0</td>\n",
       "      <td>0.0</td>\n",
       "      <td>0.0</td>\n",
       "      <td>0.0</td>\n",
       "      <td>1867-10-13</td>\n",
       "      <td>BOL</td>\n",
       "    </tr>\n",
       "    <tr>\n",
       "      <th>417295</th>\n",
       "      <td>5.560012e+09</td>\n",
       "      <td>49.0</td>\n",
       "      <td>2014.0</td>\n",
       "      <td>81622.0</td>\n",
       "      <td>52112.0</td>\n",
       "      <td>1.0</td>\n",
       "      <td>1.0</td>\n",
       "      <td>52421.0</td>\n",
       "      <td>NaN</td>\n",
       "      <td>NaN</td>\n",
       "      <td>...</td>\n",
       "      <td>0.0</td>\n",
       "      <td>2154.0</td>\n",
       "      <td>3881.0</td>\n",
       "      <td>0.0</td>\n",
       "      <td>3705.0</td>\n",
       "      <td>0.0</td>\n",
       "      <td>0.0</td>\n",
       "      <td>0.0</td>\n",
       "      <td>1867-10-13</td>\n",
       "      <td>BOL</td>\n",
       "    </tr>\n",
       "    <tr>\n",
       "      <th>417296</th>\n",
       "      <td>5.560012e+09</td>\n",
       "      <td>49.0</td>\n",
       "      <td>2015.0</td>\n",
       "      <td>81622.0</td>\n",
       "      <td>52112.0</td>\n",
       "      <td>1.0</td>\n",
       "      <td>1.0</td>\n",
       "      <td>52421.0</td>\n",
       "      <td>NaN</td>\n",
       "      <td>NaN</td>\n",
       "      <td>...</td>\n",
       "      <td>0.0</td>\n",
       "      <td>603.0</td>\n",
       "      <td>5276.0</td>\n",
       "      <td>0.0</td>\n",
       "      <td>3521.0</td>\n",
       "      <td>0.0</td>\n",
       "      <td>0.0</td>\n",
       "      <td>0.0</td>\n",
       "      <td>1867-10-13</td>\n",
       "      <td>BOL</td>\n",
       "    </tr>\n",
       "    <tr>\n",
       "      <th>417297</th>\n",
       "      <td>5.560012e+09</td>\n",
       "      <td>49.0</td>\n",
       "      <td>2016.0</td>\n",
       "      <td>81622.0</td>\n",
       "      <td>52112.0</td>\n",
       "      <td>1.0</td>\n",
       "      <td>1.0</td>\n",
       "      <td>52421.0</td>\n",
       "      <td>NaN</td>\n",
       "      <td>NaN</td>\n",
       "      <td>...</td>\n",
       "      <td>0.0</td>\n",
       "      <td>513.0</td>\n",
       "      <td>4124.0</td>\n",
       "      <td>0.0</td>\n",
       "      <td>3772.0</td>\n",
       "      <td>0.0</td>\n",
       "      <td>0.0</td>\n",
       "      <td>0.0</td>\n",
       "      <td>1867-10-13</td>\n",
       "      <td>BOL</td>\n",
       "    </tr>\n",
       "    <tr>\n",
       "      <th>417298</th>\n",
       "      <td>5.560012e+09</td>\n",
       "      <td>49.0</td>\n",
       "      <td>2017.0</td>\n",
       "      <td>81622.0</td>\n",
       "      <td>52112.0</td>\n",
       "      <td>1.0</td>\n",
       "      <td>1.0</td>\n",
       "      <td>52421.0</td>\n",
       "      <td>NaN</td>\n",
       "      <td>NaN</td>\n",
       "      <td>...</td>\n",
       "      <td>0.0</td>\n",
       "      <td>0.0</td>\n",
       "      <td>4798.0</td>\n",
       "      <td>0.0</td>\n",
       "      <td>3832.0</td>\n",
       "      <td>0.0</td>\n",
       "      <td>0.0</td>\n",
       "      <td>0.0</td>\n",
       "      <td>1867-10-13</td>\n",
       "      <td>BOL</td>\n",
       "    </tr>\n",
       "    <tr>\n",
       "      <th>417299</th>\n",
       "      <td>5.560012e+09</td>\n",
       "      <td>49.0</td>\n",
       "      <td>2018.0</td>\n",
       "      <td>81622.0</td>\n",
       "      <td>52112.0</td>\n",
       "      <td>1.0</td>\n",
       "      <td>1.0</td>\n",
       "      <td>52421.0</td>\n",
       "      <td>NaN</td>\n",
       "      <td>NaN</td>\n",
       "      <td>...</td>\n",
       "      <td>0.0</td>\n",
       "      <td>380.0</td>\n",
       "      <td>4979.0</td>\n",
       "      <td>0.0</td>\n",
       "      <td>3973.0</td>\n",
       "      <td>0.0</td>\n",
       "      <td>0.0</td>\n",
       "      <td>0.0</td>\n",
       "      <td>1867-10-13</td>\n",
       "      <td>BOL</td>\n",
       "    </tr>\n",
       "    <tr>\n",
       "      <th>417300</th>\n",
       "      <td>5.560012e+09</td>\n",
       "      <td>49.0</td>\n",
       "      <td>2019.0</td>\n",
       "      <td>81622.0</td>\n",
       "      <td>52112.0</td>\n",
       "      <td>1.0</td>\n",
       "      <td>1.0</td>\n",
       "      <td>52421.0</td>\n",
       "      <td>NaN</td>\n",
       "      <td>NaN</td>\n",
       "      <td>...</td>\n",
       "      <td>0.0</td>\n",
       "      <td>781.0</td>\n",
       "      <td>4441.0</td>\n",
       "      <td>0.0</td>\n",
       "      <td>4613.0</td>\n",
       "      <td>0.0</td>\n",
       "      <td>0.0</td>\n",
       "      <td>0.0</td>\n",
       "      <td>1867-10-13</td>\n",
       "      <td>BOL</td>\n",
       "    </tr>\n",
       "    <tr>\n",
       "      <th>417335</th>\n",
       "      <td>5.560012e+09</td>\n",
       "      <td>49.0</td>\n",
       "      <td>2012.0</td>\n",
       "      <td>73480.0</td>\n",
       "      <td>63220.0</td>\n",
       "      <td>1.0</td>\n",
       "      <td>1.0</td>\n",
       "      <td>NaN</td>\n",
       "      <td>NaN</td>\n",
       "      <td>NaN</td>\n",
       "      <td>...</td>\n",
       "      <td>0.0</td>\n",
       "      <td>371.0</td>\n",
       "      <td>301.0</td>\n",
       "      <td>0.0</td>\n",
       "      <td>133.0</td>\n",
       "      <td>0.0</td>\n",
       "      <td>0.0</td>\n",
       "      <td>0.0</td>\n",
       "      <td>1893-06-17</td>\n",
       "      <td>BOL</td>\n",
       "    </tr>\n",
       "    <tr>\n",
       "      <th>417336</th>\n",
       "      <td>5.560012e+09</td>\n",
       "      <td>49.0</td>\n",
       "      <td>2013.0</td>\n",
       "      <td>73421.0</td>\n",
       "      <td>63220.0</td>\n",
       "      <td>1.0</td>\n",
       "      <td>1.0</td>\n",
       "      <td>NaN</td>\n",
       "      <td>NaN</td>\n",
       "      <td>NaN</td>\n",
       "      <td>...</td>\n",
       "      <td>0.0</td>\n",
       "      <td>44.0</td>\n",
       "      <td>288.0</td>\n",
       "      <td>0.0</td>\n",
       "      <td>994.0</td>\n",
       "      <td>0.0</td>\n",
       "      <td>0.0</td>\n",
       "      <td>0.0</td>\n",
       "      <td>1893-06-17</td>\n",
       "      <td>BOL</td>\n",
       "    </tr>\n",
       "    <tr>\n",
       "      <th>417337</th>\n",
       "      <td>5.560012e+09</td>\n",
       "      <td>49.0</td>\n",
       "      <td>2014.0</td>\n",
       "      <td>73421.0</td>\n",
       "      <td>63220.0</td>\n",
       "      <td>1.0</td>\n",
       "      <td>1.0</td>\n",
       "      <td>NaN</td>\n",
       "      <td>NaN</td>\n",
       "      <td>NaN</td>\n",
       "      <td>...</td>\n",
       "      <td>0.0</td>\n",
       "      <td>4.0</td>\n",
       "      <td>42.0</td>\n",
       "      <td>0.0</td>\n",
       "      <td>459.0</td>\n",
       "      <td>0.0</td>\n",
       "      <td>0.0</td>\n",
       "      <td>3900.0</td>\n",
       "      <td>1893-06-17</td>\n",
       "      <td>BOL</td>\n",
       "    </tr>\n",
       "    <tr>\n",
       "      <th>417338</th>\n",
       "      <td>5.560012e+09</td>\n",
       "      <td>49.0</td>\n",
       "      <td>2015.0</td>\n",
       "      <td>73421.0</td>\n",
       "      <td>63220.0</td>\n",
       "      <td>1.0</td>\n",
       "      <td>1.0</td>\n",
       "      <td>NaN</td>\n",
       "      <td>NaN</td>\n",
       "      <td>NaN</td>\n",
       "      <td>...</td>\n",
       "      <td>0.0</td>\n",
       "      <td>-77.0</td>\n",
       "      <td>48.0</td>\n",
       "      <td>0.0</td>\n",
       "      <td>564.0</td>\n",
       "      <td>0.0</td>\n",
       "      <td>700.0</td>\n",
       "      <td>0.0</td>\n",
       "      <td>1893-06-17</td>\n",
       "      <td>BOL</td>\n",
       "    </tr>\n",
       "    <tr>\n",
       "      <th>417339</th>\n",
       "      <td>5.560012e+09</td>\n",
       "      <td>49.0</td>\n",
       "      <td>2016.0</td>\n",
       "      <td>73421.0</td>\n",
       "      <td>63220.0</td>\n",
       "      <td>1.0</td>\n",
       "      <td>1.0</td>\n",
       "      <td>NaN</td>\n",
       "      <td>NaN</td>\n",
       "      <td>NaN</td>\n",
       "      <td>...</td>\n",
       "      <td>0.0</td>\n",
       "      <td>-11.0</td>\n",
       "      <td>419.0</td>\n",
       "      <td>0.0</td>\n",
       "      <td>653.0</td>\n",
       "      <td>0.0</td>\n",
       "      <td>0.0</td>\n",
       "      <td>0.0</td>\n",
       "      <td>1893-06-17</td>\n",
       "      <td>BOL</td>\n",
       "    </tr>\n",
       "    <tr>\n",
       "      <th>417340</th>\n",
       "      <td>5.560012e+09</td>\n",
       "      <td>49.0</td>\n",
       "      <td>2017.0</td>\n",
       "      <td>73421.0</td>\n",
       "      <td>63220.0</td>\n",
       "      <td>1.0</td>\n",
       "      <td>1.0</td>\n",
       "      <td>NaN</td>\n",
       "      <td>NaN</td>\n",
       "      <td>NaN</td>\n",
       "      <td>...</td>\n",
       "      <td>0.0</td>\n",
       "      <td>41.0</td>\n",
       "      <td>739.0</td>\n",
       "      <td>0.0</td>\n",
       "      <td>772.0</td>\n",
       "      <td>0.0</td>\n",
       "      <td>0.0</td>\n",
       "      <td>0.0</td>\n",
       "      <td>1893-06-17</td>\n",
       "      <td>BOL</td>\n",
       "    </tr>\n",
       "    <tr>\n",
       "      <th>417341</th>\n",
       "      <td>5.560012e+09</td>\n",
       "      <td>49.0</td>\n",
       "      <td>2018.0</td>\n",
       "      <td>73421.0</td>\n",
       "      <td>63220.0</td>\n",
       "      <td>1.0</td>\n",
       "      <td>1.0</td>\n",
       "      <td>NaN</td>\n",
       "      <td>NaN</td>\n",
       "      <td>NaN</td>\n",
       "      <td>...</td>\n",
       "      <td>0.0</td>\n",
       "      <td>221.0</td>\n",
       "      <td>151.0</td>\n",
       "      <td>0.0</td>\n",
       "      <td>671.0</td>\n",
       "      <td>0.0</td>\n",
       "      <td>0.0</td>\n",
       "      <td>0.0</td>\n",
       "      <td>1893-06-17</td>\n",
       "      <td>BOL</td>\n",
       "    </tr>\n",
       "    <tr>\n",
       "      <th>417342</th>\n",
       "      <td>5.560012e+09</td>\n",
       "      <td>49.0</td>\n",
       "      <td>2019.0</td>\n",
       "      <td>73421.0</td>\n",
       "      <td>63220.0</td>\n",
       "      <td>1.0</td>\n",
       "      <td>1.0</td>\n",
       "      <td>NaN</td>\n",
       "      <td>NaN</td>\n",
       "      <td>NaN</td>\n",
       "      <td>...</td>\n",
       "      <td>0.0</td>\n",
       "      <td>548.0</td>\n",
       "      <td>532.0</td>\n",
       "      <td>0.0</td>\n",
       "      <td>1052.0</td>\n",
       "      <td>0.0</td>\n",
       "      <td>0.0</td>\n",
       "      <td>0.0</td>\n",
       "      <td>1893-06-17</td>\n",
       "      <td>BOL</td>\n",
       "    </tr>\n",
       "    <tr>\n",
       "      <th>418872</th>\n",
       "      <td>5.560020e+09</td>\n",
       "      <td>49.0</td>\n",
       "      <td>2012.0</td>\n",
       "      <td>76010.0</td>\n",
       "      <td>20101.0</td>\n",
       "      <td>1.0</td>\n",
       "      <td>1.0</td>\n",
       "      <td>NaN</td>\n",
       "      <td>NaN</td>\n",
       "      <td>NaN</td>\n",
       "      <td>...</td>\n",
       "      <td>0.0</td>\n",
       "      <td>136.0</td>\n",
       "      <td>617.0</td>\n",
       "      <td>0.0</td>\n",
       "      <td>1727.0</td>\n",
       "      <td>0.0</td>\n",
       "      <td>0.0</td>\n",
       "      <td>0.0</td>\n",
       "      <td>1893-03-29</td>\n",
       "      <td>BOL</td>\n",
       "    </tr>\n",
       "    <tr>\n",
       "      <th>418873</th>\n",
       "      <td>5.560020e+09</td>\n",
       "      <td>49.0</td>\n",
       "      <td>2013.0</td>\n",
       "      <td>76010.0</td>\n",
       "      <td>20101.0</td>\n",
       "      <td>1.0</td>\n",
       "      <td>1.0</td>\n",
       "      <td>NaN</td>\n",
       "      <td>NaN</td>\n",
       "      <td>NaN</td>\n",
       "      <td>...</td>\n",
       "      <td>0.0</td>\n",
       "      <td>73.0</td>\n",
       "      <td>693.0</td>\n",
       "      <td>0.0</td>\n",
       "      <td>1617.0</td>\n",
       "      <td>0.0</td>\n",
       "      <td>0.0</td>\n",
       "      <td>0.0</td>\n",
       "      <td>1893-03-29</td>\n",
       "      <td>BOL</td>\n",
       "    </tr>\n",
       "    <tr>\n",
       "      <th>418874</th>\n",
       "      <td>5.560020e+09</td>\n",
       "      <td>49.0</td>\n",
       "      <td>2014.0</td>\n",
       "      <td>76010.0</td>\n",
       "      <td>20101.0</td>\n",
       "      <td>1.0</td>\n",
       "      <td>1.0</td>\n",
       "      <td>NaN</td>\n",
       "      <td>NaN</td>\n",
       "      <td>NaN</td>\n",
       "      <td>...</td>\n",
       "      <td>0.0</td>\n",
       "      <td>449.0</td>\n",
       "      <td>1000.0</td>\n",
       "      <td>0.0</td>\n",
       "      <td>1775.0</td>\n",
       "      <td>0.0</td>\n",
       "      <td>0.0</td>\n",
       "      <td>0.0</td>\n",
       "      <td>1893-03-29</td>\n",
       "      <td>BOL</td>\n",
       "    </tr>\n",
       "    <tr>\n",
       "      <th>418875</th>\n",
       "      <td>5.560020e+09</td>\n",
       "      <td>49.0</td>\n",
       "      <td>2015.0</td>\n",
       "      <td>76111.0</td>\n",
       "      <td>20101.0</td>\n",
       "      <td>1.0</td>\n",
       "      <td>1.0</td>\n",
       "      <td>NaN</td>\n",
       "      <td>NaN</td>\n",
       "      <td>NaN</td>\n",
       "      <td>...</td>\n",
       "      <td>0.0</td>\n",
       "      <td>480.0</td>\n",
       "      <td>728.0</td>\n",
       "      <td>0.0</td>\n",
       "      <td>1855.0</td>\n",
       "      <td>0.0</td>\n",
       "      <td>0.0</td>\n",
       "      <td>0.0</td>\n",
       "      <td>1893-03-29</td>\n",
       "      <td>BOL</td>\n",
       "    </tr>\n",
       "  </tbody>\n",
       "</table>\n",
       "<p>20 rows × 176 columns</p>\n",
       "</div>"
      ],
      "text/plain": [
       "               ORGNR  ser_jurform  ser_year  ser_pnr  bransch_sni1  ser_aas  \\\n",
       "417293  5.560012e+09         49.0    2012.0  81622.0       52112.0      1.0   \n",
       "417294  5.560012e+09         49.0    2013.0  81622.0       52112.0      1.0   \n",
       "417295  5.560012e+09         49.0    2014.0  81622.0       52112.0      1.0   \n",
       "417296  5.560012e+09         49.0    2015.0  81622.0       52112.0      1.0   \n",
       "417297  5.560012e+09         49.0    2016.0  81622.0       52112.0      1.0   \n",
       "417298  5.560012e+09         49.0    2017.0  81622.0       52112.0      1.0   \n",
       "417299  5.560012e+09         49.0    2018.0  81622.0       52112.0      1.0   \n",
       "417300  5.560012e+09         49.0    2019.0  81622.0       52112.0      1.0   \n",
       "417335  5.560012e+09         49.0    2012.0  73480.0       63220.0      1.0   \n",
       "417336  5.560012e+09         49.0    2013.0  73421.0       63220.0      1.0   \n",
       "417337  5.560012e+09         49.0    2014.0  73421.0       63220.0      1.0   \n",
       "417338  5.560012e+09         49.0    2015.0  73421.0       63220.0      1.0   \n",
       "417339  5.560012e+09         49.0    2016.0  73421.0       63220.0      1.0   \n",
       "417340  5.560012e+09         49.0    2017.0  73421.0       63220.0      1.0   \n",
       "417341  5.560012e+09         49.0    2018.0  73421.0       63220.0      1.0   \n",
       "417342  5.560012e+09         49.0    2019.0  73421.0       63220.0      1.0   \n",
       "418872  5.560020e+09         49.0    2012.0  76010.0       20101.0      1.0   \n",
       "418873  5.560020e+09         49.0    2013.0  76010.0       20101.0      1.0   \n",
       "418874  5.560020e+09         49.0    2014.0  76010.0       20101.0      1.0   \n",
       "418875  5.560020e+09         49.0    2015.0  76111.0       20101.0      1.0   \n",
       "\n",
       "        ser_inregyr  bransch_sni2  bransch_sni3  bransch_sni4  ...  \\\n",
       "417293          1.0       52421.0           NaN           NaN  ...   \n",
       "417294          1.0       52421.0           NaN           NaN  ...   \n",
       "417295          1.0       52421.0           NaN           NaN  ...   \n",
       "417296          1.0       52421.0           NaN           NaN  ...   \n",
       "417297          1.0       52421.0           NaN           NaN  ...   \n",
       "417298          1.0       52421.0           NaN           NaN  ...   \n",
       "417299          1.0       52421.0           NaN           NaN  ...   \n",
       "417300          1.0       52421.0           NaN           NaN  ...   \n",
       "417335          1.0           NaN           NaN           NaN  ...   \n",
       "417336          1.0           NaN           NaN           NaN  ...   \n",
       "417337          1.0           NaN           NaN           NaN  ...   \n",
       "417338          1.0           NaN           NaN           NaN  ...   \n",
       "417339          1.0           NaN           NaN           NaN  ...   \n",
       "417340          1.0           NaN           NaN           NaN  ...   \n",
       "417341          1.0           NaN           NaN           NaN  ...   \n",
       "417342          1.0           NaN           NaN           NaN  ...   \n",
       "418872          1.0           NaN           NaN           NaN  ...   \n",
       "418873          1.0           NaN           NaN           NaN  ...   \n",
       "418874          1.0           NaN           NaN           NaN  ...   \n",
       "418875          1.0           NaN           NaN           NaN  ...   \n",
       "\n",
       "        br10g_agtskel  br10h_resarb  br13a_ksklev  br13b_kskknc  br13c_kskov  \\\n",
       "417293            0.0        1114.0        4102.0           0.0       3352.0   \n",
       "417294            0.0        1397.0        4198.0           0.0       3280.0   \n",
       "417295            0.0        2154.0        3881.0           0.0       3705.0   \n",
       "417296            0.0         603.0        5276.0           0.0       3521.0   \n",
       "417297            0.0         513.0        4124.0           0.0       3772.0   \n",
       "417298            0.0           0.0        4798.0           0.0       3832.0   \n",
       "417299            0.0         380.0        4979.0           0.0       3973.0   \n",
       "417300            0.0         781.0        4441.0           0.0       4613.0   \n",
       "417335            0.0         371.0         301.0           0.0        133.0   \n",
       "417336            0.0          44.0         288.0           0.0        994.0   \n",
       "417337            0.0           4.0          42.0           0.0        459.0   \n",
       "417338            0.0         -77.0          48.0           0.0        564.0   \n",
       "417339            0.0         -11.0         419.0           0.0        653.0   \n",
       "417340            0.0          41.0         739.0           0.0        772.0   \n",
       "417341            0.0         221.0         151.0           0.0        671.0   \n",
       "417342            0.0         548.0         532.0           0.0       1052.0   \n",
       "418872            0.0         136.0         617.0           0.0       1727.0   \n",
       "418873            0.0          73.0         693.0           0.0       1617.0   \n",
       "418874            0.0         449.0        1000.0           0.0       1775.0   \n",
       "418875            0.0         480.0         728.0           0.0       1855.0   \n",
       "\n",
       "        br15a_lskknc  br15b_lskov br15c_obllan ser_regdat regfall  \n",
       "417293           0.0          0.0          0.0 1867-10-13     BOL  \n",
       "417294           0.0          0.0          0.0 1867-10-13     BOL  \n",
       "417295           0.0          0.0          0.0 1867-10-13     BOL  \n",
       "417296           0.0          0.0          0.0 1867-10-13     BOL  \n",
       "417297           0.0          0.0          0.0 1867-10-13     BOL  \n",
       "417298           0.0          0.0          0.0 1867-10-13     BOL  \n",
       "417299           0.0          0.0          0.0 1867-10-13     BOL  \n",
       "417300           0.0          0.0          0.0 1867-10-13     BOL  \n",
       "417335           0.0          0.0          0.0 1893-06-17     BOL  \n",
       "417336           0.0          0.0          0.0 1893-06-17     BOL  \n",
       "417337           0.0          0.0       3900.0 1893-06-17     BOL  \n",
       "417338           0.0        700.0          0.0 1893-06-17     BOL  \n",
       "417339           0.0          0.0          0.0 1893-06-17     BOL  \n",
       "417340           0.0          0.0          0.0 1893-06-17     BOL  \n",
       "417341           0.0          0.0          0.0 1893-06-17     BOL  \n",
       "417342           0.0          0.0          0.0 1893-06-17     BOL  \n",
       "418872           0.0          0.0          0.0 1893-03-29     BOL  \n",
       "418873           0.0          0.0          0.0 1893-03-29     BOL  \n",
       "418874           0.0          0.0          0.0 1893-03-29     BOL  \n",
       "418875           0.0          0.0          0.0 1893-03-29     BOL  \n",
       "\n",
       "[20 rows x 176 columns]"
      ]
     },
     "metadata": {},
     "output_type": "display_data"
    }
   ],
   "source": [
    "display(filtered_df.head(20))"
   ]
  },
  {
   "cell_type": "code",
   "execution_count": 32,
   "metadata": {},
   "outputs": [
    {
     "data": {
      "text/plain": [
       "ser_year\n",
       "2018.0    12486\n",
       "2017.0    12337\n",
       "2016.0    12280\n",
       "2019.0    12258\n",
       "2012.0    11983\n",
       "2015.0    11886\n",
       "2013.0    11752\n",
       "2014.0    11645\n",
       "Name: count, dtype: int64"
      ]
     },
     "execution_count": 32,
     "metadata": {},
     "output_type": "execute_result"
    }
   ],
   "source": [
    "filtered_df[\"ser_year\"].value_counts()"
   ]
  },
  {
   "cell_type": "code",
   "execution_count": null,
   "metadata": {},
   "outputs": [],
   "source": [
    "\"\"\"\n",
    "Only include companies that fit all criteria in order, no year should be missing from the series.\n",
    "\n",
    "Maybe do this.\n",
    "\"\"\""
   ]
  },
  {
   "cell_type": "markdown",
   "metadata": {},
   "source": [
    "# Growth Variable"
   ]
  },
  {
   "cell_type": "code",
   "execution_count": 33,
   "metadata": {},
   "outputs": [
    {
     "name": "stderr",
     "output_type": "stream",
     "text": [
      "/var/folders/pd/d0m27jy17d36rd2w_8y762cr0000gn/T/ipykernel_30763/3022460389.py:10: FutureWarning: The default fill_method='ffill' in SeriesGroupBy.pct_change is deprecated and will be removed in a future version. Either fill in any non-leading NA values prior to calling pct_change or specify 'fill_method=None' to not fill NA values.\n",
      "  filtered_df['TURNOVER_GROWTH'] = filtered_df.groupby('ORGNR')['rr01_ntoms'].pct_change()\n",
      "/var/folders/pd/d0m27jy17d36rd2w_8y762cr0000gn/T/ipykernel_30763/3022460389.py:13: DeprecationWarning: DataFrameGroupBy.apply operated on the grouping columns. This behavior is deprecated, and in a future version of pandas the grouping columns will be excluded from the operation. Either pass `include_groups=False` to exclude the groupings or explicitly select the grouping columns after groupby to silence this warning.\n",
      "  filtered_df['HIGH_GROWTH'] = filtered_df.groupby('ORGNR').apply(\n"
     ]
    }
   ],
   "source": [
    "\"\"\"\n",
    "Adding a variable for growth.\n",
    "\n",
    "This is according to OECD's definition of high-growth firms,\n",
    "which is defined as firms with an average annualized growth greater than 20%\n",
    "per annum over a three-year period, and with ten or more employees at the beginning of the period.\n",
    "\"\"\"\n",
    "\n",
    "# Calculate the annual growth rate for each company and add it as a new column\n",
    "filtered_df['TURNOVER_GROWTH'] = filtered_df.groupby('ORGNR')['rr01_ntoms'].pct_change()\n",
    "\n",
    "# Identify high-growth periods and create a new binary column\n",
    "filtered_df['HIGH_GROWTH'] = filtered_df.groupby('ORGNR').apply(\n",
    "    lambda x: ((x['TURNOVER_GROWTH'] > 0.20).rolling(window=3).sum() == 3)\n",
    ").reset_index(level=0, drop=True).astype(int)\n",
    "\n"
   ]
  },
  {
   "cell_type": "code",
   "execution_count": 36,
   "metadata": {},
   "outputs": [
    {
     "data": {
      "text/plain": [
       "HIGH_GROWTH\n",
       "0    94248\n",
       "1      890\n",
       "Name: count, dtype: int64"
      ]
     },
     "execution_count": 36,
     "metadata": {},
     "output_type": "execute_result"
    }
   ],
   "source": [
    "filtered_df[\"HIGH_GROWTH\"].value_counts()"
   ]
  },
  {
   "cell_type": "markdown",
   "metadata": {},
   "source": [
    "# Industry Variable"
   ]
  },
  {
   "cell_type": "code",
   "execution_count": 34,
   "metadata": {},
   "outputs": [],
   "source": [
    "\"\"\"\n",
    "There are a lot of columns in the dataset that is about the comapnies industry, a lot of different SNI codes.\n",
    "But we've decided to use the 'bransch_borsbransch_konv' column as the industry variable. Which is a conversion of the SNI codes\n",
    "to fewer branches.\n",
    "\n",
    "Some companies have changed industry over time, so we determine the most frequent industry for each company and add it as a new column\n",
    "to each row assicated with that company.\n",
    "\"\"\"\n",
    "\n",
    "# add one industry to all companies.\n",
    "dict_of_industries = {\n",
    "    10: 'Energy & Environment',\n",
    "    15: 'Materials',\n",
    "    20: 'Industrial goods',\n",
    "    22: 'Construction industry',\n",
    "    25: 'Shopping goods',\n",
    "    30: 'Convenience goods',\n",
    "    35: 'Health & Education',\n",
    "    40: 'Finance & Real estate',\n",
    "    45: 'IT & Electronics',\n",
    "    50: 'Telecom & Media',\n",
    "    60: 'Corporate services',\n",
    "    98: 'Other',\n",
    "    99: 'SNI07 missing'\n",
    "}\n",
    "\n",
    "# Determine the most frequent 'bransch_borsbransch_konv' value for each company\n",
    "most_frequent_industry = filtered_df.groupby('ORGNR')['bransch_borsbransch_konv'].agg(lambda x: x.mode()[0])\n",
    "\n",
    "# Map the most frequent 'bransch_borsbransch_konv' value to the corresponding industry name\n",
    "most_frequent_industry = most_frequent_industry.map(dict_of_industries)\n",
    "\n",
    "# Add the new 'INDUSTRY' column to the DataFrame\n",
    "filtered_df = filtered_df.merge(most_frequent_industry.rename('INDUSTRY'), on='ORGNR')\n",
    "\n",
    "# Filter out rows where the 'INDUSTRY' column is 'SNI07 missing' or 'Other'\n",
    "filtered_df = filtered_df[~filtered_df['INDUSTRY'].isin(['SNI07 missing', 'Other'])]"
   ]
  },
  {
   "cell_type": "markdown",
   "metadata": {},
   "source": [
    "# Independent Variables"
   ]
  },
  {
   "cell_type": "code",
   "execution_count": 38,
   "metadata": {},
   "outputs": [
    {
     "name": "stderr",
     "output_type": "stream",
     "text": [
      "/opt/anaconda3/envs/venv-thesis/lib/python3.12/site-packages/pandas/core/arraylike.py:399: RuntimeWarning: divide by zero encountered in log\n",
      "  result = getattr(ufunc, method)(*inputs, **kwargs)\n"
     ]
    }
   ],
   "source": [
    "\"\"\"\n",
    "Firm size\n",
    "\n",
    "Some articles use the log of sales, others the log of assets. We'll add both to the dataset and see which one works best.\n",
    "\"\"\"\n",
    "\n",
    "filtered_df[\"SIZE_LOG_ASSETS\"] = np.log(filtered_df[\"br09_tillgsu\"])\n",
    "filtered_df[\"SIZE_LOG_SALES\"] = np.log(filtered_df[\"rr01_ntoms\"])"
   ]
  },
  {
   "cell_type": "code",
   "execution_count": null,
   "metadata": {},
   "outputs": [],
   "source": [
    "\"\"\"\n",
    "Asset tangibility\n",
    "\n",
    "Most common thing to add as a proxy is the ratio of tangible fixed assets to total assets.\n",
    "Maybe include intangible assets as well, are such assets (patents, brands etc) used as collateral?\n",
    "\"\"\"\n",
    "\n",
    "# tangible assets / total assets\n",
    "filtered_df[\"ASSET_TANGIBILITY\"] = filtered_df[\"br02_matanlsu\"] / filtered_df[\"br09_tillgsu\"]"
   ]
  },
  {
   "cell_type": "code",
   "execution_count": 41,
   "metadata": {},
   "outputs": [],
   "source": [
    "\"\"\"\n",
    "liquidity on debt\n",
    "\n",
    "Cole use cash and cash equivalents to total assets, but we could also use current ratio or quick ratio.\n",
    "\"\"\"\n",
    "\n",
    "# Liquid assets (cash and market securities) to total assets\n",
    "filtered_df[\"LIQUIDITY\"] = filtered_df[\"br07_kplackaba\"] / filtered_df[\"br09_tillgsu\"]\n",
    "\n",
    "# Current ratio: current assets divided by current liabilities\n",
    "filtered_df[\"CURRENT_RATIO\"] = filtered_df[\"br08_omstgsu\"] / filtered_df[\"br13_ksksu\"]\n",
    "\n",
    "# Quick ratio: (current assets - inventory) divided by current liabilities\n",
    "filtered_df[\"QUICK_RATIO\"] = (filtered_df[\"br08_omstgsu\"] - filtered_df[\"br06c_lagersu\"]) / filtered_df[\"br13_ksksu\"]\n"
   ]
  },
  {
   "cell_type": "code",
   "execution_count": null,
   "metadata": {},
   "outputs": [],
   "source": [
    "\"\"\"\n",
    "Profitability\n",
    "\n",
    "There are many measures for this, RoA, RoE, operating margin, net margin etc.\n",
    "\"\"\"\n",
    "\n",
    "# Profit margin according to serrano is already defined as 'ny_vinstprc'"
   ]
  },
  {
   "cell_type": "code",
   "execution_count": 42,
   "metadata": {},
   "outputs": [],
   "source": [
    "\"\"\"\n",
    "Tax shields\n",
    "\n",
    "For now I only find definition in Vanacker & Manigart (2010).\n",
    "\"\"\"\n",
    "\n",
    "# Debt tax shields: Interest expenses / Total Assets\n",
    "filtered_df['DEBT_TAX_SHIELDS'] = filtered_df['rr09_finkostn'] / filtered_df['br09_tillgsu']\n",
    "\n",
    "# Non-debt tax shields: Depreciation and amortization / Total Assets\n",
    "filtered_df['NON_DEBT_TAX_SHIELDS'] = filtered_df['rr05_avskriv'] / filtered_df['br09_tillgsu']"
   ]
  },
  {
   "cell_type": "code",
   "execution_count": null,
   "metadata": {},
   "outputs": [],
   "source": [
    "\"\"\"\n",
    "Tax\n",
    "\n",
    "Do we mean the corporate tax in Sweden or the % tax the companies actually pay?\n",
    "\"\"\""
   ]
  },
  {
   "cell_type": "code",
   "execution_count": 43,
   "metadata": {},
   "outputs": [
    {
     "name": "stderr",
     "output_type": "stream",
     "text": [
      "/var/folders/pd/d0m27jy17d36rd2w_8y762cr0000gn/T/ipykernel_30763/175660131.py:9: FutureWarning: The default fill_method='ffill' in SeriesGroupBy.pct_change is deprecated and will be removed in a future version. Either fill in any non-leading NA values prior to calling pct_change or specify 'fill_method=None' to not fill NA values.\n",
      "  filtered_df['GROWTH_OPPORTUNITIES_SALES'] = filtered_df.groupby('ORGNR')['rr01_ntoms'].pct_change()\n"
     ]
    }
   ],
   "source": [
    "\"\"\"\n",
    "Growth opportunities\n",
    "\"\"\"\n",
    "\n",
    "# % change in total assets\n",
    "filtered_df['GROWTH_OPPORTUNITIES_ASSETS'] = filtered_df.groupby('ORGNR')['br09_tillgsu'].pct_change()\n",
    "\n",
    "# % change in sales\n",
    "filtered_df['GROWTH_OPPORTUNITIES_SALES'] = filtered_df.groupby('ORGNR')['rr01_ntoms'].pct_change()\n"
   ]
  },
  {
   "cell_type": "code",
   "execution_count": 58,
   "metadata": {},
   "outputs": [],
   "source": [
    "\"\"\"\n",
    "Age\n",
    "\n",
    "Need to discuss this since age could be year incorporated vs todays date, or 2019, or for every year of observation\n",
    "for one company.\n",
    "\"\"\"\n",
    "\n",
    "# Change reg date to only year\n",
    "filtered_df[\"ser_regdat\"] = pd.to_datetime(filtered_df[\"ser_regdat\"])\n",
    "filtered_df[\"ser_regdat\"] = filtered_df[\"ser_regdat\"].dt.year\n",
    "\n",
    "# Age of the company (year of observation - year of registration)\n",
    "filtered_df[\"AGE\"] = filtered_df[\"ser_year\"] - filtered_df[\"ser_regdat\"]"
   ]
  },
  {
   "cell_type": "markdown",
   "metadata": {},
   "source": [
    "# Dependent Variables"
   ]
  },
  {
   "cell_type": "code",
   "execution_count": 67,
   "metadata": {},
   "outputs": [],
   "source": [
    "\"\"\"\n",
    "Leverage\n",
    "\"\"\"\n",
    "\n",
    "# Total debt to total assets\n",
    "filtered_df['LEVERAGE_TOTAL'] = (filtered_df['br15_lsksu'] + filtered_df['br13_ksksu']) / filtered_df['br09_tillgsu']\n",
    "\n",
    "# Long-term debt to total assets (all non-current liabilities, could be other things)\n",
    "filtered_df['LEVERAGE_LONG'] = filtered_df['br15_lsksu'] / filtered_df['br09_tillgsu']\n",
    "\n",
    "# Short-term debt to total assets (all current liabilities, could be other things)\n",
    "filtered_df['LEVERAGE_SHORT'] = filtered_df['br13_ksksu'] / filtered_df['br09_tillgsu']"
   ]
  },
  {
   "cell_type": "markdown",
   "metadata": {},
   "source": [
    "# Misc."
   ]
  },
  {
   "cell_type": "code",
   "execution_count": 47,
   "metadata": {},
   "outputs": [],
   "source": [
    "# save to a excel file\n",
    "filtered_df.head(10000).to_excel(\"filtered_df.xlsx\", index=False)"
   ]
  },
  {
   "cell_type": "markdown",
   "metadata": {},
   "source": [
    "# Split the dataset in HGF vs non-HGF"
   ]
  },
  {
   "cell_type": "code",
   "execution_count": 68,
   "metadata": {},
   "outputs": [],
   "source": [
    "# Identify HGF ORGNR\n",
    "high_growth_ids = filtered_df[filtered_df[\"HIGH_GROWTH\"] == 1][\"ORGNR\"].unique()\n",
    "\n",
    "# Create a new DataFrame with only high-growth firms\n",
    "high_growth_df = filtered_df[filtered_df[\"ORGNR\"].isin(high_growth_ids)]\n",
    "\n",
    "# Create a new DataFrame with only non-high-growth firms\n",
    "non_high_growth_df = filtered_df[~filtered_df[\"ORGNR\"].isin(high_growth_ids)]"
   ]
  },
  {
   "cell_type": "code",
   "execution_count": 69,
   "metadata": {},
   "outputs": [
    {
     "data": {
      "text/plain": [
       "(654, 24997)"
      ]
     },
     "execution_count": 69,
     "metadata": {},
     "output_type": "execute_result"
    }
   ],
   "source": [
    "high_growth_df[\"ORGNR\"].nunique(), non_high_growth_df[\"ORGNR\"].nunique()"
   ]
  },
  {
   "cell_type": "markdown",
   "metadata": {},
   "source": [
    "# Descriptive Data"
   ]
  },
  {
   "cell_type": "code",
   "execution_count": 85,
   "metadata": {},
   "outputs": [
    {
     "data": {
      "text/plain": [
       "INDUSTRY\n",
       "Corporate services       29.357798\n",
       "Construction industry    23.547401\n",
       "Health & Education       13.608563\n",
       "Shopping goods           13.302752\n",
       "IT & Electronics          8.409786\n",
       "Industrial goods          4.434251\n",
       "Convenience goods         2.599388\n",
       "Finance & Real estate     2.293578\n",
       "Materials                 1.376147\n",
       "Telecom & Media           0.611621\n",
       "Energy & Environment      0.458716\n",
       "Name: proportion, dtype: float64"
      ]
     },
     "metadata": {},
     "output_type": "display_data"
    },
    {
     "data": {
      "text/plain": [
       "INDUSTRY\n",
       "Corporate services       23.766852\n",
       "Shopping goods           21.898628\n",
       "Construction industry    21.646598\n",
       "Health & Education        8.369004\n",
       "Industrial goods          8.120975\n",
       "Convenience goods         7.172861\n",
       "IT & Electronics          3.788455\n",
       "Finance & Real estate     1.992239\n",
       "Materials                 1.608193\n",
       "Telecom & Media           1.096132\n",
       "Energy & Environment      0.540065\n",
       "Name: proportion, dtype: float64"
      ]
     },
     "metadata": {},
     "output_type": "display_data"
    }
   ],
   "source": [
    "\"\"\"\n",
    "Industry\n",
    "\"\"\"\n",
    "# Get one row per company (HGF)\n",
    "unique_HGFs = high_growth_df.drop_duplicates(subset=[\"ORGNR\"])\n",
    "\n",
    "# Get one row per company (non_HGF)\n",
    "unique_non_HGFs = non_high_growth_df.drop_duplicates(subset=[\"ORGNR\"])\n",
    "\n",
    "display(unique_HGFs[\"INDUSTRY\"].value_counts(normalize=True) * 100)\n",
    "display(unique_non_HGFs[\"INDUSTRY\"].value_counts(normalize=True) * 100)"
   ]
  },
  {
   "cell_type": "code",
   "execution_count": null,
   "metadata": {},
   "outputs": [
    {
     "name": "stdout",
     "output_type": "stream",
     "text": [
      "Leverage\n"
     ]
    },
    {
     "data": {
      "text/plain": [
       "count    3953.000000\n",
       "mean        0.568664\n",
       "std         0.544862\n",
       "min         0.000000\n",
       "25%         0.386338\n",
       "50%         0.550236\n",
       "75%         0.710369\n",
       "max        31.113208\n",
       "Name: LEVERAGE_SHORT, dtype: float64"
      ]
     },
     "metadata": {},
     "output_type": "display_data"
    },
    {
     "data": {
      "text/plain": [
       "count    91184.000000\n",
       "mean         0.592268\n",
       "std         15.881997\n",
       "min         -1.548780\n",
       "25%          0.324608\n",
       "50%          0.476401\n",
       "75%          0.654322\n",
       "max       3390.000000\n",
       "Name: LEVERAGE_SHORT, dtype: float64"
      ]
     },
     "metadata": {},
     "output_type": "display_data"
    },
    {
     "data": {
      "text/plain": [
       "count    3954.000000\n",
       "mean        0.113571\n",
       "std         0.181478\n",
       "min        -0.042481\n",
       "25%         0.000000\n",
       "50%         0.009972\n",
       "75%         0.171328\n",
       "max         1.642065\n",
       "Name: LEVERAGE_LONG, dtype: float64"
      ]
     },
     "metadata": {},
     "output_type": "display_data"
    },
    {
     "data": {
      "text/plain": [
       "count    91183.000000\n",
       "mean         0.130688\n",
       "std          0.413232\n",
       "min         -0.636735\n",
       "25%          0.000000\n",
       "50%          0.024280\n",
       "75%          0.209802\n",
       "max         47.798479\n",
       "Name: LEVERAGE_LONG, dtype: float64"
      ]
     },
     "metadata": {},
     "output_type": "display_data"
    },
    {
     "data": {
      "text/plain": [
       "count    3953.000000\n",
       "mean        0.682264\n",
       "std         0.545206\n",
       "min         0.000000\n",
       "25%         0.514799\n",
       "50%         0.680286\n",
       "75%         0.827275\n",
       "max        31.113208\n",
       "Name: LEVERAGE_TOTAL, dtype: float64"
      ]
     },
     "metadata": {},
     "output_type": "display_data"
    },
    {
     "data": {
      "text/plain": [
       "count    91183.000000\n",
       "mean         0.722960\n",
       "std         15.893056\n",
       "min         -1.548780\n",
       "25%          0.448402\n",
       "50%          0.626178\n",
       "75%          0.798417\n",
       "max       3390.000000\n",
       "Name: LEVERAGE_TOTAL, dtype: float64"
      ]
     },
     "metadata": {},
     "output_type": "display_data"
    }
   ],
   "source": [
    "\"\"\"\n",
    "Leverage\n",
    "\"\"\"\n",
    "display(high_growth_df[\"LEVERAGE_SHORT\"].describe())\n",
    "display(non_high_growth_df[\"LEVERAGE_SHORT\"].describe())\n",
    "display(high_growth_df[\"LEVERAGE_LONG\"].describe())\n",
    "display(non_high_growth_df[\"LEVERAGE_LONG\"].describe())\n",
    "display(high_growth_df[\"LEVERAGE_TOTAL\"].describe())\n",
    "display(non_high_growth_df[\"LEVERAGE_TOTAL\"].describe())"
   ]
  },
  {
   "cell_type": "code",
   "execution_count": null,
   "metadata": {},
   "outputs": [
    {
     "name": "stdout",
     "output_type": "stream",
     "text": [
      "Firm size\n"
     ]
    },
    {
     "data": {
      "text/plain": [
       "count    3954.000000\n",
       "mean        9.018550\n",
       "std         1.163944\n",
       "min         3.970292\n",
       "25%         8.225971\n",
       "50%         9.007857\n",
       "75%         9.753943\n",
       "max        14.915306\n",
       "Name: SIZE_LOG_ASSETS, dtype: float64"
      ]
     },
     "metadata": {},
     "output_type": "display_data"
    },
    {
     "data": {
      "text/plain": [
       "count    91184.000000\n",
       "mean         8.907804\n",
       "std          1.107447\n",
       "min          0.000000\n",
       "25%          8.188133\n",
       "50%          8.896862\n",
       "75%          9.593355\n",
       "max         17.388181\n",
       "Name: SIZE_LOG_ASSETS, dtype: float64"
      ]
     },
     "metadata": {},
     "output_type": "display_data"
    },
    {
     "name": "stderr",
     "output_type": "stream",
     "text": [
      "/opt/anaconda3/envs/venv-thesis/lib/python3.12/site-packages/pandas/core/nanops.py:1016: RuntimeWarning: invalid value encountered in subtract\n",
      "  sqr = _ensure_numeric((avg - values) ** 2)\n"
     ]
    },
    {
     "data": {
      "text/plain": [
       "count    3954.000000\n",
       "mean            -inf\n",
       "std              NaN\n",
       "min             -inf\n",
       "25%         9.288851\n",
       "50%         9.887536\n",
       "75%        10.538363\n",
       "max        14.877591\n",
       "Name: SIZE_LOG_SALES, dtype: float64"
      ]
     },
     "metadata": {},
     "output_type": "display_data"
    },
    {
     "name": "stderr",
     "output_type": "stream",
     "text": [
      "/opt/anaconda3/envs/venv-thesis/lib/python3.12/site-packages/pandas/core/nanops.py:1016: RuntimeWarning: invalid value encountered in subtract\n",
      "  sqr = _ensure_numeric((avg - values) ** 2)\n"
     ]
    },
    {
     "data": {
      "text/plain": [
       "count    9.118300e+04\n",
       "mean             -inf\n",
       "std               NaN\n",
       "min              -inf\n",
       "25%      9.256699e+00\n",
       "50%      9.743495e+00\n",
       "75%      1.033251e+01\n",
       "max      1.677761e+01\n",
       "Name: SIZE_LOG_SALES, dtype: float64"
      ]
     },
     "metadata": {},
     "output_type": "display_data"
    }
   ],
   "source": [
    "\"\"\"\n",
    "Firm size\n",
    "\"\"\"\n",
    "display(high_growth_df[\"SIZE_LOG_ASSETS\"].describe())\n",
    "display(non_high_growth_df[\"SIZE_LOG_ASSETS\"].describe())\n",
    "display(high_growth_df[\"SIZE_LOG_SALES\"].describe())\n",
    "display(non_high_growth_df[\"SIZE_LOG_SALES\"].describe())"
   ]
  },
  {
   "cell_type": "code",
   "execution_count": 88,
   "metadata": {},
   "outputs": [
    {
     "data": {
      "text/plain": [
       "count    3954.000000\n",
       "mean        0.169221\n",
       "std         0.228527\n",
       "min         0.000000\n",
       "25%         0.009585\n",
       "50%         0.054953\n",
       "75%         0.249964\n",
       "max         0.970651\n",
       "Name: ASSET_TANGIBILITY, dtype: float64"
      ]
     },
     "metadata": {},
     "output_type": "display_data"
    },
    {
     "data": {
      "text/plain": [
       "count    91183.000000\n",
       "mean         0.221056\n",
       "std          0.247280\n",
       "min         -0.050699\n",
       "25%          0.020932\n",
       "50%          0.109855\n",
       "75%          0.373882\n",
       "max          4.521327\n",
       "Name: ASSET_TANGIBILITY, dtype: float64"
      ]
     },
     "metadata": {},
     "output_type": "display_data"
    }
   ],
   "source": [
    "\"\"\"\n",
    "Asset tangibility\n",
    "\"\"\"\n",
    "display(high_growth_df[\"ASSET_TANGIBILITY\"].describe())\n",
    "display(non_high_growth_df[\"ASSET_TANGIBILITY\"].describe())"
   ]
  },
  {
   "cell_type": "code",
   "execution_count": 89,
   "metadata": {},
   "outputs": [
    {
     "data": {
      "text/plain": [
       "count    3954.000000\n",
       "mean        0.265680\n",
       "std         0.229791\n",
       "min        -0.020896\n",
       "25%         0.063360\n",
       "50%         0.219327\n",
       "75%         0.418655\n",
       "max         1.128364\n",
       "Name: LIQUIDITY, dtype: float64"
      ]
     },
     "metadata": {},
     "output_type": "display_data"
    },
    {
     "data": {
      "text/plain": [
       "count    91180.000000\n",
       "mean         0.249396\n",
       "std          0.229492\n",
       "min         -4.939394\n",
       "25%          0.052165\n",
       "50%          0.196163\n",
       "75%          0.393600\n",
       "max          8.175355\n",
       "Name: LIQUIDITY, dtype: float64"
      ]
     },
     "metadata": {},
     "output_type": "display_data"
    },
    {
     "name": "stderr",
     "output_type": "stream",
     "text": [
      "/opt/anaconda3/envs/venv-thesis/lib/python3.12/site-packages/pandas/core/nanops.py:1016: RuntimeWarning: invalid value encountered in subtract\n",
      "  sqr = _ensure_numeric((avg - values) ** 2)\n"
     ]
    },
    {
     "data": {
      "text/plain": [
       "count    3953.000000\n",
       "mean             inf\n",
       "std              NaN\n",
       "min         0.032141\n",
       "25%         1.075175\n",
       "50%         1.390253\n",
       "75%         1.852775\n",
       "max              inf\n",
       "Name: CURRENT_RATIO, dtype: float64"
      ]
     },
     "metadata": {},
     "output_type": "display_data"
    },
    {
     "name": "stderr",
     "output_type": "stream",
     "text": [
      "/opt/anaconda3/envs/venv-thesis/lib/python3.12/site-packages/pandas/core/nanops.py:1016: RuntimeWarning: invalid value encountered in subtract\n",
      "  sqr = _ensure_numeric((avg - values) ** 2)\n"
     ]
    },
    {
     "data": {
      "text/plain": [
       "count    9.118000e+04\n",
       "mean              inf\n",
       "std               NaN\n",
       "min     -1.170000e+02\n",
       "25%      1.062398e+00\n",
       "50%      1.451737e+00\n",
       "75%      2.038955e+00\n",
       "max               inf\n",
       "Name: CURRENT_RATIO, dtype: float64"
      ]
     },
     "metadata": {},
     "output_type": "display_data"
    },
    {
     "name": "stderr",
     "output_type": "stream",
     "text": [
      "/opt/anaconda3/envs/venv-thesis/lib/python3.12/site-packages/pandas/core/nanops.py:1016: RuntimeWarning: invalid value encountered in subtract\n",
      "  sqr = _ensure_numeric((avg - values) ** 2)\n"
     ]
    },
    {
     "data": {
      "text/plain": [
       "count    3953.000000\n",
       "mean             inf\n",
       "std              NaN\n",
       "min         0.031549\n",
       "25%         0.962319\n",
       "50%         1.303095\n",
       "75%         1.741088\n",
       "max              inf\n",
       "Name: QUICK_RATIO, dtype: float64"
      ]
     },
     "metadata": {},
     "output_type": "display_data"
    },
    {
     "name": "stderr",
     "output_type": "stream",
     "text": [
      "/opt/anaconda3/envs/venv-thesis/lib/python3.12/site-packages/pandas/core/nanops.py:1016: RuntimeWarning: invalid value encountered in subtract\n",
      "  sqr = _ensure_numeric((avg - values) ** 2)\n"
     ]
    },
    {
     "data": {
      "text/plain": [
       "count    9.118000e+04\n",
       "mean              inf\n",
       "std               NaN\n",
       "min     -1.170000e+02\n",
       "25%      8.388281e-01\n",
       "50%      1.245865e+00\n",
       "75%      1.793570e+00\n",
       "max               inf\n",
       "Name: QUICK_RATIO, dtype: float64"
      ]
     },
     "metadata": {},
     "output_type": "display_data"
    }
   ],
   "source": [
    "\"\"\"\n",
    "liquidity\n",
    "\"\"\"\n",
    "display(high_growth_df[\"LIQUIDITY\"].describe())\n",
    "display(non_high_growth_df[\"LIQUIDITY\"].describe())\n",
    "display(high_growth_df[\"CURRENT_RATIO\"].describe())\n",
    "display(non_high_growth_df[\"CURRENT_RATIO\"].describe())\n",
    "display(high_growth_df[\"QUICK_RATIO\"].describe())\n",
    "display(non_high_growth_df[\"QUICK_RATIO\"].describe())"
   ]
  },
  {
   "cell_type": "code",
   "execution_count": 90,
   "metadata": {},
   "outputs": [
    {
     "data": {
      "text/plain": [
       "count    3949.000000\n",
       "mean       -0.205603\n",
       "std         8.996376\n",
       "min      -509.500000\n",
       "25%         0.016031\n",
       "50%         0.051669\n",
       "75%         0.103688\n",
       "max         3.522124\n",
       "Name: ny_vinstprc, dtype: float64"
      ]
     },
     "metadata": {},
     "output_type": "display_data"
    },
    {
     "data": {
      "text/plain": [
       "count    91045.000000\n",
       "mean        -0.835448\n",
       "std         94.945864\n",
       "min     -18213.000000\n",
       "25%          0.009574\n",
       "50%          0.039355\n",
       "75%          0.086472\n",
       "max       2959.000000\n",
       "Name: ny_vinstprc, dtype: float64"
      ]
     },
     "metadata": {},
     "output_type": "display_data"
    }
   ],
   "source": [
    "\"\"\"\n",
    "Profitability\n",
    "\"\"\"\n",
    "display(high_growth_df[\"ny_vinstprc\"].describe())\n",
    "display(non_high_growth_df[\"ny_vinstprc\"].describe())"
   ]
  },
  {
   "cell_type": "code",
   "execution_count": 91,
   "metadata": {},
   "outputs": [
    {
     "data": {
      "text/plain": [
       "count    3954.000000\n",
       "mean       -0.009746\n",
       "std         0.029259\n",
       "min        -0.932665\n",
       "25%        -0.011207\n",
       "50%        -0.003361\n",
       "75%        -0.000633\n",
       "max         0.000000\n",
       "Name: DEBT_TAX_SHIELDS, dtype: float64"
      ]
     },
     "metadata": {},
     "output_type": "display_data"
    },
    {
     "data": {
      "text/plain": [
       "count    91184.000000\n",
       "mean        -0.017525\n",
       "std          1.196678\n",
       "min       -255.000000\n",
       "25%         -0.013609\n",
       "50%         -0.004751\n",
       "75%         -0.000807\n",
       "max          0.000000\n",
       "Name: DEBT_TAX_SHIELDS, dtype: float64"
      ]
     },
     "metadata": {},
     "output_type": "display_data"
    },
    {
     "data": {
      "text/plain": [
       "count    3954.000000\n",
       "mean       -0.038624\n",
       "std         0.060307\n",
       "min        -2.184781\n",
       "25%        -0.055460\n",
       "50%        -0.016987\n",
       "75%        -0.003870\n",
       "max         0.000000\n",
       "Name: NON_DEBT_TAX_SHIELDS, dtype: float64"
      ]
     },
     "metadata": {},
     "output_type": "display_data"
    },
    {
     "data": {
      "text/plain": [
       "count    91184.000000\n",
       "mean        -0.054140\n",
       "std          0.838829\n",
       "min       -175.000000\n",
       "25%         -0.070087\n",
       "50%         -0.027760\n",
       "75%         -0.008415\n",
       "max          0.023667\n",
       "Name: NON_DEBT_TAX_SHIELDS, dtype: float64"
      ]
     },
     "metadata": {},
     "output_type": "display_data"
    }
   ],
   "source": [
    "\"\"\"\n",
    "Tax shields\n",
    "\"\"\"\n",
    "display(high_growth_df[\"DEBT_TAX_SHIELDS\"].describe())\n",
    "display(non_high_growth_df[\"DEBT_TAX_SHIELDS\"].describe())\n",
    "display(high_growth_df[\"NON_DEBT_TAX_SHIELDS\"].describe())\n",
    "display(non_high_growth_df[\"NON_DEBT_TAX_SHIELDS\"].describe())"
   ]
  },
  {
   "cell_type": "code",
   "execution_count": 92,
   "metadata": {},
   "outputs": [
    {
     "data": {
      "text/plain": [
       "count    3300.000000\n",
       "mean        0.328112\n",
       "std         0.616845\n",
       "min        -0.941886\n",
       "25%         0.039103\n",
       "50%         0.217969\n",
       "75%         0.452785\n",
       "max        14.164602\n",
       "Name: GROWTH_OPPORTUNITIES_ASSETS, dtype: float64"
      ]
     },
     "metadata": {},
     "output_type": "display_data"
    },
    {
     "data": {
      "text/plain": [
       "count    66187.000000\n",
       "mean         0.094952\n",
       "std          0.668693\n",
       "min         -0.999795\n",
       "25%         -0.054201\n",
       "50%          0.037675\n",
       "75%          0.163815\n",
       "max        124.681818\n",
       "Name: GROWTH_OPPORTUNITIES_ASSETS, dtype: float64"
      ]
     },
     "metadata": {},
     "output_type": "display_data"
    },
    {
     "name": "stderr",
     "output_type": "stream",
     "text": [
      "/opt/anaconda3/envs/venv-thesis/lib/python3.12/site-packages/pandas/core/nanops.py:1016: RuntimeWarning: invalid value encountered in subtract\n",
      "  sqr = _ensure_numeric((avg - values) ** 2)\n"
     ]
    },
    {
     "data": {
      "text/plain": [
       "count    3297.000000\n",
       "mean             inf\n",
       "std              NaN\n",
       "min        -1.000000\n",
       "25%         0.140787\n",
       "50%         0.283160\n",
       "75%         0.489406\n",
       "max              inf\n",
       "Name: GROWTH_OPPORTUNITIES_SALES, dtype: float64"
      ]
     },
     "metadata": {},
     "output_type": "display_data"
    },
    {
     "name": "stderr",
     "output_type": "stream",
     "text": [
      "/opt/anaconda3/envs/venv-thesis/lib/python3.12/site-packages/pandas/core/nanops.py:1016: RuntimeWarning: invalid value encountered in subtract\n",
      "  sqr = _ensure_numeric((avg - values) ** 2)\n"
     ]
    },
    {
     "data": {
      "text/plain": [
       "count    6.612500e+04\n",
       "mean              inf\n",
       "std               NaN\n",
       "min     -1.000000e+00\n",
       "25%     -2.594172e-02\n",
       "50%      4.413629e-02\n",
       "75%      1.483587e-01\n",
       "max               inf\n",
       "Name: GROWTH_OPPORTUNITIES_SALES, dtype: float64"
      ]
     },
     "metadata": {},
     "output_type": "display_data"
    }
   ],
   "source": [
    "\"\"\"\n",
    "Growth opportunities\n",
    "\"\"\"\n",
    "display(high_growth_df[\"GROWTH_OPPORTUNITIES_ASSETS\"].describe())\n",
    "display(non_high_growth_df[\"GROWTH_OPPORTUNITIES_ASSETS\"].describe())\n",
    "display(high_growth_df[\"GROWTH_OPPORTUNITIES_SALES\"].describe())\n",
    "display(non_high_growth_df[\"GROWTH_OPPORTUNITIES_SALES\"].describe())"
   ]
  },
  {
   "cell_type": "code",
   "execution_count": 93,
   "metadata": {},
   "outputs": [
    {
     "data": {
      "text/plain": [
       "count    3954.000000\n",
       "mean       45.833333\n",
       "std         2.114432\n",
       "min        42.000000\n",
       "25%        44.000000\n",
       "50%        46.000000\n",
       "75%        48.000000\n",
       "max        49.000000\n",
       "Name: AGE, dtype: float64"
      ]
     },
     "metadata": {},
     "output_type": "display_data"
    },
    {
     "data": {
      "text/plain": [
       "count    91184.000000\n",
       "mean        45.528744\n",
       "std          2.299701\n",
       "min         42.000000\n",
       "25%         44.000000\n",
       "50%         46.000000\n",
       "75%         48.000000\n",
       "max         49.000000\n",
       "Name: AGE, dtype: float64"
      ]
     },
     "metadata": {},
     "output_type": "display_data"
    }
   ],
   "source": [
    "\"\"\"\n",
    "Age\n",
    "\"\"\"\n",
    "display(high_growth_df[\"AGE\"].describe())\n",
    "display(non_high_growth_df[\"AGE\"].describe())"
   ]
  },
  {
   "cell_type": "markdown",
   "metadata": {},
   "source": [
    "# Tests"
   ]
  },
  {
   "cell_type": "code",
   "execution_count": null,
   "metadata": {},
   "outputs": [],
   "source": []
  }
 ],
 "metadata": {
  "kernelspec": {
   "display_name": "venv-thesis",
   "language": "python",
   "name": "python3"
  },
  "language_info": {
   "codemirror_mode": {
    "name": "ipython",
    "version": 3
   },
   "file_extension": ".py",
   "mimetype": "text/x-python",
   "name": "python",
   "nbconvert_exporter": "python",
   "pygments_lexer": "ipython3",
   "version": "3.12.8"
  }
 },
 "nbformat": 4,
 "nbformat_minor": 2
}
