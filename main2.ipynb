{
 "cells": [
  {
   "cell_type": "code",
   "execution_count": 260,
   "metadata": {},
   "outputs": [],
   "source": [
    "import pandas as pd\n",
    "import numpy as np"
   ]
  },
  {
   "cell_type": "code",
   "execution_count": 261,
   "metadata": {},
   "outputs": [],
   "source": [
    "df = pd.read_stata(\"./serrano/serrano_2024_Stata/serrano.dta\")"
   ]
  },
  {
   "cell_type": "code",
   "execution_count": 262,
   "metadata": {},
   "outputs": [
    {
     "data": {
      "text/plain": [
       "15327519"
      ]
     },
     "metadata": {},
     "output_type": "display_data"
    },
    {
     "data": {
      "text/plain": [
       "1550192"
      ]
     },
     "metadata": {},
     "output_type": "display_data"
    }
   ],
   "source": [
    "display(len(df))\n",
    "display(df[\"ORGNR\"].nunique())"
   ]
  },
  {
   "cell_type": "markdown",
   "metadata": {},
   "source": [
    "# General Filters"
   ]
  },
  {
   "cell_type": "code",
   "execution_count": 263,
   "metadata": {},
   "outputs": [],
   "source": [
    "\"\"\"\n",
    "These filter should be thought through and written about in the methodology section.\n",
    "We want to avoid cherry-picking the data, but we also want to avoid including data that is not relevant to the study.\n",
    "\n",
    "We also want to avoid survuvalrship bias, i.e., we want to avoid including only the companies that have survived.\n",
    "\"\"\"\n",
    "# Maybe add something about negative equity, i.e., companies that are bankrupt or close to bankruptcy.\n",
    "filtered_df = df[(df['ser_year'] >= 2011) & # 2012-2019 for final dataset, stable period with no major economic crises, here 2011 so we can get growth measures for 2012\n",
    "                 (df['ser_year'] <= 2019) & # and stable interest rates, bnp growth, inflation\n",
    "                 (df['ser_jurform'] == 49) & # aktiebolag\n",
    "                 (df['ser_aktiv'] == 1) & # active companies\n",
    "                 (df['ser_ftgkategori'] == 30) & # private companies, i.e., not state-owned etc.\n",
    "                 (df['ser_stklf'] >= 3) & # companies with at least 10 employee.\n",
    "                 (df['knc_kncfall'] == 1) & # only include independet companies, i.e., not subsidiaries or parent companies THIS IS UP FOR DEBATE\n",
    "                 (df['rr01_ntoms'] > 0) & # remove companies with no turnover\n",
    "                 (df['ser_inregyr'] == 1)] # only include companies that are registered at SCB (just three observations are not)"
   ]
  },
  {
   "cell_type": "code",
   "execution_count": 264,
   "metadata": {},
   "outputs": [
    {
     "data": {
      "text/plain": [
       "108627"
      ]
     },
     "metadata": {},
     "output_type": "display_data"
    },
    {
     "data": {
      "text/plain": [
       "27822"
      ]
     },
     "metadata": {},
     "output_type": "display_data"
    }
   ],
   "source": [
    "display(len(filtered_df))\n",
    "display(filtered_df[\"ORGNR\"].nunique())"
   ]
  },
  {
   "cell_type": "code",
   "execution_count": 265,
   "metadata": {},
   "outputs": [],
   "source": [
    "# Sort the dataframe so ORGNR are together and sorted by year after that.\n",
    "filtered_df = filtered_df.sort_values(by=[\"ORGNR\", \"ser_year\"])"
   ]
  },
  {
   "cell_type": "code",
   "execution_count": 266,
   "metadata": {},
   "outputs": [
    {
     "data": {
      "text/plain": [
       "ser_year\n",
       "2018.0    12475\n",
       "2017.0    12317\n",
       "2016.0    12268\n",
       "2019.0    12241\n",
       "2011.0    12128\n",
       "2012.0    11967\n",
       "2015.0    11874\n",
       "2013.0    11732\n",
       "2014.0    11625\n",
       "Name: count, dtype: int64"
      ]
     },
     "execution_count": 266,
     "metadata": {},
     "output_type": "execute_result"
    }
   ],
   "source": [
    "filtered_df[\"ser_year\"].value_counts()"
   ]
  },
  {
   "cell_type": "code",
   "execution_count": 68,
   "metadata": {},
   "outputs": [
    {
     "data": {
      "text/plain": [
       "'\\nOnly include companies that fit all criteria in order, no year should be missing from the series.\\n\\nMaybe do this.\\n'"
      ]
     },
     "execution_count": 68,
     "metadata": {},
     "output_type": "execute_result"
    }
   ],
   "source": [
    "\"\"\"\n",
    "Only include companies that fit all criteria in order, no year should be missing from the series.\n",
    "\n",
    "Maybe do this.\n",
    "\"\"\""
   ]
  },
  {
   "cell_type": "markdown",
   "metadata": {},
   "source": [
    "# Growth Variable"
   ]
  },
  {
   "cell_type": "code",
   "execution_count": 267,
   "metadata": {},
   "outputs": [
    {
     "name": "stderr",
     "output_type": "stream",
     "text": [
      "/var/folders/pd/d0m27jy17d36rd2w_8y762cr0000gn/T/ipykernel_41522/3022460389.py:13: DeprecationWarning: DataFrameGroupBy.apply operated on the grouping columns. This behavior is deprecated, and in a future version of pandas the grouping columns will be excluded from the operation. Either pass `include_groups=False` to exclude the groupings or explicitly select the grouping columns after groupby to silence this warning.\n",
      "  filtered_df['HIGH_GROWTH'] = filtered_df.groupby('ORGNR').apply(\n"
     ]
    }
   ],
   "source": [
    "\"\"\"\n",
    "Adding a variable for growth.\n",
    "\n",
    "This is according to OECD's definition of high-growth firms,\n",
    "which is defined as firms with an average annualized growth greater than 20%\n",
    "per annum over a three-year period, and with ten or more employees at the beginning of the period.\n",
    "\"\"\"\n",
    "\n",
    "# Calculate the annual growth rate for each company and add it as a new column\n",
    "filtered_df['TURNOVER_GROWTH'] = filtered_df.groupby('ORGNR')['rr01_ntoms'].pct_change()\n",
    "\n",
    "# Identify high-growth periods and create a new binary column\n",
    "filtered_df['HIGH_GROWTH'] = filtered_df.groupby('ORGNR').apply(\n",
    "    lambda x: ((x['TURNOVER_GROWTH'] > 0.20).rolling(window=3).sum() == 3)\n",
    ").reset_index(level=0, drop=True).astype(int)\n",
    "\n"
   ]
  },
  {
   "cell_type": "code",
   "execution_count": 268,
   "metadata": {},
   "outputs": [
    {
     "name": "stderr",
     "output_type": "stream",
     "text": [
      "/var/folders/pd/d0m27jy17d36rd2w_8y762cr0000gn/T/ipykernel_41522/185192981.py:7: FutureWarning: The default fill_method='ffill' in SeriesGroupBy.pct_change is deprecated and will be removed in a future version. Either fill in any non-leading NA values prior to calling pct_change or specify 'fill_method=None' to not fill NA values.\n",
      "  filtered_df['GROWTH_OPPORTUNITIES_ASSETS'] = filtered_df.groupby('ORGNR')['br09_tillgsu'].pct_change()\n"
     ]
    }
   ],
   "source": [
    "\"\"\"\n",
    "Asset growth here. It is a dependet variable in the model but needs to be defined\n",
    "here before we delete the observations below to reduce the amount of NaNs\n",
    "\"\"\"\n",
    "\n",
    "# % change in total assets\n",
    "filtered_df['GROWTH_OPPORTUNITIES_ASSETS'] = filtered_df.groupby('ORGNR')['br09_tillgsu'].pct_change()"
   ]
  },
  {
   "cell_type": "code",
   "execution_count": 269,
   "metadata": {},
   "outputs": [],
   "source": [
    "\"\"\"\n",
    "Drop 2011 observaitons. It was only included to calculate the growth rate for 2012.\n",
    "\"\"\"\n",
    "filtered_df = filtered_df[filtered_df[\"ser_year\"] != 2011]"
   ]
  },
  {
   "cell_type": "code",
   "execution_count": 270,
   "metadata": {},
   "outputs": [],
   "source": [
    "# drop companies w/ growth rates that are NaN\n",
    "filtered_df = filtered_df.dropna(subset=[\"TURNOVER_GROWTH\"])\n",
    "\n",
    "# drop companies w/ growth rates that are exactly 0. For now I don't know how to handle these or where they stem from.\n",
    "# Since we only include compaines with positive turnover, this should not be a problem.\n",
    "filtered_df = filtered_df[filtered_df[\"TURNOVER_GROWTH\"] != 0]\n",
    "\n",
    "# Drop companies with NaN in the growth rate for assets, it is only four observations.\n",
    "filtered_df = filtered_df.dropna(subset=[\"GROWTH_OPPORTUNITIES_ASSETS\"])"
   ]
  },
  {
   "cell_type": "code",
   "execution_count": 271,
   "metadata": {},
   "outputs": [
    {
     "data": {
      "text/plain": [
       "HIGH_GROWTH\n",
       "0    79061\n",
       "1     1037\n",
       "Name: count, dtype: int64"
      ]
     },
     "execution_count": 271,
     "metadata": {},
     "output_type": "execute_result"
    }
   ],
   "source": [
    "filtered_df[\"HIGH_GROWTH\"].value_counts()"
   ]
  },
  {
   "cell_type": "markdown",
   "metadata": {},
   "source": [
    "# Industry Variable"
   ]
  },
  {
   "cell_type": "code",
   "execution_count": 272,
   "metadata": {},
   "outputs": [],
   "source": [
    "\"\"\"\n",
    "There are a lot of columns in the dataset that is about the comapnies industry, a lot of different SNI codes.\n",
    "But we've decided to use the 'bransch_borsbransch_konv' column as the industry variable. Which is a conversion of the SNI codes\n",
    "to fewer branches.\n",
    "\n",
    "Some companies have changed industry over time, so we determine the most frequent industry for each company and add it as a new column\n",
    "to each row assicated with that company.\n",
    "\"\"\"\n",
    "\n",
    "# add one industry to all companies.\n",
    "dict_of_industries = {\n",
    "    10: 'Energy & Environment',\n",
    "    15: 'Materials',\n",
    "    20: 'Industrial goods',\n",
    "    22: 'Construction industry',\n",
    "    25: 'Shopping goods',\n",
    "    30: 'Convenience goods',\n",
    "    35: 'Health & Education',\n",
    "    40: 'Finance & Real estate',\n",
    "    45: 'IT & Electronics',\n",
    "    50: 'Telecom & Media',\n",
    "    60: 'Corporate services',\n",
    "    98: 'Other',\n",
    "    99: 'SNI07 missing'\n",
    "}\n",
    "\n",
    "# Determine the most frequent 'bransch_borsbransch_konv' value for each company\n",
    "most_frequent_industry = filtered_df.groupby('ORGNR')['bransch_borsbransch_konv'].agg(lambda x: x.mode()[0])\n",
    "\n",
    "# Map the most frequent 'bransch_borsbransch_konv' value to the corresponding industry name\n",
    "most_frequent_industry = most_frequent_industry.map(dict_of_industries)\n",
    "\n",
    "# Add the new 'INDUSTRY' column to the DataFrame\n",
    "filtered_df = filtered_df.merge(most_frequent_industry.rename('INDUSTRY'), on='ORGNR')\n",
    "\n",
    "# Filter out rows where the 'INDUSTRY' column is 'SNI07 missing' or 'Other'\n",
    "filtered_df = filtered_df[~filtered_df['INDUSTRY'].isin(['SNI07 missing', 'Other'])]"
   ]
  },
  {
   "cell_type": "markdown",
   "metadata": {},
   "source": [
    "# Variables"
   ]
  },
  {
   "cell_type": "code",
   "execution_count": 273,
   "metadata": {},
   "outputs": [
    {
     "data": {
      "text/plain": [
       "78844"
      ]
     },
     "metadata": {},
     "output_type": "display_data"
    },
    {
     "data": {
      "text/plain": [
       "20663"
      ]
     },
     "metadata": {},
     "output_type": "display_data"
    }
   ],
   "source": [
    "display(len(filtered_df))\n",
    "display(filtered_df[\"ORGNR\"].nunique())"
   ]
  },
  {
   "cell_type": "code",
   "execution_count": 274,
   "metadata": {},
   "outputs": [],
   "source": [
    "\"\"\"\n",
    "Some more filtering to remove weird values.\n",
    "\n",
    "Negative assets, negative debt etc.\n",
    "\n",
    "It removes about 150 observations.\n",
    "\"\"\"\n",
    "\n",
    "# drop observations with no assets\n",
    "filtered_df = filtered_df[filtered_df[\"br09_tillgsu\"] > 0]\n",
    "\n",
    "# drop observations with negative tangible assets\n",
    "filtered_df = filtered_df[filtered_df[\"br02_matanlsu\"] >= 0]\n",
    "\n",
    "# drop observations with negative current assets\n",
    "filtered_df = filtered_df[filtered_df[\"br08_omstgsu\"] > 0]\n",
    "\n",
    "# drop observations with negative inventories\n",
    "filtered_df = filtered_df[filtered_df[\"br06c_lagersu\"] >= 0]\n",
    "\n",
    "# drop observations with positive depreciation\n",
    "filtered_df = filtered_df[filtered_df[\"rr05_avskriv\"] <= 0]\n",
    "\n",
    "# drop one weird outlier when it comes to interest expenses\n",
    "filtered_df = filtered_df[filtered_df[\"rr09_finkostn\"] > -200000]\n",
    "\n",
    "# drop observations with negative long-term debt\n",
    "filtered_df = filtered_df[filtered_df[\"br15_lsksu\"] >= 0]\n",
    "\n",
    "# drop observations with negative short-term debt\n",
    "filtered_df = filtered_df[filtered_df[\"br13_ksksu\"] > 0]"
   ]
  },
  {
   "cell_type": "code",
   "execution_count": 275,
   "metadata": {},
   "outputs": [
    {
     "data": {
      "text/plain": [
       "78741"
      ]
     },
     "metadata": {},
     "output_type": "display_data"
    },
    {
     "data": {
      "text/plain": [
       "20645"
      ]
     },
     "metadata": {},
     "output_type": "display_data"
    }
   ],
   "source": [
    "display(len(filtered_df))\n",
    "display(filtered_df[\"ORGNR\"].nunique())"
   ]
  },
  {
   "cell_type": "markdown",
   "metadata": {},
   "source": [
    "## Independent"
   ]
  },
  {
   "cell_type": "code",
   "execution_count": 276,
   "metadata": {},
   "outputs": [],
   "source": [
    "\"\"\"\n",
    "Firm size\n",
    "\n",
    "Some articles use the log of sales, others the log of assets. We'll add both to the dataset and see which one works best.\n",
    "\"\"\"\n",
    "\n",
    "filtered_df[\"SIZE_LOG_ASSETS\"] = np.log(filtered_df[\"br09_tillgsu\"])\n",
    "filtered_df[\"SIZE_LOG_SALES\"] = np.log(filtered_df[\"rr01_ntoms\"])"
   ]
  },
  {
   "cell_type": "code",
   "execution_count": 277,
   "metadata": {},
   "outputs": [],
   "source": [
    "\"\"\"\n",
    "Asset tangibility\n",
    "\n",
    "Most common thing to add as a proxy is the ratio of tangible fixed assets to total assets.\n",
    "Maybe include intangible assets as well, are such assets (patents, brands etc) used as collateral?\n",
    "\n",
    "There are quite a lot of companies with 0 tangible assets (8000 observations), which is a bit strange. Maybe we should remove those.\n",
    "\"\"\"\n",
    "\n",
    "# tangible assets / total assets\n",
    "filtered_df[\"ASSET_TANGIBILITY\"] = filtered_df[\"br02_matanlsu\"] / filtered_df[\"br09_tillgsu\"]"
   ]
  },
  {
   "cell_type": "code",
   "execution_count": 278,
   "metadata": {},
   "outputs": [],
   "source": [
    "\"\"\"\n",
    "liquidity on debt\n",
    "\n",
    "Cole use cash and cash equivalents to total assets, but we could also use current ratio or quick ratio.\n",
    "\"\"\"\n",
    "\n",
    "# Liquid assets (cash and market securities) to total assets\n",
    "filtered_df[\"LIQUIDITY\"] = filtered_df[\"br07_kplackaba\"] / filtered_df[\"br09_tillgsu\"]\n",
    "\n",
    "# Current ratio: current assets divided by current liabilities\n",
    "filtered_df[\"CURRENT_RATIO\"] = filtered_df[\"br08_omstgsu\"] / filtered_df[\"br13_ksksu\"]\n",
    "\n",
    "# Quick ratio: (current assets - inventory) divided by current liabilities\n",
    "filtered_df[\"QUICK_RATIO\"] = (filtered_df[\"br08_omstgsu\"] - filtered_df[\"br06c_lagersu\"]) / filtered_df[\"br13_ksksu\"]\n"
   ]
  },
  {
   "cell_type": "code",
   "execution_count": 279,
   "metadata": {},
   "outputs": [
    {
     "data": {
      "text/plain": [
       "ny_vinstprc\n",
       "0.000000    51\n",
       "0.062500     6\n",
       "0.038462     4\n",
       "0.052632     4\n",
       "0.064516     4\n",
       "            ..\n",
       "0.147671     1\n",
       "0.142091     1\n",
       "0.125329     1\n",
       "0.068746     1\n",
       "0.025252     1\n",
       "Name: count, Length: 78468, dtype: int64"
      ]
     },
     "execution_count": 279,
     "metadata": {},
     "output_type": "execute_result"
    }
   ],
   "source": [
    "\"\"\"\n",
    "Profitability\n",
    "\n",
    "There are many measures for this, RoA, RoE, operating margin, net margin etc.\n",
    "\"\"\"\n",
    "\n",
    "# Profit margin according to serrano is already defined as 'ny_vinstprc'\n",
    "\n",
    "filtered_df['ny_vinstprc'].value_counts(dropna=False)"
   ]
  },
  {
   "cell_type": "code",
   "execution_count": 280,
   "metadata": {},
   "outputs": [],
   "source": [
    "\"\"\"\n",
    "Tax shields\n",
    "\n",
    "For now I only find definition in Vanacker & Manigart (2010).\n",
    "\"\"\"\n",
    "\n",
    "# Debt tax shields: Interest expenses / Total Assets\n",
    "filtered_df['DEBT_TAX_SHIELDS'] = filtered_df['rr09_finkostn'] / filtered_df['br09_tillgsu']\n",
    "\n",
    "# Non-debt tax shields: Depreciation and amortization / Total Assets\n",
    "filtered_df['NON_DEBT_TAX_SHIELDS'] = filtered_df['rr05_avskriv'] / filtered_df['br09_tillgsu']"
   ]
  },
  {
   "cell_type": "code",
   "execution_count": 125,
   "metadata": {},
   "outputs": [
    {
     "data": {
      "text/plain": [
       "'\\nTax\\n\\nDo we mean the corporate tax in Sweden or the % tax the companies actually pay?\\n'"
      ]
     },
     "execution_count": 125,
     "metadata": {},
     "output_type": "execute_result"
    }
   ],
   "source": [
    "\"\"\"\n",
    "Tax\n",
    "\n",
    "Do we mean the corporate tax in Sweden or the % tax the companies actually pay?\n",
    "\"\"\""
   ]
  },
  {
   "cell_type": "code",
   "execution_count": null,
   "metadata": {},
   "outputs": [
    {
     "data": {
      "text/plain": [
       "'\\nGrowth opportunities\\n\\nSome have change in sales too. But that gets weird for us since that is what we use to determine HGFs.\\n'"
      ]
     },
     "execution_count": 127,
     "metadata": {},
     "output_type": "execute_result"
    }
   ],
   "source": [
    "\"\"\"\n",
    "Growth opportunities\n",
    "\n",
    "Some have change in sales too. But that gets weird for us since that is what we use to determine HGFs.\n",
    "\n",
    "This is defined further up in the code. Before filtering stuff needed to calculate it.\n",
    "\"\"\"\n"
   ]
  },
  {
   "cell_type": "code",
   "execution_count": 281,
   "metadata": {},
   "outputs": [],
   "source": [
    "\"\"\"\n",
    "Age\n",
    "\n",
    "Need to discuss this since age could be year incorporated vs todays date, or 2019, or for every year of observation\n",
    "for one company.\n",
    "\"\"\"\n",
    "\n",
    "# Change reg date to only year\n",
    "filtered_df[\"ser_regdat\"] = pd.to_datetime(filtered_df[\"ser_regdat\"])\n",
    "filtered_df[\"ser_regdat\"] = filtered_df[\"ser_regdat\"].dt.year\n",
    "\n",
    "# Age of the company (year of observation - year of registration)\n",
    "filtered_df[\"AGE\"] = filtered_df[\"ser_year\"] - filtered_df[\"ser_regdat\"]"
   ]
  },
  {
   "cell_type": "markdown",
   "metadata": {},
   "source": [
    "## Dependent"
   ]
  },
  {
   "cell_type": "code",
   "execution_count": 282,
   "metadata": {},
   "outputs": [],
   "source": [
    "\"\"\"\n",
    "Leverage\n",
    "\"\"\"\n",
    "\n",
    "# Total debt to total assets\n",
    "filtered_df['LEVERAGE_TOTAL'] = (filtered_df['br15_lsksu'] + filtered_df['br13_ksksu']) / filtered_df['br09_tillgsu']\n",
    "\n",
    "# Long-term debt to total assets (all non-current liabilities, could be other things)\n",
    "filtered_df['LEVERAGE_LONG'] = filtered_df['br15_lsksu'] / filtered_df['br09_tillgsu']\n",
    "\n",
    "# Short-term debt to total assets (all current liabilities, could be other things)\n",
    "filtered_df['LEVERAGE_SHORT'] = filtered_df['br13_ksksu'] / filtered_df['br09_tillgsu']"
   ]
  },
  {
   "cell_type": "markdown",
   "metadata": {},
   "source": [
    "# More filters"
   ]
  },
  {
   "cell_type": "code",
   "execution_count": 283,
   "metadata": {},
   "outputs": [
    {
     "data": {
      "text/plain": [
       "78741"
      ]
     },
     "metadata": {},
     "output_type": "display_data"
    },
    {
     "data": {
      "text/plain": [
       "20645"
      ]
     },
     "metadata": {},
     "output_type": "display_data"
    }
   ],
   "source": [
    "display(len(filtered_df))\n",
    "display(len(filtered_df[\"ORGNR\"].unique()))"
   ]
  },
  {
   "cell_type": "code",
   "execution_count": 284,
   "metadata": {},
   "outputs": [],
   "source": [
    "# only keep companies that have at least 3 years of data\n",
    "filtered_df = filtered_df.groupby(\"ORGNR\").filter(lambda x: len(x) >= 3)"
   ]
  },
  {
   "cell_type": "code",
   "execution_count": 285,
   "metadata": {},
   "outputs": [
    {
     "data": {
      "text/plain": [
       "66493"
      ]
     },
     "metadata": {},
     "output_type": "display_data"
    },
    {
     "data": {
      "text/plain": [
       "12026"
      ]
     },
     "metadata": {},
     "output_type": "display_data"
    },
    {
     "data": {
      "text/plain": [
       "ser_year\n",
       "2017.0    9078\n",
       "2016.0    8944\n",
       "2015.0    8816\n",
       "2014.0    8789\n",
       "2018.0    8314\n",
       "2013.0    7992\n",
       "2019.0    7447\n",
       "2012.0    7113\n",
       "Name: count, dtype: int64"
      ]
     },
     "metadata": {},
     "output_type": "display_data"
    }
   ],
   "source": [
    "display(len(filtered_df))\n",
    "display(len(filtered_df[\"ORGNR\"].unique()))\n",
    "display(filtered_df[\"ser_year\"].value_counts())"
   ]
  },
  {
   "cell_type": "markdown",
   "metadata": {},
   "source": [
    "# Hausmann test"
   ]
  },
  {
   "cell_type": "code",
   "execution_count": 286,
   "metadata": {},
   "outputs": [],
   "source": [
    "hausmann_df = filtered_df.set_index([\"ORGNR\", \"ser_year\"])"
   ]
  },
  {
   "cell_type": "code",
   "execution_count": 287,
   "metadata": {},
   "outputs": [],
   "source": [
    "hausmann_df = filtered_df.set_index([\"ORGNR\", \"ser_year\"])\n",
    "\n",
    "y = hausmann_df[\"LEVERAGE_TOTAL\"]\n",
    "X = hausmann_df[[\"SIZE_LOG_ASSETS\", \"ASSET_TANGIBILITY\", \"LIQUIDITY\", \"ny_vinstprc\", \"DEBT_TAX_SHIELDS\", \"NON_DEBT_TAX_SHIELDS\", \"GROWTH_OPPORTUNITIES_ASSETS\", \"AGE\"]]"
   ]
  },
  {
   "cell_type": "code",
   "execution_count": 288,
   "metadata": {},
   "outputs": [
    {
     "data": {
      "text/plain": [
       "SIZE_LOG_ASSETS                0\n",
       "ASSET_TANGIBILITY              0\n",
       "LIQUIDITY                      0\n",
       "ny_vinstprc                    0\n",
       "DEBT_TAX_SHIELDS               0\n",
       "NON_DEBT_TAX_SHIELDS           0\n",
       "GROWTH_OPPORTUNITIES_ASSETS    0\n",
       "AGE                            0\n",
       "dtype: int64"
      ]
     },
     "execution_count": 288,
     "metadata": {},
     "output_type": "execute_result"
    }
   ],
   "source": [
    "y.isna().sum()\n",
    "X.isna().sum()"
   ]
  },
  {
   "cell_type": "code",
   "execution_count": 289,
   "metadata": {},
   "outputs": [],
   "source": [
    "import statsmodels.api as sm\n",
    "from linearmodels import PanelOLS, RandomEffects\n",
    "from linearmodels.panel.results import compare\n",
    "from scipy import stats"
   ]
  },
  {
   "cell_type": "code",
   "execution_count": 290,
   "metadata": {},
   "outputs": [
    {
     "name": "stdout",
     "output_type": "stream",
     "text": [
      "                           Model Comparison                          \n",
      "=====================================================================\n",
      "                                            random              fixed\n",
      "---------------------------------------------------------------------\n",
      "Dep. Variable                       LEVERAGE_TOTAL     LEVERAGE_TOTAL\n",
      "Estimator                            RandomEffects           PanelOLS\n",
      "No. Observations                             66493              66493\n",
      "Cov. Est.                               Unadjusted         Unadjusted\n",
      "R-squared                                   0.1043             0.0574\n",
      "R-Squared (Within)                          0.0478             0.0574\n",
      "R-Squared (Between)                         0.2331            -0.0580\n",
      "R-Squared (Overall)                         0.1494            -0.0116\n",
      "F-statistic                                 967.35             414.16\n",
      "P-value (F-stat)                            0.0000             0.0000\n",
      "=============================     ================   ================\n",
      "const                                       1.6652             2.3063\n",
      "                                          (65.247)           (42.954)\n",
      "SIZE_LOG_ASSETS                            -0.1090            -0.2160\n",
      "                                         (-37.273)          (-33.385)\n",
      "ASSET_TANGIBILITY                          -0.0101             0.1901\n",
      "                                         (-0.7553)           (8.1529)\n",
      "LIQUIDITY                                  -0.3822            -0.2101\n",
      "                                         (-33.196)          (-13.372)\n",
      "ny_vinstprc                                -0.0001         -6.291e-05\n",
      "                                         (-0.8296)          (-0.4525)\n",
      "DEBT_TAX_SHIELDS                           -2.5762            -1.9331\n",
      "                                         (-43.926)          (-29.419)\n",
      "NON_DEBT_TAX_SHIELDS                       -0.6834            -0.6902\n",
      "                                         (-18.118)          (-15.732)\n",
      "GROWTH_OPPORTUNITIES_ASSETS                 0.0088             0.0258\n",
      "                                          (1.8691)           (5.0483)\n",
      "AGE                                        -0.0012             0.0119\n",
      "                                         (-5.4387)           (14.555)\n",
      "=============================== ================== ==================\n",
      "Effects                                                        Entity\n",
      "---------------------------------------------------------------------\n",
      "\n",
      "T-stats reported in parentheses\n"
     ]
    }
   ],
   "source": [
    "\"\"\"\n",
    "Model Comparison\n",
    "\"\"\"\n",
    "\n",
    "# Add a constant term\n",
    "X = sm.add_constant(X)\n",
    "\n",
    "# Run fixed effects model\n",
    "fe_model = PanelOLS(y, X, entity_effects=True)\n",
    "fe_results = fe_model.fit()\n",
    "\n",
    "# Run random effects model\n",
    "re_model = RandomEffects(y, X)\n",
    "re_results = re_model.fit()\n",
    "\n",
    "# Compare the models\n",
    "comparison = compare({'random': re_results, 'fixed': fe_results})\n",
    "print(comparison)"
   ]
  },
  {
   "cell_type": "code",
   "execution_count": 291,
   "metadata": {},
   "outputs": [],
   "source": [
    "def hausman_test(fe_results, re_results):\n",
    "    \"\"\"\n",
    "    Manual implementation of Hausman test for panel data\n",
    "    \"\"\"\n",
    "    # Get coefficients (excluding constant)\n",
    "    b_fe = fe_results.params[1:]\n",
    "    b_re = re_results.params[1:]\n",
    "    \n",
    "    # Get covariance matrices (excluding constant)\n",
    "    var_fe = fe_results.cov.iloc[1:, 1:]\n",
    "    var_re = re_results.cov.iloc[1:, 1:]\n",
    "    \n",
    "    # Calculate difference\n",
    "    diff = b_fe - b_re\n",
    "    \n",
    "    # Calculate variance of difference\n",
    "    var_diff = var_fe - var_re\n",
    "    \n",
    "    # Calculate test statistic\n",
    "    stat = diff.T @ np.linalg.inv(var_diff) @ diff\n",
    "    \n",
    "    # Degrees of freedom = number of parameters being tested\n",
    "    df = len(b_fe)\n",
    "    \n",
    "    # Calculate p-value\n",
    "    p_value = 1 - stats.chi2.cdf(stat, df)\n",
    "    \n",
    "    return {\n",
    "        'stat': stat,\n",
    "        'df': df,\n",
    "        'p-value': p_value\n",
    "    }"
   ]
  },
  {
   "cell_type": "code",
   "execution_count": 292,
   "metadata": {},
   "outputs": [
    {
     "name": "stdout",
     "output_type": "stream",
     "text": [
      "Hausman test statistic: 994.4593\n",
      "Degrees of freedom: 8\n",
      "P-value: 0.0000\n"
     ]
    }
   ],
   "source": [
    "\"\"\"\n",
    "Hausman Test w/o industry dummies TOTAL LEVERAGE\n",
    "\"\"\"\n",
    "\n",
    "fe_model = PanelOLS(y, X, entity_effects=True)\n",
    "fe_results = fe_model.fit()\n",
    "\n",
    "re_model = RandomEffects(y, X)\n",
    "re_results = re_model.fit()\n",
    "\n",
    "# Perform the Hausman test\n",
    "result = hausman_test(fe_results, re_results)\n",
    "print(f\"Hausman test statistic: {result['stat']:.4f}\")\n",
    "print(f\"Degrees of freedom: {result['df']}\")\n",
    "print(f\"P-value: {result['p-value']:.4f}\")"
   ]
  },
  {
   "cell_type": "code",
   "execution_count": 293,
   "metadata": {},
   "outputs": [
    {
     "name": "stdout",
     "output_type": "stream",
     "text": [
      "Hausman test statistic: 609.7035\n",
      "Degrees of freedom: 8\n",
      "P-value: 0.0000\n"
     ]
    }
   ],
   "source": [
    "\"\"\"\n",
    "Hausman Test w/o industry dummies LONG TERM LEVERAGE\n",
    "\"\"\"\n",
    "\n",
    "y = hausmann_df[\"LEVERAGE_LONG\"]\n",
    "\n",
    "# After running your models:\n",
    "fe_model = PanelOLS(y, X, entity_effects=True)\n",
    "fe_results = fe_model.fit()\n",
    "\n",
    "re_model = RandomEffects(y, X)\n",
    "re_results = re_model.fit()\n",
    "\n",
    "# Perform the Hausman test\n",
    "result = hausman_test(fe_results, re_results)\n",
    "print(f\"Hausman test statistic: {result['stat']:.4f}\")\n",
    "print(f\"Degrees of freedom: {result['df']}\")\n",
    "print(f\"P-value: {result['p-value']:.4f}\")"
   ]
  },
  {
   "cell_type": "code",
   "execution_count": 294,
   "metadata": {},
   "outputs": [
    {
     "name": "stdout",
     "output_type": "stream",
     "text": [
      "Hausman test statistic: 992.6940\n",
      "Degrees of freedom: 8\n",
      "P-value: 0.0000\n"
     ]
    }
   ],
   "source": [
    "\"\"\"\n",
    "Hausman Test w/o industry dummies SHORT TERM LEVERAGE\n",
    "\"\"\"\n",
    "\n",
    "y = hausmann_df[\"LEVERAGE_SHORT\"]\n",
    "\n",
    "# After running your models:\n",
    "fe_model = PanelOLS(y, X, entity_effects=True)\n",
    "fe_results = fe_model.fit()\n",
    "\n",
    "re_model = RandomEffects(y, X)\n",
    "re_results = re_model.fit()\n",
    "\n",
    "# Perform the Hausman test\n",
    "result = hausman_test(fe_results, re_results)\n",
    "print(f\"Hausman test statistic: {result['stat']:.4f}\")\n",
    "print(f\"Degrees of freedom: {result['df']}\")\n",
    "print(f\"P-value: {result['p-value']:.4f}\")"
   ]
  },
  {
   "cell_type": "markdown",
   "metadata": {},
   "source": [
    "# Split the dataset in HGF vs non-HGF"
   ]
  },
  {
   "cell_type": "code",
   "execution_count": 295,
   "metadata": {},
   "outputs": [],
   "source": [
    "# Identify HGF ORGNR\n",
    "high_growth_ids = filtered_df[filtered_df[\"HIGH_GROWTH\"] == 1][\"ORGNR\"].unique()\n",
    "\n",
    "# Create a new DataFrame with only high-growth firms\n",
    "HGF_df = filtered_df[filtered_df[\"ORGNR\"].isin(high_growth_ids)]\n",
    "\n",
    "# Create a new DataFrame with only non-high-growth firms\n",
    "non_HGF_df = filtered_df[~filtered_df[\"ORGNR\"].isin(high_growth_ids)]"
   ]
  },
  {
   "cell_type": "code",
   "execution_count": 308,
   "metadata": {},
   "outputs": [
    {
     "data": {
      "text/plain": [
       "4010"
      ]
     },
     "metadata": {},
     "output_type": "display_data"
    },
    {
     "data": {
      "text/plain": [
       "62483"
      ]
     },
     "metadata": {},
     "output_type": "display_data"
    }
   ],
   "source": [
    "display(len(HGF_df), len(non_HGF_df))"
   ]
  },
  {
   "cell_type": "code",
   "execution_count": 309,
   "metadata": {},
   "outputs": [
    {
     "data": {
      "text/plain": [
       "755"
      ]
     },
     "metadata": {},
     "output_type": "display_data"
    },
    {
     "data": {
      "text/plain": [
       "11271"
      ]
     },
     "metadata": {},
     "output_type": "display_data"
    }
   ],
   "source": [
    "display(HGF_df[\"ORGNR\"].nunique(), non_HGF_df[\"ORGNR\"].nunique())"
   ]
  },
  {
   "cell_type": "code",
   "execution_count": 310,
   "metadata": {},
   "outputs": [
    {
     "data": {
      "text/plain": [
       "ser_year\n",
       "2017.0    9078\n",
       "2016.0    8944\n",
       "2015.0    8816\n",
       "2014.0    8789\n",
       "2018.0    8314\n",
       "2013.0    7992\n",
       "2019.0    7447\n",
       "2012.0    7113\n",
       "Name: count, dtype: int64"
      ]
     },
     "execution_count": 310,
     "metadata": {},
     "output_type": "execute_result"
    }
   ],
   "source": [
    "filtered_df[\"ser_year\"].value_counts()"
   ]
  },
  {
   "cell_type": "code",
   "execution_count": 311,
   "metadata": {},
   "outputs": [
    {
     "data": {
      "text/plain": [
       "ser_year\n",
       "2017.0    638\n",
       "2016.0    603\n",
       "2018.0    586\n",
       "2019.0    539\n",
       "2015.0    535\n",
       "2014.0    464\n",
       "2013.0    372\n",
       "2012.0    273\n",
       "Name: count, dtype: int64"
      ]
     },
     "execution_count": 311,
     "metadata": {},
     "output_type": "execute_result"
    }
   ],
   "source": [
    "HGF_df[\"ser_year\"].value_counts()"
   ]
  },
  {
   "cell_type": "code",
   "execution_count": 312,
   "metadata": {},
   "outputs": [
    {
     "data": {
      "text/plain": [
       "ser_year\n",
       "2017.0    8440\n",
       "2016.0    8341\n",
       "2014.0    8325\n",
       "2015.0    8281\n",
       "2018.0    7728\n",
       "2013.0    7620\n",
       "2019.0    6908\n",
       "2012.0    6840\n",
       "Name: count, dtype: int64"
      ]
     },
     "execution_count": 312,
     "metadata": {},
     "output_type": "execute_result"
    }
   ],
   "source": [
    "non_HGF_df[\"ser_year\"].value_counts()"
   ]
  },
  {
   "cell_type": "markdown",
   "metadata": {},
   "source": [
    "# Descriptive Data"
   ]
  },
  {
   "cell_type": "code",
   "execution_count": 297,
   "metadata": {},
   "outputs": [
    {
     "data": {
      "text/plain": [
       "INDUSTRY\n",
       "Corporate services       29.403974\n",
       "Construction industry    22.649007\n",
       "Health & Education       14.966887\n",
       "Shopping goods           13.245033\n",
       "IT & Electronics          7.947020\n",
       "Industrial goods          4.370861\n",
       "Convenience goods         2.649007\n",
       "Finance & Real estate     2.251656\n",
       "Materials                 1.324503\n",
       "Telecom & Media           0.794702\n",
       "Energy & Environment      0.397351\n",
       "Name: proportion, dtype: float64"
      ]
     },
     "metadata": {},
     "output_type": "display_data"
    },
    {
     "data": {
      "text/plain": [
       "INDUSTRY\n",
       "Corporate services       23.094668\n",
       "Shopping goods           21.391181\n",
       "Construction industry    20.424097\n",
       "Industrial goods          9.715198\n",
       "Convenience goods         9.475645\n",
       "Health & Education        8.615030\n",
       "IT & Electronics          2.537486\n",
       "Materials                 2.014018\n",
       "Finance & Real estate     1.499423\n",
       "Energy & Environment      0.621063\n",
       "Telecom & Media           0.612191\n",
       "Name: proportion, dtype: float64"
      ]
     },
     "metadata": {},
     "output_type": "display_data"
    }
   ],
   "source": [
    "\"\"\"\n",
    "Industry\n",
    "\"\"\"\n",
    "# Get one row per company (HGF)\n",
    "unique_HGFs = HGF_df.drop_duplicates(subset=[\"ORGNR\"])\n",
    "\n",
    "# Get one row per company (non_HGF)\n",
    "unique_non_HGFs = non_HGF_df.drop_duplicates(subset=[\"ORGNR\"])\n",
    "\n",
    "display(unique_HGFs[\"INDUSTRY\"].value_counts(normalize=True) * 100)\n",
    "display(unique_non_HGFs[\"INDUSTRY\"].value_counts(normalize=True) * 100)"
   ]
  },
  {
   "cell_type": "code",
   "execution_count": 298,
   "metadata": {},
   "outputs": [
    {
     "data": {
      "text/plain": [
       "count    4010.000000\n",
       "mean        0.570554\n",
       "std         0.541468\n",
       "min         0.023494\n",
       "25%         0.388355\n",
       "50%         0.551358\n",
       "75%         0.709473\n",
       "max        31.113208\n",
       "Name: LEVERAGE_SHORT, dtype: float64"
      ]
     },
     "metadata": {},
     "output_type": "display_data"
    },
    {
     "data": {
      "text/plain": [
       "count    62483.000000\n",
       "mean         0.488666\n",
       "std          0.372634\n",
       "min          0.006915\n",
       "25%          0.311116\n",
       "50%          0.454698\n",
       "75%          0.623500\n",
       "max         39.583333\n",
       "Name: LEVERAGE_SHORT, dtype: float64"
      ]
     },
     "metadata": {},
     "output_type": "display_data"
    },
    {
     "data": {
      "text/plain": [
       "count    4010.000000\n",
       "mean        0.107868\n",
       "std         0.173667\n",
       "min         0.000000\n",
       "25%         0.000000\n",
       "50%         0.009972\n",
       "75%         0.159496\n",
       "max         1.642065\n",
       "Name: LEVERAGE_LONG, dtype: float64"
      ]
     },
     "metadata": {},
     "output_type": "display_data"
    },
    {
     "data": {
      "text/plain": [
       "count    62483.000000\n",
       "mean         0.126017\n",
       "std          0.273944\n",
       "min          0.000000\n",
       "25%          0.000000\n",
       "50%          0.026549\n",
       "75%          0.210523\n",
       "max         24.758333\n",
       "Name: LEVERAGE_LONG, dtype: float64"
      ]
     },
     "metadata": {},
     "output_type": "display_data"
    },
    {
     "data": {
      "text/plain": [
       "count    4010.000000\n",
       "mean        0.678422\n",
       "std         0.543294\n",
       "min         0.046232\n",
       "25%         0.509733\n",
       "50%         0.675644\n",
       "75%         0.820454\n",
       "max        31.113208\n",
       "Name: LEVERAGE_TOTAL, dtype: float64"
      ]
     },
     "metadata": {},
     "output_type": "display_data"
    },
    {
     "data": {
      "text/plain": [
       "count    62483.000000\n",
       "mean         0.614682\n",
       "std          0.518311\n",
       "min          0.009867\n",
       "25%          0.430859\n",
       "50%          0.600070\n",
       "75%          0.767090\n",
       "max         64.341667\n",
       "Name: LEVERAGE_TOTAL, dtype: float64"
      ]
     },
     "metadata": {},
     "output_type": "display_data"
    }
   ],
   "source": [
    "\"\"\"\n",
    "Leverage\n",
    "\"\"\"\n",
    "display(HGF_df[\"LEVERAGE_SHORT\"].describe())\n",
    "display(non_HGF_df[\"LEVERAGE_SHORT\"].describe())\n",
    "display(HGF_df[\"LEVERAGE_LONG\"].describe())\n",
    "display(non_HGF_df[\"LEVERAGE_LONG\"].describe())\n",
    "display(HGF_df[\"LEVERAGE_TOTAL\"].describe())\n",
    "display(non_HGF_df[\"LEVERAGE_TOTAL\"].describe())"
   ]
  },
  {
   "cell_type": "code",
   "execution_count": 299,
   "metadata": {},
   "outputs": [
    {
     "data": {
      "text/plain": [
       "count    4010.000000\n",
       "mean        9.091102\n",
       "std         1.118266\n",
       "min         3.970292\n",
       "25%         8.339740\n",
       "50%         9.077609\n",
       "75%         9.783549\n",
       "max        14.915306\n",
       "Name: SIZE_LOG_ASSETS, dtype: float64"
      ]
     },
     "metadata": {},
     "output_type": "display_data"
    },
    {
     "data": {
      "text/plain": [
       "count    62483.000000\n",
       "mean         9.065300\n",
       "std          1.050617\n",
       "min          3.970292\n",
       "25%          8.370200\n",
       "50%          9.052633\n",
       "75%          9.708263\n",
       "max         16.914990\n",
       "Name: SIZE_LOG_ASSETS, dtype: float64"
      ]
     },
     "metadata": {},
     "output_type": "display_data"
    },
    {
     "data": {
      "text/plain": [
       "count    4010.000000\n",
       "mean       10.040531\n",
       "std         0.947360\n",
       "min         3.401197\n",
       "25%         9.438710\n",
       "50%        10.014380\n",
       "75%        10.612293\n",
       "max        14.877591\n",
       "Name: SIZE_LOG_SALES, dtype: float64"
      ]
     },
     "metadata": {},
     "output_type": "display_data"
    },
    {
     "data": {
      "text/plain": [
       "count    62483.000000\n",
       "mean         9.980748\n",
       "std          0.853063\n",
       "min          0.000000\n",
       "25%          9.415890\n",
       "50%          9.873750\n",
       "75%         10.457847\n",
       "max         15.618990\n",
       "Name: SIZE_LOG_SALES, dtype: float64"
      ]
     },
     "metadata": {},
     "output_type": "display_data"
    }
   ],
   "source": [
    "\"\"\"\n",
    "Firm size\n",
    "\"\"\"\n",
    "display(HGF_df[\"SIZE_LOG_ASSETS\"].describe())\n",
    "display(non_HGF_df[\"SIZE_LOG_ASSETS\"].describe())\n",
    "display(HGF_df[\"SIZE_LOG_SALES\"].describe())\n",
    "display(non_HGF_df[\"SIZE_LOG_SALES\"].describe())"
   ]
  },
  {
   "cell_type": "code",
   "execution_count": 300,
   "metadata": {},
   "outputs": [
    {
     "data": {
      "text/plain": [
       "count    4010.000000\n",
       "mean        0.168595\n",
       "std         0.226853\n",
       "min         0.000000\n",
       "25%         0.010351\n",
       "50%         0.055191\n",
       "75%         0.249154\n",
       "max         0.960242\n",
       "Name: ASSET_TANGIBILITY, dtype: float64"
      ]
     },
     "metadata": {},
     "output_type": "display_data"
    },
    {
     "data": {
      "text/plain": [
       "count    62483.000000\n",
       "mean         0.232648\n",
       "std          0.249156\n",
       "min          0.000000\n",
       "25%          0.025005\n",
       "50%          0.126329\n",
       "75%          0.396537\n",
       "max          0.996224\n",
       "Name: ASSET_TANGIBILITY, dtype: float64"
      ]
     },
     "metadata": {},
     "output_type": "display_data"
    }
   ],
   "source": [
    "\"\"\"\n",
    "Asset tangibility\n",
    "\"\"\"\n",
    "display(HGF_df[\"ASSET_TANGIBILITY\"].describe())\n",
    "display(non_HGF_df[\"ASSET_TANGIBILITY\"].describe())"
   ]
  },
  {
   "cell_type": "code",
   "execution_count": 301,
   "metadata": {},
   "outputs": [
    {
     "data": {
      "text/plain": [
       "count    4010.000000\n",
       "mean        0.264749\n",
       "std         0.228704\n",
       "min        -0.036774\n",
       "25%         0.063627\n",
       "50%         0.217029\n",
       "75%         0.418524\n",
       "max         1.128364\n",
       "Name: LIQUIDITY, dtype: float64"
      ]
     },
     "metadata": {},
     "output_type": "display_data"
    },
    {
     "data": {
      "text/plain": [
       "count    62483.000000\n",
       "mean         0.250659\n",
       "std          0.224049\n",
       "min         -0.408312\n",
       "25%          0.055101\n",
       "50%          0.200170\n",
       "75%          0.395436\n",
       "max          1.003517\n",
       "Name: LIQUIDITY, dtype: float64"
      ]
     },
     "metadata": {},
     "output_type": "display_data"
    },
    {
     "data": {
      "text/plain": [
       "count    4010.000000\n",
       "mean        1.613294\n",
       "std         1.041163\n",
       "min         0.032141\n",
       "25%         1.078559\n",
       "50%         1.397868\n",
       "75%         1.853233\n",
       "max        19.233420\n",
       "Name: CURRENT_RATIO, dtype: float64"
      ]
     },
     "metadata": {},
     "output_type": "display_data"
    },
    {
     "data": {
      "text/plain": [
       "count    62483.000000\n",
       "mean         1.818860\n",
       "std          1.788058\n",
       "min          0.001393\n",
       "25%          1.090317\n",
       "50%          1.495086\n",
       "75%          2.091017\n",
       "max        142.170569\n",
       "Name: CURRENT_RATIO, dtype: float64"
      ]
     },
     "metadata": {},
     "output_type": "display_data"
    },
    {
     "data": {
      "text/plain": [
       "count    4010.000000\n",
       "mean        1.491585\n",
       "std         1.025499\n",
       "min         0.031549\n",
       "25%         0.966975\n",
       "50%         1.307252\n",
       "75%         1.737768\n",
       "max        19.233420\n",
       "Name: QUICK_RATIO, dtype: float64"
      ]
     },
     "metadata": {},
     "output_type": "display_data"
    },
    {
     "data": {
      "text/plain": [
       "count    62483.000000\n",
       "mean         1.527634\n",
       "std          1.408794\n",
       "min         -2.636364\n",
       "25%          0.842478\n",
       "50%          1.263241\n",
       "75%          1.818738\n",
       "max         75.191919\n",
       "Name: QUICK_RATIO, dtype: float64"
      ]
     },
     "metadata": {},
     "output_type": "display_data"
    }
   ],
   "source": [
    "\"\"\"\n",
    "liquidity\n",
    "\"\"\"\n",
    "display(HGF_df[\"LIQUIDITY\"].describe())\n",
    "display(non_HGF_df[\"LIQUIDITY\"].describe())\n",
    "display(HGF_df[\"CURRENT_RATIO\"].describe())\n",
    "display(non_HGF_df[\"CURRENT_RATIO\"].describe())\n",
    "display(HGF_df[\"QUICK_RATIO\"].describe())\n",
    "display(non_HGF_df[\"QUICK_RATIO\"].describe())"
   ]
  },
  {
   "cell_type": "code",
   "execution_count": 302,
   "metadata": {},
   "outputs": [
    {
     "data": {
      "text/plain": [
       "count    4010.000000\n",
       "mean       -0.026078\n",
       "std         3.634250\n",
       "min      -227.081081\n",
       "25%         0.016190\n",
       "50%         0.050427\n",
       "75%         0.103229\n",
       "max        12.133333\n",
       "Name: ny_vinstprc, dtype: float64"
      ]
     },
     "metadata": {},
     "output_type": "display_data"
    },
    {
     "data": {
      "text/plain": [
       "count    62483.000000\n",
       "mean         0.066313\n",
       "std         12.983075\n",
       "min      -1284.750000\n",
       "25%          0.011693\n",
       "50%          0.039640\n",
       "75%          0.083556\n",
       "max       2959.000000\n",
       "Name: ny_vinstprc, dtype: float64"
      ]
     },
     "metadata": {},
     "output_type": "display_data"
    }
   ],
   "source": [
    "\"\"\"\n",
    "Profitability\n",
    "\"\"\"\n",
    "display(HGF_df[\"ny_vinstprc\"].describe())\n",
    "display(non_HGF_df[\"ny_vinstprc\"].describe())"
   ]
  },
  {
   "cell_type": "code",
   "execution_count": 303,
   "metadata": {},
   "outputs": [
    {
     "data": {
      "text/plain": [
       "count    4010.000000\n",
       "mean       -0.010002\n",
       "std         0.028378\n",
       "min        -0.932665\n",
       "25%        -0.011754\n",
       "50%        -0.003890\n",
       "75%        -0.000699\n",
       "max         0.000000\n",
       "Name: DEBT_TAX_SHIELDS, dtype: float64"
      ]
     },
     "metadata": {},
     "output_type": "display_data"
    },
    {
     "data": {
      "text/plain": [
       "count    62483.000000\n",
       "mean        -0.010728\n",
       "std          0.031646\n",
       "min         -2.537516\n",
       "25%         -0.013221\n",
       "50%         -0.004723\n",
       "75%         -0.000801\n",
       "max          0.000000\n",
       "Name: DEBT_TAX_SHIELDS, dtype: float64"
      ]
     },
     "metadata": {},
     "output_type": "display_data"
    },
    {
     "data": {
      "text/plain": [
       "count    4010.000000\n",
       "mean       -0.039746\n",
       "std         0.065234\n",
       "min        -2.184781\n",
       "25%        -0.055659\n",
       "50%        -0.018208\n",
       "75%        -0.004588\n",
       "max         0.000000\n",
       "Name: NON_DEBT_TAX_SHIELDS, dtype: float64"
      ]
     },
     "metadata": {},
     "output_type": "display_data"
    },
    {
     "data": {
      "text/plain": [
       "count    62483.000000\n",
       "mean        -0.051629\n",
       "std          0.063131\n",
       "min         -2.876916\n",
       "25%         -0.073616\n",
       "50%         -0.030245\n",
       "75%         -0.009936\n",
       "max          0.000000\n",
       "Name: NON_DEBT_TAX_SHIELDS, dtype: float64"
      ]
     },
     "metadata": {},
     "output_type": "display_data"
    }
   ],
   "source": [
    "\"\"\"\n",
    "Tax shields\n",
    "\"\"\"\n",
    "display(HGF_df[\"DEBT_TAX_SHIELDS\"].describe())\n",
    "display(non_HGF_df[\"DEBT_TAX_SHIELDS\"].describe())\n",
    "display(HGF_df[\"NON_DEBT_TAX_SHIELDS\"].describe())\n",
    "display(non_HGF_df[\"NON_DEBT_TAX_SHIELDS\"].describe())"
   ]
  },
  {
   "cell_type": "code",
   "execution_count": 304,
   "metadata": {},
   "outputs": [
    {
     "data": {
      "text/plain": [
       "count    4010.000000\n",
       "mean        0.319846\n",
       "std         0.601307\n",
       "min        -0.941886\n",
       "25%         0.028279\n",
       "50%         0.212282\n",
       "75%         0.447926\n",
       "max        14.164602\n",
       "Name: GROWTH_OPPORTUNITIES_ASSETS, dtype: float64"
      ]
     },
     "metadata": {},
     "output_type": "display_data"
    },
    {
     "data": {
      "text/plain": [
       "count    62483.000000\n",
       "mean         0.077882\n",
       "std          0.310472\n",
       "min         -0.987598\n",
       "25%         -0.054841\n",
       "50%          0.037108\n",
       "75%          0.152619\n",
       "max         13.611268\n",
       "Name: GROWTH_OPPORTUNITIES_ASSETS, dtype: float64"
      ]
     },
     "metadata": {},
     "output_type": "display_data"
    }
   ],
   "source": [
    "\"\"\"\n",
    "Growth opportunities\n",
    "\"\"\"\n",
    "display(HGF_df[\"GROWTH_OPPORTUNITIES_ASSETS\"].describe())\n",
    "display(non_HGF_df[\"GROWTH_OPPORTUNITIES_ASSETS\"].describe())"
   ]
  },
  {
   "cell_type": "code",
   "execution_count": 305,
   "metadata": {},
   "outputs": [
    {
     "data": {
      "text/plain": [
       "count    4010.000000\n",
       "mean        9.964339\n",
       "std         8.816212\n",
       "min         1.000000\n",
       "25%         4.000000\n",
       "50%         7.000000\n",
       "75%        12.000000\n",
       "max        55.000000\n",
       "Name: AGE, dtype: float64"
      ]
     },
     "metadata": {},
     "output_type": "display_data"
    },
    {
     "data": {
      "text/plain": [
       "count    62483.000000\n",
       "mean        19.190916\n",
       "std         14.285346\n",
       "min          1.000000\n",
       "25%          9.000000\n",
       "50%         16.000000\n",
       "75%         26.000000\n",
       "max        152.000000\n",
       "Name: AGE, dtype: float64"
      ]
     },
     "metadata": {},
     "output_type": "display_data"
    }
   ],
   "source": [
    "\"\"\"\n",
    "Age\n",
    "\"\"\"\n",
    "display(HGF_df[\"AGE\"].describe())\n",
    "display(non_HGF_df[\"AGE\"].describe())"
   ]
  },
  {
   "cell_type": "markdown",
   "metadata": {},
   "source": [
    "# Tests"
   ]
  },
  {
   "cell_type": "code",
   "execution_count": 306,
   "metadata": {},
   "outputs": [
    {
     "name": "stdout",
     "output_type": "stream",
     "text": [
      "\n",
      "=== High Growth Companies Results ===\n",
      "\n",
      "\n",
      "Results for LEVERAGE_TOTAL:\n",
      "                                      Parameter Estimates                                      \n",
      "===============================================================================================\n",
      "                             Parameter  Std. Err.     T-stat    P-value    Lower CI    Upper CI\n",
      "-----------------------------------------------------------------------------------------------\n",
      "const                           2.1779     0.2156     10.101     0.0000      1.7551      2.6006\n",
      "SIZE_LOG_ASSETS                -0.4639     0.0332    -13.957     0.0000     -0.5291     -0.3987\n",
      "SIZE_LOG_SALES                  0.2395     0.0322     7.4335     0.0000      0.1764      0.3027\n",
      "ASSET_TANGIBILITY               0.1376     0.1189     1.1570     0.2474     -0.0956      0.3707\n",
      "GROWTH_OPPORTUNITIES_ASSETS     0.0514     0.0147     3.4832     0.0005      0.0225      0.0803\n",
      "LIQUIDITY                      -0.2494     0.0695    -3.5891     0.0003     -0.3856     -0.1131\n",
      "QUICK_RATIO                     0.0099     0.0767     0.1290     0.8974     -0.1405      0.1602\n",
      "CURRENT_RATIO                  -0.0882     0.0742    -1.1885     0.2347     -0.2338      0.0573\n",
      "ny_vinstprc                    -0.0058     0.0025    -2.3101     0.0209     -0.0107     -0.0009\n",
      "DEBT_TAX_SHIELDS               -3.7314     0.3186    -11.713     0.0000     -4.3560     -3.1068\n",
      "NON_DEBT_TAX_SHIELDS            0.1696     0.1750     0.9691     0.3326     -0.1735      0.5127\n",
      "AGE                             0.0438     0.0069     6.3757     0.0000      0.0303      0.0572\n",
      "===============================================================================================\n",
      "R-squared: 0.1392\n",
      "Within R-squared: 0.1392\n",
      "\n",
      "Results for LEVERAGE_LONG:\n",
      "                                      Parameter Estimates                                      \n",
      "===============================================================================================\n",
      "                             Parameter  Std. Err.     T-stat    P-value    Lower CI    Upper CI\n",
      "-----------------------------------------------------------------------------------------------\n",
      "const                           0.1627     0.0346     4.7042     0.0000      0.0949      0.2305\n",
      "SIZE_LOG_ASSETS                 0.0283     0.0053     5.3094     0.0000      0.0179      0.0388\n",
      "SIZE_LOG_SALES                 -0.0390     0.0052    -7.5378     0.0000     -0.0491     -0.0288\n",
      "ASSET_TANGIBILITY               0.4221     0.0191     22.129     0.0000      0.3847      0.4595\n",
      "GROWTH_OPPORTUNITIES_ASSETS    -0.0028     0.0024    -1.1844     0.2363     -0.0074      0.0018\n",
      "LIQUIDITY                      -0.0445     0.0111    -3.9939     0.0001     -0.0664     -0.0227\n",
      "QUICK_RATIO                    -0.0518     0.0123    -4.2141     0.0000     -0.0760     -0.0277\n",
      "CURRENT_RATIO                   0.0579     0.0119     4.8587     0.0000      0.0345      0.0812\n",
      "ny_vinstprc                     0.0013     0.0004     3.1259     0.0018      0.0005      0.0020\n",
      "DEBT_TAX_SHIELDS               -0.1000     0.0511    -1.9578     0.0503     -0.2002      0.0001\n",
      "NON_DEBT_TAX_SHIELDS           -0.0565     0.0281    -2.0122     0.0443     -0.1115     -0.0014\n",
      "AGE                             0.0001     0.0011     0.1199     0.9046     -0.0020      0.0023\n",
      "===============================================================================================\n",
      "R-squared: 0.1899\n",
      "Within R-squared: 0.1899\n",
      "\n",
      "Results for LEVERAGE_SHORT:\n",
      "                                      Parameter Estimates                                      \n",
      "===============================================================================================\n",
      "                             Parameter  Std. Err.     T-stat    P-value    Lower CI    Upper CI\n",
      "-----------------------------------------------------------------------------------------------\n",
      "const                           2.0152     0.2135     9.4401     0.0000      1.5966      2.4337\n",
      "SIZE_LOG_ASSETS                -0.4922     0.0329    -14.956     0.0000     -0.5567     -0.4277\n",
      "SIZE_LOG_SALES                  0.2785     0.0319     8.7288     0.0000      0.2159      0.3411\n",
      "ASSET_TANGIBILITY              -0.2845     0.1177    -2.4165     0.0157     -0.5154     -0.0537\n",
      "GROWTH_OPPORTUNITIES_ASSETS     0.0542     0.0146     3.7098     0.0002      0.0255      0.0828\n",
      "LIQUIDITY                      -0.2049     0.0688    -2.9778     0.0029     -0.3398     -0.0700\n",
      "QUICK_RATIO                     0.0617     0.0759     0.8130     0.4163     -0.0871      0.2106\n",
      "CURRENT_RATIO                  -0.1461     0.0735    -1.9875     0.0469     -0.2902     -0.0020\n",
      "ny_vinstprc                    -0.0071     0.0025    -2.8396     0.0045     -0.0119     -0.0022\n",
      "DEBT_TAX_SHIELDS               -3.6314     0.3154    -11.513     0.0000     -4.2498     -3.0129\n",
      "NON_DEBT_TAX_SHIELDS            0.2261     0.1733     1.3048     0.1921     -0.1136      0.5658\n",
      "AGE                             0.0436     0.0068     6.4199     0.0000      0.0303      0.0570\n",
      "===============================================================================================\n",
      "R-squared: 0.1480\n",
      "Within R-squared: 0.1480\n",
      "\n",
      "=== Non-High Growth Companies Results ===\n",
      "\n",
      "\n",
      "Results for LEVERAGE_TOTAL:\n",
      "                                      Parameter Estimates                                      \n",
      "===============================================================================================\n",
      "                             Parameter  Std. Err.     T-stat    P-value    Lower CI    Upper CI\n",
      "-----------------------------------------------------------------------------------------------\n",
      "const                           1.5884     0.0773     20.538     0.0000      1.4368      1.7399\n",
      "SIZE_LOG_ASSETS                -0.3062     0.0088    -34.992     0.0000     -0.3234     -0.2891\n",
      "SIZE_LOG_SALES                  0.1618     0.0100     16.255     0.0000      0.1423      0.1813\n",
      "ASSET_TANGIBILITY               0.2168     0.0238     9.1075     0.0000      0.1701      0.2634\n",
      "GROWTH_OPPORTUNITIES_ASSETS     0.0392     0.0056     6.9334     0.0000      0.0281      0.0502\n",
      "LIQUIDITY                      -0.0996     0.0165    -6.0509     0.0000     -0.1319     -0.0673\n",
      "QUICK_RATIO                    -0.0316     0.0036    -8.8962     0.0000     -0.0385     -0.0246\n",
      "CURRENT_RATIO                  -0.0047     0.0030    -1.6027     0.1090     -0.0105      0.0011\n",
      "ny_vinstprc                     0.0001     0.0001     0.8566     0.3917     -0.0001      0.0004\n",
      "DEBT_TAX_SHIELDS               -1.7102     0.0661    -25.885     0.0000     -1.8396     -1.5807\n",
      "NON_DEBT_TAX_SHIELDS           -0.7050     0.0451    -15.621     0.0000     -0.7934     -0.6165\n",
      "AGE                             0.0084     0.0008     10.216     0.0000      0.0068      0.0100\n",
      "===============================================================================================\n",
      "R-squared: 0.0689\n",
      "Within R-squared: 0.0689\n",
      "\n",
      "Results for LEVERAGE_LONG:\n",
      "                                      Parameter Estimates                                      \n",
      "===============================================================================================\n",
      "                             Parameter  Std. Err.     T-stat    P-value    Lower CI    Upper CI\n",
      "-----------------------------------------------------------------------------------------------\n",
      "const                           0.2407     0.0392     6.1337     0.0000      0.1638      0.3177\n",
      "SIZE_LOG_ASSETS             -7.363e-05     0.0044    -0.0166     0.9868     -0.0088      0.0086\n",
      "SIZE_LOG_SALES                 -0.0235     0.0051    -4.6599     0.0000     -0.0334     -0.0136\n",
      "ASSET_TANGIBILITY               0.3883     0.0121     32.149     0.0000      0.3646      0.4120\n",
      "GROWTH_OPPORTUNITIES_ASSETS     0.0036     0.0029     1.2410     0.2146     -0.0021      0.0092\n",
      "LIQUIDITY                      -0.0569     0.0084    -6.8142     0.0000     -0.0733     -0.0406\n",
      "QUICK_RATIO                    -0.0005     0.0018    -0.2638     0.7919     -0.0040      0.0031\n",
      "CURRENT_RATIO                   0.0041     0.0015     2.7324     0.0063      0.0012      0.0070\n",
      "ny_vinstprc                 -2.818e-05  6.865e-05    -0.4106     0.6814     -0.0002      0.0001\n",
      "DEBT_TAX_SHIELDS               -0.9070     0.0335    -27.051     0.0000     -0.9727     -0.8413\n",
      "NON_DEBT_TAX_SHIELDS           -0.2309     0.0229    -10.081     0.0000     -0.2758     -0.1860\n",
      "AGE                             0.0008     0.0004     2.0164     0.0438   2.353e-05      0.0017\n",
      "===============================================================================================\n",
      "R-squared: 0.0503\n",
      "Within R-squared: 0.0503\n",
      "\n",
      "Results for LEVERAGE_SHORT:\n",
      "                                      Parameter Estimates                                      \n",
      "===============================================================================================\n",
      "                             Parameter  Std. Err.     T-stat    P-value    Lower CI    Upper CI\n",
      "-----------------------------------------------------------------------------------------------\n",
      "const                           1.3476     0.0529     25.467     0.0000      1.2439      1.4513\n",
      "SIZE_LOG_ASSETS                -0.3062     0.0060    -51.129     0.0000     -0.3179     -0.2944\n",
      "SIZE_LOG_SALES                  0.1853     0.0068     27.214     0.0000      0.1720      0.1987\n",
      "ASSET_TANGIBILITY              -0.1715     0.0163    -10.534     0.0000     -0.2035     -0.1396\n",
      "GROWTH_OPPORTUNITIES_ASSETS     0.0356     0.0039     9.2128     0.0000      0.0280      0.0432\n",
      "LIQUIDITY                      -0.0427     0.0113    -3.7894     0.0002     -0.0648     -0.0206\n",
      "QUICK_RATIO                    -0.0311     0.0024    -12.806     0.0000     -0.0359     -0.0264\n",
      "CURRENT_RATIO                  -0.0088     0.0020    -4.3690     0.0000     -0.0128     -0.0049\n",
      "ny_vinstprc                     0.0001  9.255e-05     1.5564     0.1196  -3.735e-05      0.0003\n",
      "DEBT_TAX_SHIELDS               -0.8032     0.0452    -17.767     0.0000     -0.8918     -0.7146\n",
      "NON_DEBT_TAX_SHIELDS           -0.4741     0.0309    -15.353     0.0000     -0.5346     -0.4136\n",
      "AGE                             0.0076     0.0006     13.435     0.0000      0.0065      0.0087\n",
      "===============================================================================================\n",
      "R-squared: 0.1022\n",
      "Within R-squared: 0.1022\n",
      "\n",
      "Coefficient Difference Test for LEVERAGE_TOTAL:\n",
      "F-statistic: 24.6587\n",
      "P-value: 0.0000\n",
      "Coefficients differ significantly between groups\n",
      "\n",
      "Coefficient Difference Test for LEVERAGE_LONG:\n",
      "F-statistic: 7.2714\n",
      "P-value: 0.0000\n",
      "Coefficients differ significantly between groups\n",
      "\n",
      "Coefficient Difference Test for LEVERAGE_SHORT:\n",
      "F-statistic: 64.0333\n",
      "P-value: 0.0000\n",
      "Coefficients differ significantly between groups\n"
     ]
    }
   ],
   "source": [
    "# Define your dependent variables and controls\n",
    "dependent_vars = ['LEVERAGE_TOTAL', 'LEVERAGE_LONG', 'LEVERAGE_SHORT']\n",
    "control_vars = [\"SIZE_LOG_ASSETS\", \"SIZE_LOG_SALES\", \"ASSET_TANGIBILITY\", \"GROWTH_OPPORTUNITIES_ASSETS\", \"LIQUIDITY\", \"QUICK_RATIO\", \"CURRENT_RATIO\", \n",
    "               \"ny_vinstprc\", \"DEBT_TAX_SHIELDS\", \"NON_DEBT_TAX_SHIELDS\", \"AGE\"]\n",
    "\n",
    "# Set up for panel data analysis (repeat for both samples)\n",
    "def run_panel_regressions(data, sample_name):\n",
    "    \"\"\"Run fixed effects regressions for all dependent variables on a given sample\"\"\"\n",
    "    \n",
    "    print(f\"\\n=== {sample_name} Companies Results ===\\n\")\n",
    "    \n",
    "    # Set panel data index\n",
    "    panel_data = data.set_index([\"ORGNR\", \"ser_year\"])\n",
    "    \n",
    "    # Add constant\n",
    "    X = panel_data[control_vars]\n",
    "    X = sm.add_constant(X)\n",
    "    \n",
    "    # Run regressions for each dependent variable\n",
    "    for dep_var in dependent_vars:\n",
    "        y = panel_data[dep_var]\n",
    "        \n",
    "        # Run fixed effects model (entity effects only, no time effects)\n",
    "        fe_model = PanelOLS(y, X, entity_effects=True)\n",
    "        fe_results = fe_model.fit()\n",
    "        \n",
    "        print(f\"\\nResults for {dep_var}:\")\n",
    "        print(fe_results.summary.tables[1])  # Print coefficients table\n",
    "        print(f\"R-squared: {fe_results.rsquared:.4f}\")\n",
    "        print(f\"Within R-squared: {fe_results.rsquared_within:.4f}\")\n",
    "\n",
    "# Run for both samples\n",
    "run_panel_regressions(HGF_df, \"High Growth\")\n",
    "run_panel_regressions(non_HGF_df, \"Non-High Growth\")\n",
    "\n",
    "# For formal statistical comparison between groups, you can use a Chow test approach\n",
    "# This tests if coefficients differ between sub-samples\n",
    "def chow_test_approach(full_df, high_growth_df, low_growth_df, dep_var):\n",
    "    \"\"\"Implement a version of Chow test logic for panel data\"\"\"\n",
    "    \n",
    "    # Set panel data indices\n",
    "    full_panel = full_df.set_index([\"ORGNR\", \"ser_year\"])\n",
    "    high_panel = high_growth_df.set_index([\"ORGNR\", \"ser_year\"])\n",
    "    low_panel = low_growth_df.set_index([\"ORGNR\", \"ser_year\"])\n",
    "    \n",
    "    # Add constant\n",
    "    X_full = sm.add_constant(full_panel[control_vars])\n",
    "    X_high = sm.add_constant(high_panel[control_vars])\n",
    "    X_low = sm.add_constant(low_panel[control_vars])\n",
    "    \n",
    "    # Run models\n",
    "    y_full = full_panel[dep_var]\n",
    "    y_high = high_panel[dep_var]\n",
    "    y_low = low_panel[dep_var]\n",
    "    \n",
    "    full_model = PanelOLS(y_full, X_full, entity_effects=True)\n",
    "    high_model = PanelOLS(y_high, X_high, entity_effects=True)\n",
    "    low_model = PanelOLS(y_low, X_low, entity_effects=True)\n",
    "    \n",
    "    full_results = full_model.fit()\n",
    "    high_results = high_model.fit()\n",
    "    low_results = low_model.fit()\n",
    "    \n",
    "    # Calculate sum of squared residuals\n",
    "    rss_full = full_results.resids.values.T @ full_results.resids.values\n",
    "    rss_high = high_results.resids.values.T @ high_results.resids.values\n",
    "    rss_low = low_results.resids.values.T @ low_results.resids.values\n",
    "    \n",
    "    # Calculate F-statistic\n",
    "    n_full = len(y_full)\n",
    "    n_params = len(control_vars) + 1  # +1 for constant\n",
    "    f_stat = ((rss_full - (rss_high + rss_low)) / n_params) / ((rss_high + rss_low) / (n_full - 2 * n_params))\n",
    "    \n",
    "    # Print results\n",
    "    print(f\"\\nCoefficient Difference Test for {dep_var}:\")\n",
    "    print(f\"F-statistic: {f_stat:.4f}\")\n",
    "    # Calculate p-value using F distribution with (k, n-2k) degrees of freedom\n",
    "    from scipy import stats\n",
    "    p_value = 1 - stats.f.cdf(f_stat, n_params, n_full - 2 * n_params)\n",
    "    print(f\"P-value: {p_value:.4f}\")\n",
    "    print(f\"{'Coefficients differ significantly between groups' if p_value < 0.05 else 'No significant difference in coefficients'}\")\n",
    "\n",
    "# Run comparison test for each dependent variable\n",
    "for dep_var in dependent_vars:\n",
    "    chow_test_approach(filtered_df, HGF_df, non_HGF_df, dep_var)\n"
   ]
  },
  {
   "cell_type": "code",
   "execution_count": 307,
   "metadata": {},
   "outputs": [
    {
     "name": "stdout",
     "output_type": "stream",
     "text": [
      "High-Growth Correlation Matrix:\n",
      "                             SIZE_LOG_ASSETS  SIZE_LOG_SALES  \\\n",
      "SIZE_LOG_ASSETS                     1.000000        0.799205   \n",
      "SIZE_LOG_SALES                      0.799205        1.000000   \n",
      "ASSET_TANGIBILITY                   0.171320       -0.013886   \n",
      "GROWTH_OPPORTUNITIES_ASSETS         0.065818        0.013141   \n",
      "LIQUIDITY                          -0.118525       -0.139316   \n",
      "QUICK_RATIO                         0.045647       -0.099766   \n",
      "CURRENT_RATIO                       0.142242       -0.020885   \n",
      "ny_vinstprc                        -0.056475        0.113301   \n",
      "DEBT_TAX_SHIELDS                    0.077395        0.073555   \n",
      "NON_DEBT_TAX_SHIELDS               -0.068464        0.028728   \n",
      "AGE                                 0.338579        0.308461   \n",
      "LEVERAGE_TOTAL                     -0.159659       -0.043709   \n",
      "LEVERAGE_LONG                       0.185319       -0.047495   \n",
      "LEVERAGE_SHORT                     -0.219635       -0.028623   \n",
      "\n",
      "                             ASSET_TANGIBILITY  GROWTH_OPPORTUNITIES_ASSETS  \\\n",
      "SIZE_LOG_ASSETS                       0.171320                     0.065818   \n",
      "SIZE_LOG_SALES                       -0.013886                     0.013141   \n",
      "ASSET_TANGIBILITY                     1.000000                    -0.054227   \n",
      "GROWTH_OPPORTUNITIES_ASSETS          -0.054227                     1.000000   \n",
      "LIQUIDITY                            -0.419009                     0.116840   \n",
      "QUICK_RATIO                          -0.305724                     0.103095   \n",
      "CURRENT_RATIO                        -0.293171                     0.087988   \n",
      "ny_vinstprc                          -0.060164                    -0.013870   \n",
      "DEBT_TAX_SHIELDS                     -0.112311                     0.101732   \n",
      "NON_DEBT_TAX_SHIELDS                 -0.502619                     0.081105   \n",
      "AGE                                   0.126292                    -0.106307   \n",
      "LEVERAGE_TOTAL                        0.072371                    -0.054133   \n",
      "LEVERAGE_LONG                         0.688668                    -0.048602   \n",
      "LEVERAGE_SHORT                       -0.148264                    -0.038727   \n",
      "\n",
      "                             LIQUIDITY  QUICK_RATIO  CURRENT_RATIO  \\\n",
      "SIZE_LOG_ASSETS              -0.118525     0.045647       0.142242   \n",
      "SIZE_LOG_SALES               -0.139316    -0.099766      -0.020885   \n",
      "ASSET_TANGIBILITY            -0.419009    -0.305724      -0.293171   \n",
      "GROWTH_OPPORTUNITIES_ASSETS   0.116840     0.103095       0.087988   \n",
      "LIQUIDITY                     1.000000     0.480671       0.405032   \n",
      "QUICK_RATIO                   0.480671     1.000000       0.943059   \n",
      "CURRENT_RATIO                 0.405032     0.943059       1.000000   \n",
      "ny_vinstprc                   0.025356     0.003577      -0.006879   \n",
      "DEBT_TAX_SHIELDS              0.144819     0.114065       0.102952   \n",
      "NON_DEBT_TAX_SHIELDS          0.258720     0.164553       0.172413   \n",
      "AGE                          -0.116949    -0.047428       0.008659   \n",
      "LEVERAGE_TOTAL               -0.193618    -0.297683      -0.306469   \n",
      "LEVERAGE_LONG                -0.406044    -0.227757      -0.168420   \n",
      "LEVERAGE_SHORT               -0.064038    -0.225637      -0.253484   \n",
      "\n",
      "                             ny_vinstprc  DEBT_TAX_SHIELDS  \\\n",
      "SIZE_LOG_ASSETS                -0.056475          0.077395   \n",
      "SIZE_LOG_SALES                  0.113301          0.073555   \n",
      "ASSET_TANGIBILITY              -0.060164         -0.112311   \n",
      "GROWTH_OPPORTUNITIES_ASSETS    -0.013870          0.101732   \n",
      "LIQUIDITY                       0.025356          0.144819   \n",
      "QUICK_RATIO                     0.003577          0.114065   \n",
      "CURRENT_RATIO                  -0.006879          0.102952   \n",
      "ny_vinstprc                     1.000000          0.001308   \n",
      "DEBT_TAX_SHIELDS                0.001308          1.000000   \n",
      "NON_DEBT_TAX_SHIELDS            0.002237          0.106634   \n",
      "AGE                             0.010778         -0.065280   \n",
      "LEVERAGE_TOTAL                 -0.024182         -0.261895   \n",
      "LEVERAGE_LONG                  -0.123907         -0.182097   \n",
      "LEVERAGE_SHORT                  0.015478         -0.204373   \n",
      "\n",
      "                             NON_DEBT_TAX_SHIELDS       AGE  LEVERAGE_TOTAL  \\\n",
      "SIZE_LOG_ASSETS                         -0.068464  0.338579       -0.159659   \n",
      "SIZE_LOG_SALES                           0.028728  0.308461       -0.043709   \n",
      "ASSET_TANGIBILITY                       -0.502619  0.126292        0.072371   \n",
      "GROWTH_OPPORTUNITIES_ASSETS              0.081105 -0.106307       -0.054133   \n",
      "LIQUIDITY                                0.258720 -0.116949       -0.193618   \n",
      "QUICK_RATIO                              0.164553 -0.047428       -0.297683   \n",
      "CURRENT_RATIO                            0.172413  0.008659       -0.306469   \n",
      "ny_vinstprc                              0.002237  0.010778       -0.024182   \n",
      "DEBT_TAX_SHIELDS                         0.106634 -0.065280       -0.261895   \n",
      "NON_DEBT_TAX_SHIELDS                     1.000000 -0.024786       -0.049191   \n",
      "AGE                                     -0.024786  1.000000       -0.045123   \n",
      "LEVERAGE_TOTAL                          -0.049191 -0.045123        1.000000   \n",
      "LEVERAGE_LONG                           -0.401026  0.061423        0.170321   \n",
      "LEVERAGE_SHORT                           0.079265 -0.064976        0.948743   \n",
      "\n",
      "                             LEVERAGE_LONG  LEVERAGE_SHORT  \n",
      "SIZE_LOG_ASSETS                   0.185319       -0.219635  \n",
      "SIZE_LOG_SALES                   -0.047495       -0.028623  \n",
      "ASSET_TANGIBILITY                 0.688668       -0.148264  \n",
      "GROWTH_OPPORTUNITIES_ASSETS      -0.048602       -0.038727  \n",
      "LIQUIDITY                        -0.406044       -0.064038  \n",
      "QUICK_RATIO                      -0.227757       -0.225637  \n",
      "CURRENT_RATIO                    -0.168420       -0.253484  \n",
      "ny_vinstprc                      -0.123907        0.015478  \n",
      "DEBT_TAX_SHIELDS                 -0.182097       -0.204373  \n",
      "NON_DEBT_TAX_SHIELDS             -0.401026        0.079265  \n",
      "AGE                               0.061423       -0.064976  \n",
      "LEVERAGE_TOTAL                    0.170321        0.948743  \n",
      "LEVERAGE_LONG                     1.000000       -0.149838  \n",
      "LEVERAGE_SHORT                   -0.149838        1.000000  \n",
      "\n",
      "Non-High-Growth Correlation Matrix:\n",
      "                             SIZE_LOG_ASSETS  SIZE_LOG_SALES  \\\n",
      "SIZE_LOG_ASSETS                     1.000000        0.779741   \n",
      "SIZE_LOG_SALES                      0.779741        1.000000   \n",
      "ASSET_TANGIBILITY                   0.276700        0.044402   \n",
      "GROWTH_OPPORTUNITIES_ASSETS         0.081311        0.030135   \n",
      "LIQUIDITY                          -0.146216       -0.119774   \n",
      "QUICK_RATIO                         0.090020       -0.061299   \n",
      "CURRENT_RATIO                       0.163388        0.038372   \n",
      "ny_vinstprc                         0.000512       -0.022953   \n",
      "DEBT_TAX_SHIELDS                    0.070876        0.054217   \n",
      "NON_DEBT_TAX_SHIELDS               -0.013913        0.040825   \n",
      "AGE                                 0.333763        0.222835   \n",
      "LEVERAGE_TOTAL                     -0.201529       -0.070496   \n",
      "LEVERAGE_LONG                       0.067629       -0.032302   \n",
      "LEVERAGE_SHORT                     -0.330032       -0.074309   \n",
      "\n",
      "                             ASSET_TANGIBILITY  GROWTH_OPPORTUNITIES_ASSETS  \\\n",
      "SIZE_LOG_ASSETS                       0.276700                     0.081311   \n",
      "SIZE_LOG_SALES                        0.044402                     0.030135   \n",
      "ASSET_TANGIBILITY                     1.000000                    -0.040500   \n",
      "GROWTH_OPPORTUNITIES_ASSETS          -0.040500                     1.000000   \n",
      "LIQUIDITY                            -0.423010                     0.064147   \n",
      "QUICK_RATIO                          -0.239723                     0.022712   \n",
      "CURRENT_RATIO                        -0.216064                    -0.002137   \n",
      "ny_vinstprc                          -0.001433                    -0.000734   \n",
      "DEBT_TAX_SHIELDS                     -0.110001                     0.082238   \n",
      "NON_DEBT_TAX_SHIELDS                 -0.570564                     0.126230   \n",
      "AGE                                   0.151456                    -0.094348   \n",
      "LEVERAGE_TOTAL                        0.062176                    -0.035632   \n",
      "LEVERAGE_LONG                         0.407608                    -0.024399   \n",
      "LEVERAGE_SHORT                       -0.213172                    -0.031625   \n",
      "\n",
      "                             LIQUIDITY  QUICK_RATIO  CURRENT_RATIO  \\\n",
      "SIZE_LOG_ASSETS              -0.146216     0.090020       0.163388   \n",
      "SIZE_LOG_SALES               -0.119774    -0.061299       0.038372   \n",
      "ASSET_TANGIBILITY            -0.423010    -0.239723      -0.216064   \n",
      "GROWTH_OPPORTUNITIES_ASSETS   0.064147     0.022712      -0.002137   \n",
      "LIQUIDITY                     1.000000     0.455380       0.291241   \n",
      "QUICK_RATIO                   0.455380     1.000000       0.778181   \n",
      "CURRENT_RATIO                 0.291241     0.778181       1.000000   \n",
      "ny_vinstprc                  -0.002368    -0.001345      -0.001399   \n",
      "DEBT_TAX_SHIELDS              0.170924     0.112040       0.087870   \n",
      "NON_DEBT_TAX_SHIELDS          0.237282     0.178754       0.185453   \n",
      "AGE                          -0.111107     0.028012       0.118829   \n",
      "LEVERAGE_TOTAL               -0.209249    -0.276313      -0.244284   \n",
      "LEVERAGE_LONG                -0.295939    -0.152618      -0.094255   \n",
      "LEVERAGE_SHORT               -0.073491    -0.272136      -0.270492   \n",
      "\n",
      "                             ny_vinstprc  DEBT_TAX_SHIELDS  \\\n",
      "SIZE_LOG_ASSETS                 0.000512          0.070876   \n",
      "SIZE_LOG_SALES                 -0.022953          0.054217   \n",
      "ASSET_TANGIBILITY              -0.001433         -0.110001   \n",
      "GROWTH_OPPORTUNITIES_ASSETS    -0.000734          0.082238   \n",
      "LIQUIDITY                      -0.002368          0.170924   \n",
      "QUICK_RATIO                    -0.001345          0.112040   \n",
      "CURRENT_RATIO                  -0.001399          0.087870   \n",
      "ny_vinstprc                     1.000000          0.000339   \n",
      "DEBT_TAX_SHIELDS                0.000339          1.000000   \n",
      "NON_DEBT_TAX_SHIELDS            0.007704          0.142367   \n",
      "AGE                             0.001307          0.023682   \n",
      "LEVERAGE_TOTAL                 -0.002921         -0.284727   \n",
      "LEVERAGE_LONG                  -0.001669         -0.271813   \n",
      "LEVERAGE_SHORT                 -0.002836         -0.196213   \n",
      "\n",
      "                             NON_DEBT_TAX_SHIELDS       AGE  LEVERAGE_TOTAL  \\\n",
      "SIZE_LOG_ASSETS                         -0.013913  0.333763       -0.201529   \n",
      "SIZE_LOG_SALES                           0.040825  0.222835       -0.070496   \n",
      "ASSET_TANGIBILITY                       -0.570564  0.151456        0.062176   \n",
      "GROWTH_OPPORTUNITIES_ASSETS              0.126230 -0.094348       -0.035632   \n",
      "LIQUIDITY                                0.237282 -0.111107       -0.209249   \n",
      "QUICK_RATIO                              0.178754  0.028012       -0.276313   \n",
      "CURRENT_RATIO                            0.185453  0.118829       -0.244284   \n",
      "ny_vinstprc                              0.007704  0.001307       -0.002921   \n",
      "DEBT_TAX_SHIELDS                         0.142367  0.023682       -0.284727   \n",
      "NON_DEBT_TAX_SHIELDS                     1.000000 -0.011584       -0.142979   \n",
      "AGE                                     -0.011584  1.000000       -0.103049   \n",
      "LEVERAGE_TOTAL                          -0.142979 -0.103049        1.000000   \n",
      "LEVERAGE_LONG                           -0.261187  0.037379        0.721312   \n",
      "LEVERAGE_SHORT                          -0.006861 -0.170814        0.860662   \n",
      "\n",
      "                             LEVERAGE_LONG  LEVERAGE_SHORT  \n",
      "SIZE_LOG_ASSETS                   0.067629       -0.330032  \n",
      "SIZE_LOG_SALES                   -0.032302       -0.074309  \n",
      "ASSET_TANGIBILITY                 0.407608       -0.213172  \n",
      "GROWTH_OPPORTUNITIES_ASSETS      -0.024399       -0.031625  \n",
      "LIQUIDITY                        -0.295939       -0.073491  \n",
      "QUICK_RATIO                      -0.152618       -0.272136  \n",
      "CURRENT_RATIO                    -0.094255       -0.270492  \n",
      "ny_vinstprc                      -0.001669       -0.002836  \n",
      "DEBT_TAX_SHIELDS                 -0.271813       -0.196213  \n",
      "NON_DEBT_TAX_SHIELDS             -0.261187       -0.006861  \n",
      "AGE                               0.037379       -0.170814  \n",
      "LEVERAGE_TOTAL                    0.721312        0.860662  \n",
      "LEVERAGE_LONG                     1.000000        0.268146  \n",
      "LEVERAGE_SHORT                    0.268146        1.000000  \n"
     ]
    }
   ],
   "source": [
    "\"\"\"\n",
    "Correlation matrix\n",
    "\"\"\"\n",
    "\n",
    "HGF_df_corr = HGF_df[control_vars + dependent_vars].corr()\n",
    "non_HGF_df_corr = non_HGF_df[control_vars + dependent_vars].corr()\n",
    "\n",
    "print(\"High-Growth Correlation Matrix:\")\n",
    "print(HGF_df_corr)\n",
    "\n",
    "\n",
    "print(\"\\nNon-High-Growth Correlation Matrix:\")\n",
    "print(non_HGF_df_corr)"
   ]
  }
 ],
 "metadata": {
  "kernelspec": {
   "display_name": "venv-thesis",
   "language": "python",
   "name": "python3"
  },
  "language_info": {
   "codemirror_mode": {
    "name": "ipython",
    "version": 3
   },
   "file_extension": ".py",
   "mimetype": "text/x-python",
   "name": "python",
   "nbconvert_exporter": "python",
   "pygments_lexer": "ipython3",
   "version": "3.12.8"
  }
 },
 "nbformat": 4,
 "nbformat_minor": 2
}
