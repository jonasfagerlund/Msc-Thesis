{
 "cells": [
  {
   "cell_type": "code",
   "execution_count": 2,
   "metadata": {},
   "outputs": [],
   "source": [
    "import pandas as pd\n",
    "\n",
    "df = pd.read_stata(\"./serrano/serrano_2024_Stata/serrano.dta\")\n"
   ]
  },
  {
   "cell_type": "markdown",
   "metadata": {},
   "source": [
    "['ORGNR', 'KOMORGNR', 'KOMNAMN', 'BSTYP', 'STATUS', 'REDTYP', 'BELKOD', 'UTDBEL', 'NTOMS', 'LAGERF', 'AKTARB', 'ROINTOV1', 'RAVAR', 'HANDVAR', 'EXTKOSOV', 'PERSKOS', 'AVSKRIV', 'JFRST1', 'RORKOOV1', 'RORRESUL', 'RESAND', 'RTEINKNC', 'RTEINEXT', 'RTEINOV', 'RTEKOKNC', 'RTEKOEXT', 'RTEKOOV', 'JFRSTFIN', 'RESEFIN', 'EXTRAINT', 'EXTRAKOS', 'KNCBDR', 'AGTSK', 'BSLDISP', 'SKATTER', 'MININTRR', 'RESAR', 'KOSALVAR', 'BRUTORES', 'FORSKO', 'ADMKO', 'FOUKO', 'JFRST2', 'ROINTOV2', 'RORKOOV2', 'EJINBET', 'FOUBAUTG', 'PATLIC', 'GOODWILL', 'IMANLOV', 'IMANLSU', 'BYGGMARK', 'MASK', 'INVENT', 'MASKINV', 'MATANLOV', 'MATANLSU', 'ANDKNC', 'LFORDKNC', 'LANDELAG', 'FIANLTOV', 'FIANLTSU', 'ANLTSU', 'PAGARB', 'LAGEROV', 'LAGERSU', 'KUNDFORD', 'KFORDKNC', 'KFORDOV', 'KFORDSU', 'KPLACSU', 'KABASU', 'OMSTGSU', 'TILLGSU', 'AKTIEKAP', 'OVERKURS', 'UPPSKR', 'OVRGBKAP', 'BALRES', 'KNCBDREL', 'AGTSKEL', 'RESARB', 'EKSU', 'OBESKRES', 'MININTR', 'AVSSU', 'LSKKRIN', 'LSKKNC', 'LSKOV', 'LSKSU', 'KSKKRIN', 'KSKLEV', 'KSKKNC', 'KSKOV', 'KSKSU', 'EKSKSU', 'RTENTO', 'ANTANST', 'LONLEDN', 'LONOV', 'SOCKOSTN', 'TANTLEDN', 'RESLONOV', 'AVGVED', 'AVSKSALV', 'AVSKFSG', 'AVSKADM', 'AVSKFOU', 'AVSKOV2', 'AVSKOSPC', 'INTFTG', 'INTFAST', 'SAKOV', 'SAKKOM', 'SAKSU', 'AGTSKV', 'ANSVFOV', 'ANSVFKOM', 'ANSVFSU', 'CHKRBEV', 'CHKRUTN', 'REVBER', 'BOLSTPRO', 'MODDTM', 'BSLSTART', 'BSLSLUT']"
   ]
  },
  {
   "cell_type": "code",
   "execution_count": 4,
   "metadata": {},
   "outputs": [
    {
     "name": "stderr",
     "output_type": "stream",
     "text": [
      "/var/folders/pd/d0m27jy17d36rd2w_8y762cr0000gn/T/ipykernel_61706/1801518813.py:10: FutureWarning: The default fill_method='ffill' in SeriesGroupBy.pct_change is deprecated and will be removed in a future version. Either fill in any non-leading NA values prior to calling pct_change or specify 'fill_method=None' to not fill NA values.\n",
      "  filtered_df['TURNOVER_GROWTH'] = filtered_df.groupby('ORGNR')['rr01_ntoms'].pct_change()\n",
      "/var/folders/pd/d0m27jy17d36rd2w_8y762cr0000gn/T/ipykernel_61706/1801518813.py:10: PerformanceWarning: DataFrame is highly fragmented.  This is usually the result of calling `frame.insert` many times, which has poor performance.  Consider joining all columns at once using pd.concat(axis=1) instead. To get a de-fragmented frame, use `newframe = frame.copy()`\n",
      "  filtered_df['TURNOVER_GROWTH'] = filtered_df.groupby('ORGNR')['rr01_ntoms'].pct_change()\n",
      "/var/folders/pd/d0m27jy17d36rd2w_8y762cr0000gn/T/ipykernel_61706/1801518813.py:10: SettingWithCopyWarning: \n",
      "A value is trying to be set on a copy of a slice from a DataFrame.\n",
      "Try using .loc[row_indexer,col_indexer] = value instead\n",
      "\n",
      "See the caveats in the documentation: https://pandas.pydata.org/pandas-docs/stable/user_guide/indexing.html#returning-a-view-versus-a-copy\n",
      "  filtered_df['TURNOVER_GROWTH'] = filtered_df.groupby('ORGNR')['rr01_ntoms'].pct_change()\n",
      "/var/folders/pd/d0m27jy17d36rd2w_8y762cr0000gn/T/ipykernel_61706/1801518813.py:13: DeprecationWarning: DataFrameGroupBy.apply operated on the grouping columns. This behavior is deprecated, and in a future version of pandas the grouping columns will be excluded from the operation. Either pass `include_groups=False` to exclude the groupings or explicitly select the grouping columns after groupby to silence this warning.\n",
      "  filtered_df['HIGH_GROWTH'] = filtered_df.groupby('ORGNR').apply(\n",
      "/var/folders/pd/d0m27jy17d36rd2w_8y762cr0000gn/T/ipykernel_61706/1801518813.py:13: PerformanceWarning: DataFrame is highly fragmented.  This is usually the result of calling `frame.insert` many times, which has poor performance.  Consider joining all columns at once using pd.concat(axis=1) instead. To get a de-fragmented frame, use `newframe = frame.copy()`\n",
      "  filtered_df['HIGH_GROWTH'] = filtered_df.groupby('ORGNR').apply(\n",
      "/var/folders/pd/d0m27jy17d36rd2w_8y762cr0000gn/T/ipykernel_61706/1801518813.py:13: SettingWithCopyWarning: \n",
      "A value is trying to be set on a copy of a slice from a DataFrame.\n",
      "Try using .loc[row_indexer,col_indexer] = value instead\n",
      "\n",
      "See the caveats in the documentation: https://pandas.pydata.org/pandas-docs/stable/user_guide/indexing.html#returning-a-view-versus-a-copy\n",
      "  filtered_df['HIGH_GROWTH'] = filtered_df.groupby('ORGNR').apply(\n"
     ]
    }
   ],
   "source": [
    "# Filter the DataFrame\n",
    "filtered_df = df[(df['ser_year'] >= 2007) & # remove data before 2007\n",
    "                 (df['ser_jurform'] == 49) & # aktiebolag\n",
    "                 (df['ser_aktiv'] == 1) & # active companies\n",
    "                 (df['ser_ftgkategori'] == 30)] # private companies, i.e., not state-owned etc.\n",
    "\n",
    "\n",
    "\n",
    "# Calculate the annual growth rate for each company and add it as a new column\n",
    "filtered_df['TURNOVER_GROWTH'] = filtered_df.groupby('ORGNR')['rr01_ntoms'].pct_change()\n",
    "\n",
    "# Identify high-growth periods and create a new binary column\n",
    "filtered_df['HIGH_GROWTH'] = filtered_df.groupby('ORGNR').apply(\n",
    "    lambda x: ((x['TURNOVER_GROWTH'] > 0.20).rolling(window=3).sum() == 3) & \n",
    "              (x['ser_stklf'].iloc[0] in [3, 4, 5, 6, 7]) # only consider companies with at least 10 employees, based on size category\n",
    ").reset_index(level=0, drop=True).astype(int)\n",
    "\n"
   ]
  },
  {
   "cell_type": "code",
   "execution_count": 5,
   "metadata": {},
   "outputs": [],
   "source": [
    "# Drop rows where ser_year is 2007\n",
    "# it is there in in the first place in order to calculate the growth rate for 2008.\n",
    "filtered_df = filtered_df[filtered_df['ser_year'] != 2007]"
   ]
  },
  {
   "cell_type": "code",
   "execution_count": 27,
   "metadata": {},
   "outputs": [
    {
     "data": {
      "text/plain": [
       "855819"
      ]
     },
     "execution_count": 27,
     "metadata": {},
     "output_type": "execute_result"
    }
   ],
   "source": [
    "filtered_df['ORGNR'].nunique() # amount of companies in this filtered dataset."
   ]
  },
  {
   "cell_type": "code",
   "execution_count": 48,
   "metadata": {},
   "outputs": [],
   "source": [
    "# add one industry to all companies.\n",
    "dict_of_industries = {\n",
    "    10: 'Energy & Environment',\n",
    "    15: 'Materials',\n",
    "    20: 'Industrial goods',\n",
    "    22: 'Construction industry',\n",
    "    25: 'Shopping goods',\n",
    "    30: 'Convenience goods',\n",
    "    35: 'Health & Education',\n",
    "    40: 'Finance & Real estate',\n",
    "    45: 'IT & Electronics',\n",
    "    50: 'Telecom & Media',\n",
    "    60: 'Corporate services',\n",
    "    98: 'Other',\n",
    "    99: 'SNI07 missing'\n",
    "}\n",
    "\n",
    "# Determine the most frequent 'bransch_borsbransch_konv' value for each company\n",
    "most_frequent_industry = filtered_df.groupby('ORGNR')['bransch_borsbransch_konv'].agg(lambda x: x.mode()[0])\n",
    "\n",
    "# Map the most frequent 'bransch_borsbransch_konv' value to the corresponding industry name\n",
    "most_frequent_industry = most_frequent_industry.map(dict_of_industries)\n",
    "\n",
    "# Add the new 'INDUSTRY' column to the DataFrame\n",
    "filtered_df = filtered_df.merge(most_frequent_industry.rename('INDUSTRY'), on='ORGNR')"
   ]
  },
  {
   "cell_type": "code",
   "execution_count": 69,
   "metadata": {},
   "outputs": [],
   "source": [
    "# Filter out rows where the 'INDUSTRY' column is 'SNI07 missing' or 'Other'\n",
    "filtered_df = filtered_df[~filtered_df['INDUSTRY'].isin(['SNI07 missing', 'Other'])]"
   ]
  },
  {
   "cell_type": "code",
   "execution_count": 70,
   "metadata": {},
   "outputs": [
    {
     "name": "stdout",
     "output_type": "stream",
     "text": [
      "6044218\n",
      "748773\n"
     ]
    }
   ],
   "source": [
    "print(len(filtered_df))\n",
    "print(len(filtered_df['ORGNR'].unique()))"
   ]
  },
  {
   "cell_type": "code",
   "execution_count": 71,
   "metadata": {},
   "outputs": [
    {
     "name": "stdout",
     "output_type": "stream",
     "text": [
      "745597\n"
     ]
    }
   ],
   "source": [
    "# Create DataFrame with high-growth companies\n",
    "high_growth_orgnr = filtered_df[filtered_df['HIGH_GROWTH'] == 1]['ORGNR'].unique()\n",
    "high_growth_df = filtered_df[filtered_df['ORGNR'].isin(high_growth_orgnr)]\n",
    "\n",
    "# Create DataFrame with non-high-growth companies\n",
    "non_high_growth_df = filtered_df[~filtered_df['ORGNR'].isin(high_growth_orgnr)]\n",
    "\n",
    "# Create a DataFrame with unique high-growth companies\n",
    "unique_high_growth_df = high_growth_df.drop_duplicates(subset='ORGNR')\n",
    "\n",
    "# Create a DataFrame with unique non-high-growth companies\n",
    "unique_non_high_growth_df = non_high_growth_df.drop_duplicates(subset='ORGNR')\n",
    "print(len(unique_non_high_growth_df))\n",
    "\n"
   ]
  },
  {
   "cell_type": "code",
   "execution_count": 72,
   "metadata": {},
   "outputs": [
    {
     "name": "stdout",
     "output_type": "stream",
     "text": [
      "748773\n"
     ]
    },
    {
     "data": {
      "text/plain": [
       "748773"
      ]
     },
     "execution_count": 72,
     "metadata": {},
     "output_type": "execute_result"
    }
   ],
   "source": [
    "# Combine the unique high-growth companies with the non-high-growth companies\n",
    "combined_df = pd.concat([unique_high_growth_df, unique_non_high_growth_df])\n",
    "\n",
    "print(len(combined_df))\n",
    "combined_df['ORGNR'].nunique()\n"
   ]
  },
  {
   "cell_type": "code",
   "execution_count": 73,
   "metadata": {},
   "outputs": [
    {
     "name": "stdout",
     "output_type": "stream",
     "text": [
      "INDUSTRY\n",
      "Corporate services        29.108822\n",
      "Shopping goods            19.067862\n",
      "Finance & Real estate     14.868458\n",
      "Construction industry     11.906946\n",
      "Health & Education         6.502505\n",
      "IT & Electronics           6.119211\n",
      "Industrial goods           5.481768\n",
      "Convenience goods          3.209250\n",
      "Telecom & Media            1.931159\n",
      "Materials                  1.163370\n",
      "Energy & Environment       0.640648\n",
      "Total                    100.000000\n",
      "Name: proportion, dtype: float64\n",
      "INDUSTRY\n",
      "Corporate services        25.440806\n",
      "Construction industry     18.891688\n",
      "Shopping goods            15.144836\n",
      "Health & Education        11.901763\n",
      "Industrial goods           9.130982\n",
      "IT & Electronics           8.123426\n",
      "Finance & Real estate      4.345088\n",
      "Convenience goods          3.557935\n",
      "Telecom & Media            1.605793\n",
      "Materials                  1.133501\n",
      "Energy & Environment       0.724181\n",
      "Total                    100.000000\n",
      "Name: proportion, dtype: float64\n"
     ]
    }
   ],
   "source": [
    "# Calculate the percentage of each industry among all companies\n",
    "industry_percentage = combined_df['INDUSTRY'].value_counts(normalize=True) * 100\n",
    "\n",
    "# Calculate the total percentage to check for rounding errors\n",
    "total_percentage = industry_percentage.sum()\n",
    "\n",
    "# If the total percentage is not exactly 100, adjust the last value\n",
    "if total_percentage != 100:\n",
    "    difference = 100 - total_percentage\n",
    "    industry_percentage.iloc[-1] += difference\n",
    "\n",
    "# Add a row for the total percentage\n",
    "industry_percentage['Total'] = industry_percentage.sum()\n",
    "\n",
    "# Display the result\n",
    "print(industry_percentage)\n",
    "\n",
    "# Calculate the percentage of each industry among high-growth companies\n",
    "industry_percentage = unique_high_growth_df['INDUSTRY'].value_counts(normalize=True) * 100\n",
    "\n",
    "# Calculate the total percentage to check for rounding errors\n",
    "total_percentage = industry_percentage.sum()\n",
    "\n",
    "# If the total percentage is not exactly 100, adjust the last value\n",
    "if total_percentage != 100:\n",
    "    difference = 100 - total_percentage\n",
    "    industry_percentage.iloc[-1] += difference\n",
    "\n",
    "# Add a row for the total percentage\n",
    "industry_percentage['Total'] = industry_percentage.sum()\n",
    "\n",
    "# Display the result\n",
    "print(industry_percentage)"
   ]
  },
  {
   "cell_type": "code",
   "execution_count": 77,
   "metadata": {},
   "outputs": [
    {
     "name": "stdout",
     "output_type": "stream",
     "text": [
      "INDUSTRY\n",
      "Materials                497.986084\n",
      "Energy & Environment     390.624635\n",
      "Telecom & Media          382.739405\n",
      "Industrial goods         348.308912\n",
      "Convenience goods        331.309172\n",
      "IT & Electronics         132.213467\n",
      "Health & Education       109.167428\n",
      "Shopping goods            92.105013\n",
      "Finance & Real estate     59.755473\n",
      "Corporate services        41.309224\n",
      "Construction industry     22.375015\n",
      "Name: br01c_goodwill, dtype: float64\n",
      "INDUSTRY\n",
      "Energy & Environment     1640.782609\n",
      "Industrial goods         1202.579310\n",
      "IT & Electronics          821.957364\n",
      "Shopping goods            465.765073\n",
      "Telecom & Media           441.392157\n",
      "Finance & Real estate     355.543478\n",
      "Health & Education        270.045093\n",
      "Corporate services        189.128713\n",
      "Convenience goods         143.256637\n",
      "Construction industry      90.576667\n",
      "Materials                  24.194444\n",
      "Name: br01c_goodwill, dtype: float64\n"
     ]
    }
   ],
   "source": [
    "# Calculate the average goodwill for each industry among all companies\n",
    "avg_goodwill_by_industry_all = combined_df.groupby('INDUSTRY')['br01c_goodwill'].mean()\n",
    "\n",
    "# Sort by average goodwill in descending order\n",
    "average_goodwill_by_industry = avg_goodwill_by_industry_all.sort_values(ascending=False)\n",
    "\n",
    "# Display the result\n",
    "print(average_goodwill_by_industry)\n",
    "\n",
    "# Calculate the average goodwill for each industry among HGFs\n",
    "avg_goodwill_by_industry_high_growth = unique_high_growth_df.groupby('INDUSTRY')['br01c_goodwill'].mean()\n",
    "\n",
    "# Sort by average goodwill in descending order\n",
    "avg_goodwill_by_industry_high_growth = avg_goodwill_by_industry_high_growth.sort_values(ascending=False)\n",
    "\n",
    "# Display the result\n",
    "print(avg_goodwill_by_industry_high_growth)"
   ]
  },
  {
   "cell_type": "code",
   "execution_count": 79,
   "metadata": {},
   "outputs": [
    {
     "name": "stdout",
     "output_type": "stream",
     "text": [
      "INDUSTRY\n",
      "Energy & Environment     78480.619058\n",
      "Materials                54578.830291\n",
      "Industrial goods         32304.837678\n",
      "Convenience goods        26141.727462\n",
      "Telecom & Media          10364.867266\n",
      "IT & Electronics          9717.199611\n",
      "Shopping goods            8499.029328\n",
      "Finance & Real estate     6526.425732\n",
      "Health & Education        6125.557360\n",
      "Construction industry     5311.540996\n",
      "Corporate services        3590.959140\n",
      "Name: rr01_ntoms, dtype: float64\n",
      "INDUSTRY\n",
      "Energy & Environment     598452.608696\n",
      "Materials                208656.555556\n",
      "Industrial goods          78146.003448\n",
      "Convenience goods         57652.884956\n",
      "Finance & Real estate     52445.391304\n",
      "Shopping goods            43833.178794\n",
      "IT & Electronics          35949.639535\n",
      "Construction industry     35207.168333\n",
      "Telecom & Media           33354.235294\n",
      "Corporate services        30488.123762\n",
      "Health & Education        26076.828042\n",
      "Name: rr01_ntoms, dtype: float64\n"
     ]
    }
   ],
   "source": [
    "# Calculate the average goodwill for each industry among all companies\n",
    "avg_sales_by_industry_all = combined_df.groupby('INDUSTRY')['rr01_ntoms'].mean()\n",
    "\n",
    "# Sort by average goodwill in descending order\n",
    "average_sales_by_industry = avg_goodwill_by_industry_all.sort_values(ascending=False)\n",
    "\n",
    "# Display the result\n",
    "print(average_sales_by_industry)\n",
    "\n",
    "# Calculate the average goodwill for each industry among HGFs\n",
    "avg_sales_by_industry_high_growth = unique_high_growth_df.groupby('INDUSTRY')['rr01_ntoms'].mean()\n",
    "\n",
    "# Sort by average goodwill in descending order\n",
    "avg_sales_by_industry_high_growth = avg_sales_by_industry_high_growth.sort_values(ascending=False)\n",
    "\n",
    "# Display the result\n",
    "print(avg_sales_by_industry_high_growth)"
   ]
  },
  {
   "cell_type": "code",
   "execution_count": 80,
   "metadata": {},
   "outputs": [
    {
     "name": "stdout",
     "output_type": "stream",
     "text": [
      "Average size category by industry (all companies):\n",
      "INDUSTRY\n",
      "Industrial goods         1.249501\n",
      "Convenience goods        1.080275\n",
      "Materials                1.071634\n",
      "Construction industry    1.012730\n",
      "Shopping goods           0.936095\n",
      "Health & Education       0.864014\n",
      "IT & Electronics         0.821188\n",
      "Corporate services       0.792355\n",
      "Telecom & Media          0.768050\n",
      "Energy & Environment     0.690015\n",
      "Finance & Real estate    0.268326\n",
      "Name: ser_stklf, dtype: float64\n",
      "\n",
      "Average size category by industry (high-growth firms):\n",
      "INDUSTRY\n",
      "Materials                4.083333\n",
      "Energy & Environment     3.956522\n",
      "Health & Education       3.695767\n",
      "Telecom & Media          3.627451\n",
      "Industrial goods         3.558621\n",
      "Corporate services       3.461634\n",
      "Shopping goods           3.457380\n",
      "IT & Electronics         3.441860\n",
      "Convenience goods        3.389381\n",
      "Construction industry    3.360000\n",
      "Finance & Real estate    3.275362\n",
      "Name: ser_stklf, dtype: float64\n"
     ]
    }
   ],
   "source": [
    "# Assuming 'combined_df' is your DataFrame and 'ser_stklf' is the column for size category\n",
    "\n",
    "# Calculate the average size category for each industry among all companies\n",
    "avg_size_by_industry_all = combined_df.groupby('INDUSTRY')['ser_stklf'].mean()\n",
    "\n",
    "# Sort by average size category in descending order\n",
    "avg_size_by_industry_all = avg_size_by_industry_all.sort_values(ascending=False)\n",
    "\n",
    "# Display the result\n",
    "print(\"Average size category by industry (all companies):\")\n",
    "print(avg_size_by_industry_all)\n",
    "\n",
    "# Calculate the average size category for each industry among HGFs\n",
    "avg_size_by_industry_high_growth = unique_high_growth_df.groupby('INDUSTRY')['ser_stklf'].mean()\n",
    "\n",
    "# Sort by average size category in descending order\n",
    "avg_size_by_industry_high_growth = avg_size_by_industry_high_growth.sort_values(ascending=False)\n",
    "\n",
    "# Display the result\n",
    "print(\"\\nAverage size category by industry (high-growth firms):\")\n",
    "print(avg_size_by_industry_high_growth)"
   ]
  },
  {
   "cell_type": "code",
   "execution_count": 18,
   "metadata": {},
   "outputs": [
    {
     "name": "stdout",
     "output_type": "stream",
     "text": [
      "Filtered data saved to ./serrano/serrano_2024_Stata/firms.xlsx\n"
     ]
    }
   ],
   "source": [
    "# Save the filtered DataFrame to an Excel file\n",
    "output_path = \"./serrano/serrano_2024_Stata/firms.xlsx\"\n",
    "filtered_df.head(20000).to_excel(output_path, index=False)\n",
    "\n",
    "print(f\"Filtered data saved to {output_path}\")"
   ]
  }
 ],
 "metadata": {
  "kernelspec": {
   "display_name": "venv-thesis",
   "language": "python",
   "name": "python3"
  },
  "language_info": {
   "codemirror_mode": {
    "name": "ipython",
    "version": 3
   },
   "file_extension": ".py",
   "mimetype": "text/x-python",
   "name": "python",
   "nbconvert_exporter": "python",
   "pygments_lexer": "ipython3",
   "version": "3.12.8"
  }
 },
 "nbformat": 4,
 "nbformat_minor": 2
}
