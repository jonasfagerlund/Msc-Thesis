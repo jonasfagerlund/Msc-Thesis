{
 "cells": [
  {
   "cell_type": "code",
   "execution_count": null,
   "metadata": {
    "vscode": {
     "languageId": "plaintext"
    }
   },
   "outputs": [],
   "source": [
    "df = pd.read_stata(\"./stata_202408/bokslut_hhs_avi202408.dta\")\n",
    "\n",
    "print(df.count())\n",
    "\n",
    "print(df.columns)"
   ]
  }
 ],
 "metadata": {
  "language_info": {
   "name": "python"
  }
 },
 "nbformat": 4,
 "nbformat_minor": 2
}
